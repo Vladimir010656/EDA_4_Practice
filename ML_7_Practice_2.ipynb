{
  "cells": [
    {
      "cell_type": "markdown",
      "metadata": {
        "id": "view-in-github",
        "colab_type": "text"
      },
      "source": [
        "<a href=\"https://colab.research.google.com/github/Vladimir010656/EDA_4_Practice/blob/main/ML_7_Practice_2.ipynb\" target=\"_parent\"><img src=\"https://colab.research.google.com/assets/colab-badge.svg\" alt=\"Open In Colab\"/></a>"
      ]
    },
    {
      "cell_type": "markdown",
      "id": "AoeSkz4KaANH",
      "metadata": {
        "id": "AoeSkz4KaANH"
      },
      "source": [
        "# ML_7 Практика"
      ]
    },
    {
      "cell_type": "markdown",
      "id": "e62bdfd0",
      "metadata": {
        "id": "e62bdfd0"
      },
      "source": [
        "### Описание задачи"
      ]
    },
    {
      "cell_type": "markdown",
      "id": "c8a0c2ed",
      "metadata": {
        "id": "c8a0c2ed"
      },
      "source": [
        "Необходимо предсказать биологический ответ молекул (столбец 'Activity') по их химическому составу (столбцы D1-D1776).\n",
        "\n",
        "Данные представлены в формате CSV.  Каждая строка представляет молекулу.\n",
        "\n",
        "Первый столбец Activity содержит экспериментальные данные, описывающие фактический биологический ответ [0, 1];\n",
        "Остальные столбцы D1-D1776 представляют собой молекулярные дескрипторы — это вычисляемые свойства, которые могут фиксировать некоторые характеристики молекулы, например размер, форму или состав элементов."
      ]
    },
    {
      "cell_type": "code",
      "execution_count": null,
      "id": "d8q91-MSaAOG",
      "metadata": {
        "colab": {
          "base_uri": "https://localhost:8080/"
        },
        "id": "d8q91-MSaAOG",
        "outputId": "481a81d1-23ff-4cbb-c23b-e6855ce6c984"
      },
      "outputs": [
        {
          "name": "stderr",
          "output_type": "stream",
          "text": [
            "C:\\Users\\Vladimir\\AppData\\Local\\Temp\\ipykernel_12972\\2150022218.py:15: MatplotlibDeprecationWarning: The seaborn styles shipped by Matplotlib are deprecated since 3.6, as they no longer correspond to the styles shipped by seaborn. However, they will remain available as 'seaborn-v0_8-<style>'. Alternatively, directly use the seaborn API instead.\n",
            "  plt.style.use('seaborn')\n"
          ]
        }
      ],
      "source": [
        "#импорт библиотек\n",
        "import numpy as np #для матричных вычислений\n",
        "import pandas as pd #для анализа и предобработки данных\n",
        "import matplotlib.pyplot as plt #для визуализации\n",
        "import seaborn as sns #для визуализации\n",
        "\n",
        "from sklearn import linear_model #линейные моделиё\n",
        "from sklearn import tree #деревья решений\n",
        "from sklearn import ensemble #ансамбли\n",
        "from sklearn import metrics #метрики\n",
        "from sklearn import preprocessing #предобработка\n",
        "from sklearn.model_selection import train_test_split #сплитование выборки\n",
        "\n",
        "%matplotlib inline\n",
        "plt.style.use('seaborn')"
      ]
    },
    {
      "cell_type": "markdown",
      "id": "8lbyun1kaAOy",
      "metadata": {
        "id": "8lbyun1kaAOy",
        "tags": []
      },
      "source": [
        "### Знакомство с данными и их исследование"
      ]
    },
    {
      "cell_type": "markdown",
      "id": "36a328fb",
      "metadata": {
        "id": "36a328fb"
      },
      "source": [
        "Необходимо предсказать биологический ответ молекул (столбец 'Activity') по их химическому составу (столбцы D1-D1776).\n",
        "\n",
        "Данные представлены в формате CSV.  Каждая строка представляет молекулу.\n",
        "\n",
        "Первый столбец Activity содержит экспериментальные данные, описывающие фактический биологический ответ [0, 1];\n",
        "Остальные столбцы D1-D1776 представляют собой молекулярные дескрипторы — это вычисляемые свойства, которые могут фиксировать некоторые характеристики молекулы, например размер, форму или состав элементов."
      ]
    },
    {
      "cell_type": "markdown",
      "id": "4a98f9f9",
      "metadata": {
        "id": "4a98f9f9"
      },
      "source": [
        "Предварительная обработка не требуется, данные уже закодированы и нормализованы.\n",
        "\n",
        "В качестве метрики будем использовать F1-score.\n",
        "\n",
        "Необходимо обучить две модели: логистическую регрессию и случайный лес. Далее нужно сделать подбор гиперпараметров с помощью базовых и продвинутых методов оптимизации. Важно использовать все четыре метода (GridSeachCV, RandomizedSearchCV, Hyperopt, Optuna) хотя бы по разу, максимальное количество итераций не должно превышать 50."
      ]
    },
    {
      "cell_type": "code",
      "execution_count": null,
      "id": "p770SmlfaAO3",
      "metadata": {
        "colab": {
          "base_uri": "https://localhost:8080/",
          "height": 273
        },
        "id": "p770SmlfaAO3",
        "outputId": "19d62453-f91d-477b-8121-381ac6a50e9e"
      },
      "outputs": [
        {
          "data": {
            "text/html": [
              "<div>\n",
              "<style scoped>\n",
              "    .dataframe tbody tr th:only-of-type {\n",
              "        vertical-align: middle;\n",
              "    }\n",
              "\n",
              "    .dataframe tbody tr th {\n",
              "        vertical-align: top;\n",
              "    }\n",
              "\n",
              "    .dataframe thead th {\n",
              "        text-align: right;\n",
              "    }\n",
              "</style>\n",
              "<table border=\"1\" class=\"dataframe\">\n",
              "  <thead>\n",
              "    <tr style=\"text-align: right;\">\n",
              "      <th></th>\n",
              "      <th>Activity</th>\n",
              "      <th>D1</th>\n",
              "      <th>D2</th>\n",
              "      <th>D3</th>\n",
              "      <th>D4</th>\n",
              "      <th>D5</th>\n",
              "      <th>D6</th>\n",
              "      <th>D7</th>\n",
              "      <th>D8</th>\n",
              "      <th>D9</th>\n",
              "      <th>...</th>\n",
              "      <th>D1767</th>\n",
              "      <th>D1768</th>\n",
              "      <th>D1769</th>\n",
              "      <th>D1770</th>\n",
              "      <th>D1771</th>\n",
              "      <th>D1772</th>\n",
              "      <th>D1773</th>\n",
              "      <th>D1774</th>\n",
              "      <th>D1775</th>\n",
              "      <th>D1776</th>\n",
              "    </tr>\n",
              "  </thead>\n",
              "  <tbody>\n",
              "    <tr>\n",
              "      <th>0</th>\n",
              "      <td>1</td>\n",
              "      <td>0.000000</td>\n",
              "      <td>0.497009</td>\n",
              "      <td>0.10</td>\n",
              "      <td>0.0</td>\n",
              "      <td>0.132956</td>\n",
              "      <td>0.678031</td>\n",
              "      <td>0.273166</td>\n",
              "      <td>0.585445</td>\n",
              "      <td>0.743663</td>\n",
              "      <td>...</td>\n",
              "      <td>0</td>\n",
              "      <td>0</td>\n",
              "      <td>0</td>\n",
              "      <td>0</td>\n",
              "      <td>0</td>\n",
              "      <td>0</td>\n",
              "      <td>0</td>\n",
              "      <td>0</td>\n",
              "      <td>0</td>\n",
              "      <td>0</td>\n",
              "    </tr>\n",
              "    <tr>\n",
              "      <th>1</th>\n",
              "      <td>1</td>\n",
              "      <td>0.366667</td>\n",
              "      <td>0.606291</td>\n",
              "      <td>0.05</td>\n",
              "      <td>0.0</td>\n",
              "      <td>0.111209</td>\n",
              "      <td>0.803455</td>\n",
              "      <td>0.106105</td>\n",
              "      <td>0.411754</td>\n",
              "      <td>0.836582</td>\n",
              "      <td>...</td>\n",
              "      <td>1</td>\n",
              "      <td>1</td>\n",
              "      <td>1</td>\n",
              "      <td>1</td>\n",
              "      <td>0</td>\n",
              "      <td>1</td>\n",
              "      <td>0</td>\n",
              "      <td>0</td>\n",
              "      <td>1</td>\n",
              "      <td>0</td>\n",
              "    </tr>\n",
              "    <tr>\n",
              "      <th>2</th>\n",
              "      <td>1</td>\n",
              "      <td>0.033300</td>\n",
              "      <td>0.480124</td>\n",
              "      <td>0.00</td>\n",
              "      <td>0.0</td>\n",
              "      <td>0.209791</td>\n",
              "      <td>0.610350</td>\n",
              "      <td>0.356453</td>\n",
              "      <td>0.517720</td>\n",
              "      <td>0.679051</td>\n",
              "      <td>...</td>\n",
              "      <td>0</td>\n",
              "      <td>0</td>\n",
              "      <td>0</td>\n",
              "      <td>0</td>\n",
              "      <td>0</td>\n",
              "      <td>0</td>\n",
              "      <td>0</td>\n",
              "      <td>0</td>\n",
              "      <td>0</td>\n",
              "      <td>0</td>\n",
              "    </tr>\n",
              "    <tr>\n",
              "      <th>3</th>\n",
              "      <td>1</td>\n",
              "      <td>0.000000</td>\n",
              "      <td>0.538825</td>\n",
              "      <td>0.00</td>\n",
              "      <td>0.5</td>\n",
              "      <td>0.196344</td>\n",
              "      <td>0.724230</td>\n",
              "      <td>0.235606</td>\n",
              "      <td>0.288764</td>\n",
              "      <td>0.805110</td>\n",
              "      <td>...</td>\n",
              "      <td>0</td>\n",
              "      <td>0</td>\n",
              "      <td>0</td>\n",
              "      <td>0</td>\n",
              "      <td>0</td>\n",
              "      <td>0</td>\n",
              "      <td>0</td>\n",
              "      <td>0</td>\n",
              "      <td>0</td>\n",
              "      <td>0</td>\n",
              "    </tr>\n",
              "    <tr>\n",
              "      <th>4</th>\n",
              "      <td>0</td>\n",
              "      <td>0.100000</td>\n",
              "      <td>0.517794</td>\n",
              "      <td>0.00</td>\n",
              "      <td>0.0</td>\n",
              "      <td>0.494734</td>\n",
              "      <td>0.781422</td>\n",
              "      <td>0.154361</td>\n",
              "      <td>0.303809</td>\n",
              "      <td>0.812646</td>\n",
              "      <td>...</td>\n",
              "      <td>0</td>\n",
              "      <td>0</td>\n",
              "      <td>0</td>\n",
              "      <td>0</td>\n",
              "      <td>0</td>\n",
              "      <td>0</td>\n",
              "      <td>0</td>\n",
              "      <td>0</td>\n",
              "      <td>0</td>\n",
              "      <td>0</td>\n",
              "    </tr>\n",
              "  </tbody>\n",
              "</table>\n",
              "<p>5 rows × 1777 columns</p>\n",
              "</div>"
            ],
            "text/plain": [
              "   Activity        D1        D2    D3   D4        D5        D6        D7  \\\n",
              "0         1  0.000000  0.497009  0.10  0.0  0.132956  0.678031  0.273166   \n",
              "1         1  0.366667  0.606291  0.05  0.0  0.111209  0.803455  0.106105   \n",
              "2         1  0.033300  0.480124  0.00  0.0  0.209791  0.610350  0.356453   \n",
              "3         1  0.000000  0.538825  0.00  0.5  0.196344  0.724230  0.235606   \n",
              "4         0  0.100000  0.517794  0.00  0.0  0.494734  0.781422  0.154361   \n",
              "\n",
              "         D8        D9  ...  D1767  D1768  D1769  D1770  D1771  D1772  D1773  \\\n",
              "0  0.585445  0.743663  ...      0      0      0      0      0      0      0   \n",
              "1  0.411754  0.836582  ...      1      1      1      1      0      1      0   \n",
              "2  0.517720  0.679051  ...      0      0      0      0      0      0      0   \n",
              "3  0.288764  0.805110  ...      0      0      0      0      0      0      0   \n",
              "4  0.303809  0.812646  ...      0      0      0      0      0      0      0   \n",
              "\n",
              "   D1774  D1775  D1776  \n",
              "0      0      0      0  \n",
              "1      0      1      0  \n",
              "2      0      0      0  \n",
              "3      0      0      0  \n",
              "4      0      0      0  \n",
              "\n",
              "[5 rows x 1777 columns]"
            ]
          },
          "execution_count": 2,
          "metadata": {},
          "output_type": "execute_result"
        }
      ],
      "source": [
        "#ЕСЛИ РАБОТАЕМ В IDE\n",
        "#data = pd.read_csv('C:/Users/Vladimir/DS/Module5/train_09.csv')\n",
        "\n",
        "#ЕСЛИ РАБОТАЕМ В GOOGLE COLAB\n",
        "# подключаем google диск, где у нас хранятся данные\n",
        "from google.colab import drive\n",
        "drive.mount('/content/drive')\n",
        "# # берем необходимый нам файл с диска, указав путь\n",
        "data = pd.read_csv('/content/train_09.csv')\n",
        "data.head()"
      ]
    },
    {
      "cell_type": "code",
      "execution_count": null,
      "id": "E34sVvwnLshe",
      "metadata": {
        "colab": {
          "base_uri": "https://localhost:8080/"
        },
        "id": "E34sVvwnLshe",
        "outputId": "7ce9d955-3d14-4f9e-fbd9-b385577210fa"
      },
      "outputs": [
        {
          "name": "stdout",
          "output_type": "stream",
          "text": [
            "Drive already mounted at /content/drive; to attempt to forcibly remount, call drive.mount(\"/content/drive\", force_remount=True).\n"
          ]
        }
      ],
      "source": [
        "from google.colab import drive\n",
        "drive.mount('/content/drive')"
      ]
    },
    {
      "cell_type": "markdown",
      "id": "8p3eELnEaAQW",
      "metadata": {
        "id": "8p3eELnEaAQW"
      },
      "source": [
        "Создаем матрицу наблюдений $X$ и вектор ответов $y$"
      ]
    },
    {
      "cell_type": "code",
      "execution_count": null,
      "id": "_2GncsCbaAQY",
      "metadata": {
        "id": "_2GncsCbaAQY"
      },
      "outputs": [],
      "source": [
        "X = data.drop(['Activity'], axis=1)\n",
        "y = data['Activity']"
      ]
    },
    {
      "cell_type": "markdown",
      "id": "q4SyRSFhaAQZ",
      "metadata": {
        "id": "q4SyRSFhaAQZ"
      },
      "source": [
        "Разделяем выборку на тренировочную и тестовую в соотношении 80/20. Для сохранения соотношений целевого признака используем параметр stratify (стратифицированное разбиение)."
      ]
    },
    {
      "cell_type": "code",
      "execution_count": null,
      "id": "Fl_eJIInaAQa",
      "metadata": {
        "id": "Fl_eJIInaAQa"
      },
      "outputs": [],
      "source": [
        "X_train, X_test, y_train, y_test = train_test_split(X, y, stratify=y, random_state = 1, test_size = 0.2)"
      ]
    },
    {
      "cell_type": "markdown",
      "id": "H7DZBta2aAQf",
      "metadata": {
        "id": "H7DZBta2aAQf",
        "tags": []
      },
      "source": [
        "### Оптимизация гиперпараметров модели"
      ]
    },
    {
      "cell_type": "markdown",
      "id": "CE7v-medaAQh",
      "metadata": {
        "id": "CE7v-medaAQh",
        "tags": []
      },
      "source": [
        "#### **Логистическая регрессия**"
      ]
    },
    {
      "cell_type": "markdown",
      "id": "5b6d603a-1ce0-414e-b095-e0f61113c0e7",
      "metadata": {
        "id": "5b6d603a-1ce0-414e-b095-e0f61113c0e7"
      },
      "source": [
        "Зафиксируем только метрики, которые были получены без дополнительной настройки, т.е со значениями гиперпараметров, установленных по умолчанию:"
      ]
    },
    {
      "cell_type": "code",
      "execution_count": null,
      "id": "0aMCHU3-aAQn",
      "metadata": {
        "colab": {
          "base_uri": "https://localhost:8080/"
        },
        "id": "0aMCHU3-aAQn",
        "outputId": "30eb0882-c515-437a-e701-cfefb7ecde2d"
      },
      "outputs": [
        {
          "name": "stdout",
          "output_type": "stream",
          "text": [
            "accuracy на тестовом наборе: 0.76\n",
            "f1_score на тестовом наборе: 0.78\n"
          ]
        }
      ],
      "source": [
        "#Создаем объект класса логистическая регрессия\n",
        "log_reg = linear_model.LogisticRegression(max_iter = 1000)\n",
        "#Обучаем модель, минимизируя logloss\n",
        "log_reg.fit(X_train, y_train)\n",
        "print(\"accuracy на тестовом наборе: {:.2f}\".format(log_reg.score(X_test, y_test)))\n",
        "y_test_pred = log_reg.predict(X_test)\n",
        "print('f1_score на тестовом наборе: {:.2f}'.format(metrics.f1_score(y_test, y_test_pred)))"
      ]
    },
    {
      "cell_type": "markdown",
      "id": "Q6PP7ObJp7WG",
      "metadata": {
        "id": "Q6PP7ObJp7WG"
      },
      "source": [
        "### <center> **GridSearchCV**"
      ]
    },
    {
      "cell_type": "code",
      "execution_count": null,
      "id": "gLkG_sbSkBcu",
      "metadata": {
        "colab": {
          "base_uri": "https://localhost:8080/"
        },
        "id": "gLkG_sbSkBcu",
        "outputId": "ba1645df-d69d-4c7b-b588-b0e177f84a10"
      },
      "outputs": [
        {
          "name": "stdout",
          "output_type": "stream",
          "text": [
            "CPU times: user 4.28 s, sys: 166 ms, total: 4.44 s\n",
            "Wall time: 39.8 s\n",
            "accuracy на тестовом наборе: 0.76\n",
            "f1_score на тестовом наборе: 0.78\n",
            "Наилучшие значения гиперпараметров: {'penalty': 'l2', 'solver': 'saga'}\n"
          ]
        },
        {
          "name": "stderr",
          "output_type": "stream",
          "text": [
            "/usr/local/lib/python3.10/dist-packages/sklearn/linear_model/_sag.py:350: ConvergenceWarning: The max_iter was reached which means the coef_ did not converge\n",
            "  warnings.warn(\n"
          ]
        }
      ],
      "source": [
        "from sklearn.model_selection import GridSearchCV\n",
        "\n",
        "param_grid = {'penalty': ['l2', 'none'] ,#тип регурялизации\n",
        "              'solver': ['lbfgs', 'saga'], #алгоритм оптимизации\n",
        "              }\n",
        "grid_search = GridSearchCV(\n",
        "    estimator=linear_model.LogisticRegression(\n",
        "        random_state=42, #генератор случайных чисел\n",
        "        max_iter=50 #количество итераций на сходимость\n",
        "    ),\n",
        "    param_grid=param_grid,\n",
        "    cv=5,\n",
        "    n_jobs = -1\n",
        ")\n",
        "%time grid_search.fit(X_train, y_train)\n",
        "print(\"accuracy на тестовом наборе: {:.2f}\".format(grid_search.score(X_test, y_test)))\n",
        "y_test_pred = grid_search.predict(X_test)\n",
        "print('f1_score на тестовом наборе: {:.2f}'.format(metrics.f1_score(y_test, y_test_pred)))\n",
        "print(\"Наилучшие значения гиперпараметров: {}\".format(grid_search.best_params_))"
      ]
    },
    {
      "cell_type": "markdown",
      "id": "hfB5oM25HGp2",
      "metadata": {
        "id": "hfB5oM25HGp2",
        "tags": []
      },
      "source": [
        "**Попробуем расширить сетку гиперпараметров.**"
      ]
    },
    {
      "cell_type": "code",
      "execution_count": null,
      "id": "drR8M2WLjOyM",
      "metadata": {
        "colab": {
          "base_uri": "https://localhost:8080/"
        },
        "id": "drR8M2WLjOyM",
        "outputId": "47a1b538-5fed-4bf8-e355-e514b7039955"
      },
      "outputs": [
        {
          "name": "stdout",
          "output_type": "stream",
          "text": [
            "CPU times: user 7.57 s, sys: 440 ms, total: 8.01 s\n",
            "Wall time: 3min 46s\n",
            "accuracy на тестовом наборе: 0.77\n",
            "f1_score на тестовом наборе: 0.79\n",
            "Наилучшие значения гиперпараметров: {'C': 0.7, 'penalty': 'l1', 'solver': 'saga'}\n"
          ]
        },
        {
          "name": "stderr",
          "output_type": "stream",
          "text": [
            "/usr/local/lib/python3.10/dist-packages/sklearn/linear_model/_sag.py:350: ConvergenceWarning: The max_iter was reached which means the coef_ did not converge\n",
            "  warnings.warn(\n"
          ]
        }
      ],
      "source": [
        "param_grid = [\n",
        "              {'penalty': ['l2', 'none'] , # тип регуляризации\n",
        "              'solver': ['lbfgs', 'sag'], # алгоритм оптимизации\n",
        "               'C': [0.7, 0.9, 1]}, # уровень силы регурялизации\n",
        "\n",
        "              {'penalty': ['l1', 'l2'] ,\n",
        "              'solver': ['liblinear', 'saga'],\n",
        "               'C': [0.7, 0.9, 1]}\n",
        "]\n",
        "grid_search_1 = GridSearchCV(\n",
        "    estimator=linear_model.LogisticRegression(random_state=1, max_iter=50),\n",
        "    param_grid=param_grid,\n",
        "    cv=5,\n",
        "    n_jobs = -1\n",
        ")\n",
        "%time grid_search_1.fit(X_train, y_train)\n",
        "print(\"accuracy на тестовом наборе: {:.2f}\".format(grid_search_1.score(X_test, y_test)))\n",
        "y_test_pred = grid_search_1.predict(X_test)\n",
        "print('f1_score на тестовом наборе: {:.2f}'.format(metrics.f1_score(y_test, y_test_pred)))\n",
        "print(\"Наилучшие значения гиперпараметров: {}\".format(grid_search_1.best_params_))"
      ]
    },
    {
      "cell_type": "markdown",
      "id": "GA09esoBG6WS",
      "metadata": {
        "id": "GA09esoBG6WS"
      },
      "source": [
        "Ознакомиться с итоговой полученной моделью можно с помощью best_estimator_."
      ]
    },
    {
      "cell_type": "code",
      "execution_count": null,
      "id": "8hzskokPDJ00",
      "metadata": {
        "colab": {
          "base_uri": "https://localhost:8080/"
        },
        "id": "8hzskokPDJ00",
        "outputId": "9e02f340-e482-4b49-d36c-f41088d7b99a"
      },
      "outputs": [
        {
          "name": "stdout",
          "output_type": "stream",
          "text": [
            "Наилучшая модель:\n",
            "LogisticRegression(max_iter=50, random_state=42, solver='saga')\n"
          ]
        }
      ],
      "source": [
        "print(\"Наилучшая модель:\\n{}\".format(grid_search.best_estimator_))"
      ]
    },
    {
      "cell_type": "code",
      "execution_count": null,
      "id": "BNIsmrjP6GZY",
      "metadata": {
        "colab": {
          "base_uri": "https://localhost:8080/"
        },
        "id": "BNIsmrjP6GZY",
        "outputId": "00a8c8ba-289d-4614-df24-f6169ca601da"
      },
      "outputs": [
        {
          "name": "stdout",
          "output_type": "stream",
          "text": [
            "Наилучшее значение точности при кросс-валидаци: 0.76\n"
          ]
        }
      ],
      "source": [
        "print(\"Наилучшее значение точности при кросс-валидаци: {:.2f}\".format(grid_search.best_score_))"
      ]
    },
    {
      "cell_type": "code",
      "execution_count": null,
      "id": "fASVNY14lbzb",
      "metadata": {
        "colab": {
          "base_uri": "https://localhost:8080/",
          "height": 236
        },
        "id": "fASVNY14lbzb",
        "outputId": "c267b3f4-5e89-45ee-d4b5-a174cbcd3cc2"
      },
      "outputs": [
        {
          "data": {
            "text/html": [
              "\n",
              "  <div id=\"df-661a28b1-406f-4473-ae11-9a596c0245dd\" class=\"colab-df-container\">\n",
              "    <div>\n",
              "<style scoped>\n",
              "    .dataframe tbody tr th:only-of-type {\n",
              "        vertical-align: middle;\n",
              "    }\n",
              "\n",
              "    .dataframe tbody tr th {\n",
              "        vertical-align: top;\n",
              "    }\n",
              "\n",
              "    .dataframe thead th {\n",
              "        text-align: right;\n",
              "    }\n",
              "</style>\n",
              "<table border=\"1\" class=\"dataframe\">\n",
              "  <thead>\n",
              "    <tr style=\"text-align: right;\">\n",
              "      <th></th>\n",
              "      <th>mean_fit_time</th>\n",
              "      <th>std_fit_time</th>\n",
              "      <th>mean_score_time</th>\n",
              "      <th>std_score_time</th>\n",
              "      <th>param_penalty</th>\n",
              "      <th>param_solver</th>\n",
              "      <th>params</th>\n",
              "      <th>split0_test_score</th>\n",
              "      <th>split1_test_score</th>\n",
              "      <th>split2_test_score</th>\n",
              "      <th>split3_test_score</th>\n",
              "      <th>split4_test_score</th>\n",
              "      <th>mean_test_score</th>\n",
              "      <th>std_test_score</th>\n",
              "      <th>rank_test_score</th>\n",
              "    </tr>\n",
              "  </thead>\n",
              "  <tbody>\n",
              "    <tr>\n",
              "      <th>0</th>\n",
              "      <td>0.985391</td>\n",
              "      <td>0.061615</td>\n",
              "      <td>0.063294</td>\n",
              "      <td>0.013857</td>\n",
              "      <td>l2</td>\n",
              "      <td>lbfgs</td>\n",
              "      <td>{'penalty': 'l2', 'solver': 'lbfgs'}</td>\n",
              "      <td>0.720</td>\n",
              "      <td>0.748333</td>\n",
              "      <td>0.756667</td>\n",
              "      <td>0.753333</td>\n",
              "      <td>0.745</td>\n",
              "      <td>0.744667</td>\n",
              "      <td>0.012970</td>\n",
              "      <td>3</td>\n",
              "    </tr>\n",
              "    <tr>\n",
              "      <th>1</th>\n",
              "      <td>5.732765</td>\n",
              "      <td>0.985788</td>\n",
              "      <td>0.035753</td>\n",
              "      <td>0.010061</td>\n",
              "      <td>l2</td>\n",
              "      <td>saga</td>\n",
              "      <td>{'penalty': 'l2', 'solver': 'saga'}</td>\n",
              "      <td>0.735</td>\n",
              "      <td>0.775000</td>\n",
              "      <td>0.765000</td>\n",
              "      <td>0.758333</td>\n",
              "      <td>0.760</td>\n",
              "      <td>0.758667</td>\n",
              "      <td>0.013182</td>\n",
              "      <td>1</td>\n",
              "    </tr>\n",
              "  </tbody>\n",
              "</table>\n",
              "</div>\n",
              "    <div class=\"colab-df-buttons\">\n",
              "\n",
              "  <div class=\"colab-df-container\">\n",
              "    <button class=\"colab-df-convert\" onclick=\"convertToInteractive('df-661a28b1-406f-4473-ae11-9a596c0245dd')\"\n",
              "            title=\"Convert this dataframe to an interactive table.\"\n",
              "            style=\"display:none;\">\n",
              "\n",
              "  <svg xmlns=\"http://www.w3.org/2000/svg\" height=\"24px\" viewBox=\"0 -960 960 960\">\n",
              "    <path d=\"M120-120v-720h720v720H120Zm60-500h600v-160H180v160Zm220 220h160v-160H400v160Zm0 220h160v-160H400v160ZM180-400h160v-160H180v160Zm440 0h160v-160H620v160ZM180-180h160v-160H180v160Zm440 0h160v-160H620v160Z\"/>\n",
              "  </svg>\n",
              "    </button>\n",
              "\n",
              "  <style>\n",
              "    .colab-df-container {\n",
              "      display:flex;\n",
              "      gap: 12px;\n",
              "    }\n",
              "\n",
              "    .colab-df-convert {\n",
              "      background-color: #E8F0FE;\n",
              "      border: none;\n",
              "      border-radius: 50%;\n",
              "      cursor: pointer;\n",
              "      display: none;\n",
              "      fill: #1967D2;\n",
              "      height: 32px;\n",
              "      padding: 0 0 0 0;\n",
              "      width: 32px;\n",
              "    }\n",
              "\n",
              "    .colab-df-convert:hover {\n",
              "      background-color: #E2EBFA;\n",
              "      box-shadow: 0px 1px 2px rgba(60, 64, 67, 0.3), 0px 1px 3px 1px rgba(60, 64, 67, 0.15);\n",
              "      fill: #174EA6;\n",
              "    }\n",
              "\n",
              "    .colab-df-buttons div {\n",
              "      margin-bottom: 4px;\n",
              "    }\n",
              "\n",
              "    [theme=dark] .colab-df-convert {\n",
              "      background-color: #3B4455;\n",
              "      fill: #D2E3FC;\n",
              "    }\n",
              "\n",
              "    [theme=dark] .colab-df-convert:hover {\n",
              "      background-color: #434B5C;\n",
              "      box-shadow: 0px 1px 3px 1px rgba(0, 0, 0, 0.15);\n",
              "      filter: drop-shadow(0px 1px 2px rgba(0, 0, 0, 0.3));\n",
              "      fill: #FFFFFF;\n",
              "    }\n",
              "  </style>\n",
              "\n",
              "    <script>\n",
              "      const buttonEl =\n",
              "        document.querySelector('#df-661a28b1-406f-4473-ae11-9a596c0245dd button.colab-df-convert');\n",
              "      buttonEl.style.display =\n",
              "        google.colab.kernel.accessAllowed ? 'block' : 'none';\n",
              "\n",
              "      async function convertToInteractive(key) {\n",
              "        const element = document.querySelector('#df-661a28b1-406f-4473-ae11-9a596c0245dd');\n",
              "        const dataTable =\n",
              "          await google.colab.kernel.invokeFunction('convertToInteractive',\n",
              "                                                    [key], {});\n",
              "        if (!dataTable) return;\n",
              "\n",
              "        const docLinkHtml = 'Like what you see? Visit the ' +\n",
              "          '<a target=\"_blank\" href=https://colab.research.google.com/notebooks/data_table.ipynb>data table notebook</a>'\n",
              "          + ' to learn more about interactive tables.';\n",
              "        element.innerHTML = '';\n",
              "        dataTable['output_type'] = 'display_data';\n",
              "        await google.colab.output.renderOutput(dataTable, element);\n",
              "        const docLink = document.createElement('div');\n",
              "        docLink.innerHTML = docLinkHtml;\n",
              "        element.appendChild(docLink);\n",
              "      }\n",
              "    </script>\n",
              "  </div>\n",
              "\n",
              "    </div>\n",
              "  </div>\n"
            ],
            "text/plain": [
              "   mean_fit_time  std_fit_time  mean_score_time  std_score_time param_penalty  \\\n",
              "0       0.985391      0.061615         0.063294        0.013857            l2   \n",
              "1       5.732765      0.985788         0.035753        0.010061            l2   \n",
              "\n",
              "  param_solver                                params  split0_test_score  \\\n",
              "0        lbfgs  {'penalty': 'l2', 'solver': 'lbfgs'}              0.720   \n",
              "1         saga   {'penalty': 'l2', 'solver': 'saga'}              0.735   \n",
              "\n",
              "   split1_test_score  split2_test_score  split3_test_score  split4_test_score  \\\n",
              "0           0.748333           0.756667           0.753333              0.745   \n",
              "1           0.775000           0.765000           0.758333              0.760   \n",
              "\n",
              "   mean_test_score  std_test_score  rank_test_score  \n",
              "0         0.744667        0.012970                3  \n",
              "1         0.758667        0.013182                1  "
            ]
          },
          "execution_count": 16,
          "metadata": {},
          "output_type": "execute_result"
        }
      ],
      "source": [
        "# Взглянем на результаты кросс-валидации\n",
        "result_cv = pd.DataFrame(grid_search.cv_results_)\n",
        "result_cv.head(2)\n"
      ]
    },
    {
      "cell_type": "code",
      "execution_count": null,
      "id": "POygdqzwlFeu",
      "metadata": {
        "colab": {
          "base_uri": "https://localhost:8080/"
        },
        "id": "POygdqzwlFeu",
        "outputId": "91ff67f1-c2fe-44c1-f906-bc8fda7adf2d"
      },
      "outputs": [
        {
          "data": {
            "text/plain": [
              "Index(['mean_fit_time', 'std_fit_time', 'mean_score_time', 'std_score_time',\n",
              "       'param_penalty', 'param_solver', 'params', 'split0_test_score',\n",
              "       'split1_test_score', 'split2_test_score', 'split3_test_score',\n",
              "       'split4_test_score', 'mean_test_score', 'std_test_score',\n",
              "       'rank_test_score'],\n",
              "      dtype='object')"
            ]
          },
          "execution_count": 17,
          "metadata": {},
          "output_type": "execute_result"
        }
      ],
      "source": [
        "result_cv.columns"
      ]
    },
    {
      "cell_type": "code",
      "execution_count": null,
      "id": "J8Fvuix4j1o5",
      "metadata": {
        "colab": {
          "base_uri": "https://localhost:8080/",
          "height": 528
        },
        "id": "J8Fvuix4j1o5",
        "outputId": "58586c8d-2b1a-47c0-c540-8afdb4a92b2a"
      },
      "outputs": [
        {
          "data": {
            "image/png": "[encoded data removed]",
            "text/plain": [
              "<Figure size 800x550 with 2 Axes>"
            ]
          },
          "metadata": {},
          "output_type": "display_data"
        }
      ],
      "source": [
        "# отрисуем, как менялась точность при различных гиперпараметрах\n",
        "visual = pd.pivot_table(pd.DataFrame(grid_search_1.cv_results_),\n",
        "                        values='mean_test_score', index='param_C',\n",
        "                        columns='param_solver')\n",
        "sns.heatmap(visual)\n",
        "plt.title('Тепловая карта зависимости метрики accuracy от solver и С') # подпись графика\n",
        "sns.set(rc={'figure.figsize':(12, 8)}) #задаем размер графика"
      ]
    },
    {
      "cell_type": "markdown",
      "id": "QOlWE5zSptj0",
      "metadata": {
        "id": "QOlWE5zSptj0"
      },
      "source": [
        "### <center> **RandomizedSearchCV**"
      ]
    },
    {
      "cell_type": "markdown",
      "id": "stnYdU2-rN4a",
      "metadata": {
        "id": "stnYdU2-rN4a"
      },
      "source": [
        "В отличие от GridSearchCV, не все комбинации гиперпараметров проверяются, а только заданное количество комбинаций выбирается из указанных распределений. Количество комбинаций гиперпараметров задается n_iter.\n",
        "\n"
      ]
    },
    {
      "cell_type": "code",
      "execution_count": null,
      "id": "4yjUJJKntcX7",
      "metadata": {
        "colab": {
          "base_uri": "https://localhost:8080/"
        },
        "id": "4yjUJJKntcX7",
        "outputId": "c7f98c6d-825c-437d-93b3-5ecc097599c9"
      },
      "outputs": [
        {
          "name": "stdout",
          "output_type": "stream",
          "text": [
            "CPU times: user 1.4 s, sys: 258 ms, total: 1.66 s\n",
            "Wall time: 1min 24s\n",
            "accuracy на тестовом наборе: 0.76\n",
            "f1_score на тестовом наборе: 0.79\n",
            "Наилучшие значения гиперпараметров: {'solver': 'lbfgs', 'penalty': 'l2', 'C': 0.23}\n"
          ]
        },
        {
          "name": "stderr",
          "output_type": "stream",
          "text": [
            "/usr/local/lib/python3.10/dist-packages/sklearn/linear_model/_logistic.py:458: ConvergenceWarning: lbfgs failed to converge (status=1):\n",
            "STOP: TOTAL NO. of ITERATIONS REACHED LIMIT.\n",
            "\n",
            "Increase the number of iterations (max_iter) or scale the data as shown in:\n",
            "    https://scikit-learn.org/stable/modules/preprocessing.html\n",
            "Please also refer to the documentation for alternative solver options:\n",
            "    https://scikit-learn.org/stable/modules/linear_model.html#logistic-regression\n",
            "  n_iter_i = _check_optimize_result(\n"
          ]
        }
      ],
      "source": [
        "from sklearn.model_selection import RandomizedSearchCV\n",
        "\n",
        "#np.linspace(start(от), stop(до), num=50(количество),dtype- тип данных)\n",
        "param_distributions = {'penalty': ['l2', 'none'] ,\n",
        "              'solver': ['lbfgs', 'sag'],\n",
        "               'C': list(np.linspace(0.01, 1, 10, dtype=float))},\n",
        "\n",
        "random_search = RandomizedSearchCV(\n",
        "    estimator=linear_model.LogisticRegression(random_state=42, max_iter=50),\n",
        "    param_distributions=param_distributions,\n",
        "    cv=5,\n",
        "    n_iter = 10,\n",
        "    n_jobs = -1\n",
        ")\n",
        "%time random_search.fit(X_train, y_train)\n",
        "print(\"accuracy на тестовом наборе: {:.2f}\".format(random_search.score(X_test, y_test)))\n",
        "y_test_pred = random_search.predict(X_test)\n",
        "print('f1_score на тестовом наборе: {:.2f}'.format(metrics.f1_score(y_test, y_test_pred)))\n",
        "print(\"Наилучшие значения гиперпараметров: {}\".format(random_search.best_params_))"
      ]
    },
    {
      "cell_type": "code",
      "execution_count": null,
      "id": "bhBsJm_irM5e",
      "metadata": {
        "colab": {
          "base_uri": "https://localhost:8080/"
        },
        "id": "bhBsJm_irM5e",
        "outputId": "7c2081a2-d34e-494f-ef63-383a0cfe5064"
      },
      "outputs": [
        {
          "name": "stdout",
          "output_type": "stream",
          "text": [
            "CPU times: user 3.78 s, sys: 638 ms, total: 4.42 s\n",
            "Wall time: 5min 8s\n",
            "accuracy на тестовом наборе: 0.77\n",
            "f1_score на тестовом наборе: 0.80\n",
            "Наилучшие значения гиперпараметров: {'C': 0.01, 'penalty': 'l2', 'solver': 'lbfgs'}\n"
          ]
        },
        {
          "name": "stderr",
          "output_type": "stream",
          "text": [
            "/usr/local/lib/python3.10/dist-packages/sklearn/linear_model/_logistic.py:458: ConvergenceWarning: lbfgs failed to converge (status=1):\n",
            "STOP: TOTAL NO. of ITERATIONS REACHED LIMIT.\n",
            "\n",
            "Increase the number of iterations (max_iter) or scale the data as shown in:\n",
            "    https://scikit-learn.org/stable/modules/preprocessing.html\n",
            "Please also refer to the documentation for alternative solver options:\n",
            "    https://scikit-learn.org/stable/modules/linear_model.html#logistic-regression\n",
            "  n_iter_i = _check_optimize_result(\n"
          ]
        }
      ],
      "source": [
        "param_grid = {'penalty': ['l2', 'none'] ,\n",
        "              'solver': ['lbfgs', 'sag'],\n",
        "               'C': list(np.linspace(0.01, 10, 10, dtype=float))},\n",
        "\n",
        "grid_search_2 = GridSearchCV(\n",
        "    estimator=linear_model.LogisticRegression(random_state=42, max_iter=50),\n",
        "    param_grid=param_grid,\n",
        "    cv=5,\n",
        "    n_jobs = -1\n",
        ")\n",
        "%time grid_search_2.fit(X_train, y_train)\n",
        "print(\"accuracy на тестовом наборе: {:.2f}\".format(grid_search_2.score(X_test, y_test)))\n",
        "y_test_pred = grid_search_2.predict(X_test)\n",
        "print('f1_score на тестовом наборе: {:.2f}'.format(metrics.f1_score(y_test, y_test_pred)))\n",
        "print(\"Наилучшие значения гиперпараметров: {}\".format(grid_search_2.best_params_))"
      ]
    },
    {
      "cell_type": "markdown",
      "id": "445222b9",
      "metadata": {
        "id": "445222b9"
      },
      "source": [
        "## 3. Продвинутая оптимизация."
      ]
    },
    {
      "cell_type": "markdown",
      "id": "2521083d",
      "metadata": {
        "id": "2521083d"
      },
      "source": [
        "### <center> Hyperopt"
      ]
    },
    {
      "cell_type": "code",
      "execution_count": null,
      "id": "f6977974",
      "metadata": {
        "colab": {
          "base_uri": "https://localhost:8080/"
        },
        "id": "f6977974",
        "outputId": "1320c1fa-2c87-4679-eb58-2993f4b834a4"
      },
      "outputs": [
        {
          "name": "stdout",
          "output_type": "stream",
          "text": [
            "Collecting hyperopt\n",
            "  Downloading hyperopt-0.2.7-py2.py3-none-any.whl (1.6 MB)\n",
            "     ---------------------------------------- 0.0/1.6 MB ? eta -:--:--\n",
            "     - -------------------------------------- 0.0/1.6 MB 653.6 kB/s eta 0:00:03\n",
            "     --- ------------------------------------ 0.1/1.6 MB 1.2 MB/s eta 0:00:02\n",
            "     ---- ----------------------------------- 0.2/1.6 MB 1.3 MB/s eta 0:00:02\n",
            "     ---- ----------------------------------- 0.2/1.6 MB 1.3 MB/s eta 0:00:02\n",
            "     ------- -------------------------------- 0.3/1.6 MB 1.4 MB/s eta 0:00:01\n",
            "     -------- ------------------------------- 0.3/1.6 MB 1.2 MB/s eta 0:00:02\n",
            "     ---------- ----------------------------- 0.4/1.6 MB 1.2 MB/s eta 0:00:02\n",
            "     ------------ --------------------------- 0.5/1.6 MB 1.3 MB/s eta 0:00:01\n",
            "     ------------- -------------------------- 0.5/1.6 MB 1.3 MB/s eta 0:00:01\n",
            "     ------------- -------------------------- 0.5/1.6 MB 1.3 MB/s eta 0:00:01\n",
            "     --------------- ------------------------ 0.6/1.6 MB 1.2 MB/s eta 0:00:01\n",
            "     ------------------- -------------------- 0.8/1.6 MB 1.3 MB/s eta 0:00:01\n",
            "     -------------------- ------------------- 0.8/1.6 MB 1.3 MB/s eta 0:00:01\n",
            "     ---------------------- ----------------- 0.9/1.6 MB 1.3 MB/s eta 0:00:01\n",
            "     ------------------------ --------------- 1.0/1.6 MB 1.4 MB/s eta 0:00:01\n",
            "     -------------------------- ------------- 1.0/1.6 MB 1.4 MB/s eta 0:00:01\n",
            "     ---------------------------- ----------- 1.1/1.6 MB 1.4 MB/s eta 0:00:01\n",
            "     ------------------------------ --------- 1.2/1.6 MB 1.4 MB/s eta 0:00:01\n",
            "     -------------------------------- ------- 1.3/1.6 MB 1.4 MB/s eta 0:00:01\n",
            "     ---------------------------------- ----- 1.4/1.6 MB 1.4 MB/s eta 0:00:01\n",
            "     ----------------------------------- ---- 1.4/1.6 MB 1.4 MB/s eta 0:00:01\n",
            "     ------------------------------------- -- 1.5/1.6 MB 1.4 MB/s eta 0:00:01\n",
            "     ---------------------------------------  1.6/1.6 MB 1.5 MB/s eta 0:00:01\n",
            "     ---------------------------------------  1.6/1.6 MB 1.5 MB/s eta 0:00:01\n",
            "     ---------------------------------------  1.6/1.6 MB 1.5 MB/s eta 0:00:01\n",
            "     ---------------------------------------- 1.6/1.6 MB 1.3 MB/s eta 0:00:00\n",
            "Requirement already satisfied: numpy in c:\\users\\vladimir\\appdata\\local\\programs\\python\\python39\\lib\\site-packages (from hyperopt) (1.24.2)\n",
            "Requirement already satisfied: six in c:\\users\\vladimir\\appdata\\roaming\\python\\python39\\site-packages (from hyperopt) (1.16.0)\n",
            "Requirement already satisfied: tqdm in c:\\users\\vladimir\\appdata\\local\\programs\\python\\python39\\lib\\site-packages (from hyperopt) (4.65.0)\n",
            "Collecting networkx>=2.2\n",
            "  Downloading networkx-3.1-py3-none-any.whl (2.1 MB)\n",
            "     ---------------------------------------- 0.0/2.1 MB ? eta -:--:--\n",
            "     - -------------------------------------- 0.1/2.1 MB 1.7 MB/s eta 0:00:02\n",
            "     -- ------------------------------------- 0.1/2.1 MB 1.7 MB/s eta 0:00:02\n",
            "     --- ------------------------------------ 0.2/2.1 MB 1.6 MB/s eta 0:00:02\n",
            "     ----- ---------------------------------- 0.3/2.1 MB 1.5 MB/s eta 0:00:02\n",
            "     ------ --------------------------------- 0.3/2.1 MB 1.5 MB/s eta 0:00:02\n",
            "     -------- ------------------------------- 0.4/2.1 MB 1.6 MB/s eta 0:00:02\n",
            "     --------- ------------------------------ 0.5/2.1 MB 1.6 MB/s eta 0:00:02\n",
            "     ----------- ---------------------------- 0.6/2.1 MB 1.6 MB/s eta 0:00:01\n",
            "     ------------ --------------------------- 0.6/2.1 MB 1.6 MB/s eta 0:00:01\n",
            "     -------------- ------------------------- 0.7/2.1 MB 1.6 MB/s eta 0:00:01\n",
            "     --------------- ------------------------ 0.8/2.1 MB 1.6 MB/s eta 0:00:01\n",
            "     ---------------- ----------------------- 0.9/2.1 MB 1.6 MB/s eta 0:00:01\n",
            "     ------------------ --------------------- 0.9/2.1 MB 1.6 MB/s eta 0:00:01\n",
            "     ------------------- -------------------- 1.0/2.1 MB 1.6 MB/s eta 0:00:01\n",
            "     -------------------- ------------------- 1.1/2.1 MB 1.6 MB/s eta 0:00:01\n",
            "     ---------------------- ----------------- 1.2/2.1 MB 1.6 MB/s eta 0:00:01\n",
            "     ----------------------- ---------------- 1.2/2.1 MB 1.6 MB/s eta 0:00:01\n",
            "     ------------------------- -------------- 1.3/2.1 MB 1.6 MB/s eta 0:00:01\n",
            "     --------------------------- ------------ 1.4/2.1 MB 1.6 MB/s eta 0:00:01\n",
            "     ---------------------------- ----------- 1.5/2.1 MB 1.6 MB/s eta 0:00:01\n",
            "     ----------------------------- ---------- 1.5/2.1 MB 1.6 MB/s eta 0:00:01\n",
            "     ------------------------------- -------- 1.6/2.1 MB 1.6 MB/s eta 0:00:01\n",
            "     -------------------------------- ------- 1.7/2.1 MB 1.6 MB/s eta 0:00:01\n",
            "     --------------------------------- ------ 1.8/2.1 MB 1.6 MB/s eta 0:00:01\n",
            "     ----------------------------------- ---- 1.8/2.1 MB 1.6 MB/s eta 0:00:01\n",
            "     ----------------------------------- ---- 1.9/2.1 MB 1.6 MB/s eta 0:00:01\n",
            "     ----------------------------------- ---- 1.9/2.1 MB 1.6 MB/s eta 0:00:01\n",
            "     ------------------------------------- -- 2.0/2.1 MB 1.5 MB/s eta 0:00:01\n",
            "     -------------------------------------- - 2.0/2.1 MB 1.5 MB/s eta 0:00:01\n",
            "     ---------------------------------------  2.1/2.1 MB 1.5 MB/s eta 0:00:01\n",
            "     ---------------------------------------  2.1/2.1 MB 1.5 MB/s eta 0:00:01\n",
            "     ---------------------------------------  2.1/2.1 MB 1.5 MB/s eta 0:00:01\n",
            "     ---------------------------------------- 2.1/2.1 MB 1.4 MB/s eta 0:00:00\n",
            "Collecting cloudpickle\n",
            "  Downloading cloudpickle-2.2.1-py3-none-any.whl (25 kB)\n",
            "Collecting future\n",
            "  Downloading future-0.18.3.tar.gz (840 kB)\n",
            "     ---------------------------------------- 0.0/840.9 kB ? eta -:--:--\n",
            "     ---------------------------------------- 0.0/840.9 kB ? eta -:--:--\n",
            "     ---------------------------------------- 0.0/840.9 kB ? eta -:--:--\n",
            "     ---------------------------------------- 10.2/840.9 kB ? eta -:--:--\n",
            "     - ----------------------------------- 41.0/840.9 kB 653.6 kB/s eta 0:00:02\n",
            "     -- ---------------------------------- 61.4/840.9 kB 656.4 kB/s eta 0:00:02\n",
            "     --- --------------------------------- 71.7/840.9 kB 491.5 kB/s eta 0:00:02\n",
            "     ---- -------------------------------- 92.2/840.9 kB 435.7 kB/s eta 0:00:02\n",
            "     ---- -------------------------------- 92.2/840.9 kB 435.7 kB/s eta 0:00:02\n",
            "     ---- ------------------------------- 112.6/840.9 kB 385.0 kB/s eta 0:00:02\n",
            "     ----- ------------------------------ 122.9/840.9 kB 343.4 kB/s eta 0:00:03\n",
            "     ----- ------------------------------ 122.9/840.9 kB 343.4 kB/s eta 0:00:03\n",
            "     ----- ------------------------------ 122.9/840.9 kB 343.4 kB/s eta 0:00:03\n",
            "     ------ ----------------------------- 153.6/840.9 kB 295.6 kB/s eta 0:00:03\n",
            "     ------- ---------------------------- 174.1/840.9 kB 317.5 kB/s eta 0:00:03\n",
            "     ------- ---------------------------- 174.1/840.9 kB 317.5 kB/s eta 0:00:03\n",
            "     ------- ---------------------------- 174.1/840.9 kB 317.5 kB/s eta 0:00:03\n",
            "     -------- --------------------------- 194.6/840.9 kB 287.6 kB/s eta 0:00:03\n",
            "     -------- --------------------------- 194.6/840.9 kB 287.6 kB/s eta 0:00:03\n",
            "     -------- --------------------------- 204.8/840.9 kB 254.0 kB/s eta 0:00:03\n",
            "     -------- --------------------------- 204.8/840.9 kB 254.0 kB/s eta 0:00:03\n",
            "     --------- -------------------------- 225.3/840.9 kB 259.7 kB/s eta 0:00:03\n",
            "     --------- -------------------------- 225.3/840.9 kB 259.7 kB/s eta 0:00:03\n",
            "     --------- -------------------------- 225.3/840.9 kB 259.7 kB/s eta 0:00:03\n",
            "     --------- -------------------------- 225.3/840.9 kB 259.7 kB/s eta 0:00:03\n",
            "     ---------- ------------------------- 256.0/840.9 kB 238.1 kB/s eta 0:00:03\n",
            "     ----------- ------------------------ 276.5/840.9 kB 243.4 kB/s eta 0:00:03\n",
            "     ----------- ------------------------ 276.5/840.9 kB 243.4 kB/s eta 0:00:03\n",
            "     ----------- ------------------------ 276.5/840.9 kB 243.4 kB/s eta 0:00:03\n",
            "     ----------- ------------------------ 276.5/840.9 kB 243.4 kB/s eta 0:00:03\n",
            "     ------------ ----------------------- 286.7/840.9 kB 221.2 kB/s eta 0:00:03\n",
            "     ------------ ----------------------- 286.7/840.9 kB 221.2 kB/s eta 0:00:03\n",
            "     ------------ ----------------------- 286.7/840.9 kB 221.2 kB/s eta 0:00:03\n",
            "     ------------- ---------------------- 307.2/840.9 kB 211.1 kB/s eta 0:00:03\n",
            "     ------------- ---------------------- 307.2/840.9 kB 211.1 kB/s eta 0:00:03\n",
            "     ------------- ---------------------- 307.2/840.9 kB 211.1 kB/s eta 0:00:03\n",
            "     ------------- ---------------------- 307.2/840.9 kB 211.1 kB/s eta 0:00:03\n",
            "     ------------- ---------------------- 307.2/840.9 kB 211.1 kB/s eta 0:00:03\n",
            "     ------------- ---------------------- 307.2/840.9 kB 211.1 kB/s eta 0:00:03\n",
            "     ------------- ---------------------- 307.2/840.9 kB 211.1 kB/s eta 0:00:03\n",
            "     ------------- ---------------------- 317.4/840.9 kB 175.5 kB/s eta 0:00:03\n",
            "     -------------- --------------------- 337.9/840.9 kB 185.5 kB/s eta 0:00:03\n",
            "     -------------- --------------------- 337.9/840.9 kB 185.5 kB/s eta 0:00:03\n",
            "     -------------- --------------------- 337.9/840.9 kB 185.5 kB/s eta 0:00:03\n",
            "     -------------- --------------------- 337.9/840.9 kB 185.5 kB/s eta 0:00:03\n",
            "     -------------- --------------------- 337.9/840.9 kB 185.5 kB/s eta 0:00:03\n",
            "     -------------- --------------------- 337.9/840.9 kB 185.5 kB/s eta 0:00:03\n",
            "     -------------- --------------------- 337.9/840.9 kB 185.5 kB/s eta 0:00:03\n",
            "     -------------- --------------------- 337.9/840.9 kB 185.5 kB/s eta 0:00:03\n",
            "     --------------- -------------------- 358.4/840.9 kB 162.6 kB/s eta 0:00:03\n",
            "     --------------- -------------------- 358.4/840.9 kB 162.6 kB/s eta 0:00:03\n",
            "     --------------- -------------------- 358.4/840.9 kB 162.6 kB/s eta 0:00:03\n",
            "     --------------- -------------------- 358.4/840.9 kB 162.6 kB/s eta 0:00:03\n",
            "     --------------- -------------------- 358.4/840.9 kB 162.6 kB/s eta 0:00:03\n",
            "     --------------- -------------------- 358.4/840.9 kB 162.6 kB/s eta 0:00:03\n",
            "     --------------- -------------------- 368.6/840.9 kB 147.0 kB/s eta 0:00:04\n",
            "     --------------- -------------------- 368.6/840.9 kB 147.0 kB/s eta 0:00:04\n",
            "     --------------- -------------------- 368.6/840.9 kB 147.0 kB/s eta 0:00:04\n",
            "     ---------------- ------------------- 389.1/840.9 kB 147.0 kB/s eta 0:00:04\n",
            "     ----------------- ------------------ 399.4/840.9 kB 148.2 kB/s eta 0:00:03\n",
            "     ----------------- ------------------ 399.4/840.9 kB 148.2 kB/s eta 0:00:03\n",
            "     ----------------- ------------------ 409.6/840.9 kB 147.7 kB/s eta 0:00:03\n",
            "     ------------------ ----------------- 430.1/840.9 kB 151.8 kB/s eta 0:00:03\n",
            "     ------------------- ---------------- 450.6/840.9 kB 156.5 kB/s eta 0:00:03\n",
            "     ------------------- ---------------- 460.8/840.9 kB 157.5 kB/s eta 0:00:03\n",
            "     -------------------- --------------- 481.3/840.9 kB 162.0 kB/s eta 0:00:03\n",
            "     --------------------- -------------- 491.5/840.9 kB 163.0 kB/s eta 0:00:03\n",
            "     --------------------- -------------- 512.0/840.9 kB 167.3 kB/s eta 0:00:02\n",
            "     ---------------------- ------------- 532.5/840.9 kB 172.2 kB/s eta 0:00:02\n",
            "     ------------------------ ----------- 563.2/840.9 kB 177.8 kB/s eta 0:00:02\n",
            "     ------------------------ ----------- 573.4/840.9 kB 179.3 kB/s eta 0:00:02\n",
            "     ------------------------- ---------- 593.9/840.9 kB 182.2 kB/s eta 0:00:02\n",
            "     -------------------------- --------- 614.4/840.9 kB 186.8 kB/s eta 0:00:02\n",
            "     --------------------------- -------- 645.1/840.9 kB 192.6 kB/s eta 0:00:02\n",
            "     ---------------------------- ------- 655.4/840.9 kB 193.8 kB/s eta 0:00:01\n",
            "     ---------------------------- ------- 675.8/840.9 kB 197.2 kB/s eta 0:00:01\n",
            "     ------------------------------ ----- 706.6/840.9 kB 203.5 kB/s eta 0:00:01\n",
            "     ------------------------------- ---- 727.0/840.9 kB 207.6 kB/s eta 0:00:01\n",
            "     -------------------------------- --- 757.8/840.9 kB 212.6 kB/s eta 0:00:01\n",
            "     --------------------------------- -- 788.5/840.9 kB 217.5 kB/s eta 0:00:01\n",
            "     ---------------------------------- - 809.0/840.9 kB 222.2 kB/s eta 0:00:01\n",
            "     -----------------------------------  839.7/840.9 kB 227.8 kB/s eta 0:00:01\n",
            "     ------------------------------------ 840.9/840.9 kB 223.4 kB/s eta 0:00:00\n",
            "  Preparing metadata (setup.py): started\n",
            "  Preparing metadata (setup.py): finished with status 'done'\n",
            "Collecting py4j\n",
            "  Downloading py4j-0.10.9.7-py2.py3-none-any.whl (200 kB)\n",
            "     ---------------------------------------- 0.0/200.5 kB ? eta -:--:--\n",
            "     ----- ------------------------------- 30.7/200.5 kB 435.7 kB/s eta 0:00:01\n",
            "     ----------- ------------------------- 61.4/200.5 kB 544.7 kB/s eta 0:00:01\n",
            "     ----------------- ------------------- 92.2/200.5 kB 581.0 kB/s eta 0:00:01\n",
            "     -------------------- --------------- 112.6/200.5 kB 656.4 kB/s eta 0:00:01\n",
            "     ------------------------- ---------- 143.4/200.5 kB 607.9 kB/s eta 0:00:01\n",
            "     ------------------------------- ---- 174.1/200.5 kB 655.4 kB/s eta 0:00:01\n",
            "     ---------------------------------- - 194.6/200.5 kB 655.9 kB/s eta 0:00:01\n",
            "     ---------------------------------- - 194.6/200.5 kB 655.9 kB/s eta 0:00:01\n",
            "     ------------------------------------ 200.5/200.5 kB 486.5 kB/s eta 0:00:00\n",
            "Requirement already satisfied: scipy in c:\\users\\vladimir\\appdata\\local\\programs\\python\\python39\\lib\\site-packages (from hyperopt) (1.10.1)\n",
            "Requirement already satisfied: colorama in c:\\users\\vladimir\\appdata\\roaming\\python\\python39\\site-packages (from tqdm->hyperopt) (0.4.6)\n",
            "Installing collected packages: py4j, networkx, future, cloudpickle, hyperopt\n",
            "  Running setup.py install for future: started\n",
            "  Running setup.py install for future: finished with status 'done'\n",
            "Successfully installed cloudpickle-2.2.1 future-0.18.3 hyperopt-0.2.7 networkx-3.1 py4j-0.10.9.7\n"
          ]
        },
        {
          "name": "stderr",
          "output_type": "stream",
          "text": [
            "  DEPRECATION: future is being installed using the legacy 'setup.py install' method, because it does not have a 'pyproject.toml' and the 'wheel' package is not installed. pip 23.1 will enforce this behaviour change. A possible replacement is to enable the '--use-pep517' option. Discussion can be found at https://github.com/pypa/pip/issues/8559\n",
            "\n",
            "[notice] A new release of pip is available: 23.0.1 -> 23.2.1\n",
            "[notice] To update, run: python.exe -m pip install --upgrade pip\n"
          ]
        }
      ],
      "source": [
        "# Устанавливаем библиотеку\n",
        "!pip install hyperopt\n",
        "# или\n",
        "#!conda install -c conda-forge hyperopt"
      ]
    },
    {
      "cell_type": "code",
      "execution_count": null,
      "id": "28e65600",
      "metadata": {
        "colab": {
          "base_uri": "https://localhost:8080/"
        },
        "id": "28e65600",
        "outputId": "de8decef-346c-470b-a688-49fb436d37c5"
      },
      "outputs": [
        {
          "name": "stdout",
          "output_type": "stream",
          "text": [
            "Версия Hyperopt : 0.2.7\n"
          ]
        }
      ],
      "source": [
        "#делаем импорт и выведем версию библиотеки\n",
        "from sklearn.model_selection import cross_val_score\n",
        "import hyperopt\n",
        "from hyperopt import hp, fmin, tpe, Trials\n",
        "# fmin - основная функция, она будет минимизировать наш функционал\n",
        "# tpe - алгоритм оптимизации\n",
        "# hp - включает набор методов для объявления пространства поиска гиперпараметров\n",
        "# trails - используется для логирования результатов\n",
        "\n",
        "print(\"Версия Hyperopt : {}\".format(hyperopt.__version__))"
      ]
    },
    {
      "cell_type": "markdown",
      "id": "ee5e2d4e",
      "metadata": {
        "id": "ee5e2d4e"
      },
      "source": [
        "Настроим оптимизацию гиперпараметров для алгоритма линейной регрессии.\n"
      ]
    },
    {
      "cell_type": "code",
      "execution_count": null,
      "id": "d4db4679",
      "metadata": {
        "id": "d4db4679",
        "outputId": "118f18ef-c32e-4752-dcd1-91299b04c835"
      },
      "outputs": [
        {
          "name": "stdout",
          "output_type": "stream",
          "text": [
            "  5%|▌         | 1/20 [00:19<06:11, 19.56s/trial, best loss: -0.7706169946428503]"
          ]
        },
        {
          "name": "stderr",
          "output_type": "stream",
          "text": [
            "c:\\Users\\Vladimir\\AppData\\Local\\Programs\\Python\\Python39\\lib\\site-packages\\sklearn\\linear_model\\_sag.py:350: ConvergenceWarning: The max_iter was reached which means the coef_ did not converge\n",
            "  warnings.warn(\n",
            "\n"
          ]
        },
        {
          "name": "stdout",
          "output_type": "stream",
          "text": [
            " 15%|█▌        | 3/20 [02:06<11:03, 39.01s/trial, best loss: -0.7807204491271118]"
          ]
        },
        {
          "name": "stderr",
          "output_type": "stream",
          "text": [
            "c:\\Users\\Vladimir\\AppData\\Local\\Programs\\Python\\Python39\\lib\\site-packages\\sklearn\\linear_model\\_sag.py:350: ConvergenceWarning: The max_iter was reached which means the coef_ did not converge\n",
            "  warnings.warn(\n",
            "\n"
          ]
        },
        {
          "name": "stdout",
          "output_type": "stream",
          "text": [
            " 25%|██▌       | 5/20 [03:46<10:13, 40.93s/trial, best loss: -0.7826782883390004]"
          ]
        },
        {
          "name": "stderr",
          "output_type": "stream",
          "text": [
            "c:\\Users\\Vladimir\\AppData\\Local\\Programs\\Python\\Python39\\lib\\site-packages\\sklearn\\linear_model\\_sag.py:350: ConvergenceWarning: The max_iter was reached which means the coef_ did not converge\n",
            "  warnings.warn(\n",
            "\n"
          ]
        },
        {
          "name": "stdout",
          "output_type": "stream",
          "text": [
            " 30%|███       | 6/20 [05:03<12:22, 53.00s/trial, best loss: -0.7826782883390004]"
          ]
        },
        {
          "name": "stderr",
          "output_type": "stream",
          "text": [
            "c:\\Users\\Vladimir\\AppData\\Local\\Programs\\Python\\Python39\\lib\\site-packages\\sklearn\\linear_model\\_sag.py:350: ConvergenceWarning: The max_iter was reached which means the coef_ did not converge\n",
            "  warnings.warn(\n",
            "\n"
          ]
        },
        {
          "name": "stdout",
          "output_type": "stream",
          "text": [
            " 45%|████▌     | 9/20 [06:36<05:58, 32.63s/trial, best loss: -0.7826782883390004]"
          ]
        },
        {
          "name": "stderr",
          "output_type": "stream",
          "text": [
            "c:\\Users\\Vladimir\\AppData\\Local\\Programs\\Python\\Python39\\lib\\site-packages\\sklearn\\linear_model\\_sag.py:350: ConvergenceWarning: The max_iter was reached which means the coef_ did not converge\n",
            "  warnings.warn(\n",
            "\n"
          ]
        },
        {
          "name": "stdout",
          "output_type": "stream",
          "text": [
            " 55%|█████▌    | 11/20 [08:31<06:04, 40.45s/trial, best loss: -0.7826782883390004]"
          ]
        },
        {
          "name": "stderr",
          "output_type": "stream",
          "text": [
            "c:\\Users\\Vladimir\\AppData\\Local\\Programs\\Python\\Python39\\lib\\site-packages\\sklearn\\linear_model\\_sag.py:350: ConvergenceWarning: The max_iter was reached which means the coef_ did not converge\n",
            "  warnings.warn(\n",
            "\n"
          ]
        },
        {
          "name": "stdout",
          "output_type": "stream",
          "text": [
            " 65%|██████▌   | 13/20 [10:04<04:41, 40.22s/trial, best loss: -0.7826782883390004]"
          ]
        },
        {
          "name": "stderr",
          "output_type": "stream",
          "text": [
            "c:\\Users\\Vladimir\\AppData\\Local\\Programs\\Python\\Python39\\lib\\site-packages\\sklearn\\linear_model\\_sag.py:350: ConvergenceWarning: The max_iter was reached which means the coef_ did not converge\n",
            "  warnings.warn(\n",
            "\n"
          ]
        },
        {
          "name": "stdout",
          "output_type": "stream",
          "text": [
            " 70%|███████   | 14/20 [11:48<05:57, 59.64s/trial, best loss: -0.7826782883390004]"
          ]
        },
        {
          "name": "stderr",
          "output_type": "stream",
          "text": [
            "c:\\Users\\Vladimir\\AppData\\Local\\Programs\\Python\\Python39\\lib\\site-packages\\sklearn\\linear_model\\_sag.py:350: ConvergenceWarning: The max_iter was reached which means the coef_ did not converge\n",
            "  warnings.warn(\n",
            "\n"
          ]
        },
        {
          "name": "stdout",
          "output_type": "stream",
          "text": [
            " 80%|████████  | 16/20 [13:43<03:35, 53.87s/trial, best loss: -0.7826782883390004]"
          ]
        },
        {
          "name": "stderr",
          "output_type": "stream",
          "text": [
            "c:\\Users\\Vladimir\\AppData\\Local\\Programs\\Python\\Python39\\lib\\site-packages\\sklearn\\linear_model\\_sag.py:350: ConvergenceWarning: The max_iter was reached which means the coef_ did not converge\n",
            "  warnings.warn(\n",
            "\n"
          ]
        },
        {
          "name": "stdout",
          "output_type": "stream",
          "text": [
            " 85%|████████▌ | 17/20 [15:05<03:06, 62.19s/trial, best loss: -0.7826782883390004]"
          ]
        },
        {
          "name": "stderr",
          "output_type": "stream",
          "text": [
            "c:\\Users\\Vladimir\\AppData\\Local\\Programs\\Python\\Python39\\lib\\site-packages\\sklearn\\linear_model\\_sag.py:350: ConvergenceWarning: The max_iter was reached which means the coef_ did not converge\n",
            "  warnings.warn(\n",
            "\n"
          ]
        },
        {
          "name": "stdout",
          "output_type": "stream",
          "text": [
            " 90%|█████████ | 18/20 [16:42<02:25, 72.86s/trial, best loss: -0.7843573900686336]"
          ]
        },
        {
          "name": "stderr",
          "output_type": "stream",
          "text": [
            "c:\\Users\\Vladimir\\AppData\\Local\\Programs\\Python\\Python39\\lib\\site-packages\\sklearn\\linear_model\\_sag.py:350: ConvergenceWarning: The max_iter was reached which means the coef_ did not converge\n",
            "  warnings.warn(\n",
            "\n"
          ]
        },
        {
          "name": "stdout",
          "output_type": "stream",
          "text": [
            "100%|██████████| 20/20 [18:38<00:00, 55.93s/trial, best loss: -0.7843573900686336]\n",
            "Наилучшие значения гиперпараметров {'C': 0.11205124547519595, 'penalty': 'l1', 'solver': 'saga'}\n",
            "{'C': 0.11205124547519595, 'penalty': 'l1', 'solver': 'saga'}\n",
            "f1_score на обучающем наборе: 0.81\n",
            "accuracy на тестовом наборе: 0.76\n",
            "f1_score на тестовом наборе: 0.79\n"
          ]
        },
        {
          "name": "stderr",
          "output_type": "stream",
          "text": [
            "c:\\Users\\Vladimir\\AppData\\Local\\Programs\\Python\\Python39\\lib\\site-packages\\sklearn\\linear_model\\_sag.py:350: ConvergenceWarning: The max_iter was reached which means the coef_ did not converge\n",
            "  warnings.warn(\n"
          ]
        }
      ],
      "source": [
        "space={'penalty': hp.choice('penalty', ['l1', 'l2']), # тип регуляризации\n",
        "       'solver': hp.choice('solver', ['liblinear', 'saga']), # алгоритм оптимизации\n",
        "       'C': hp.uniform('C', low=0.01, high=1) # уровень силы регурялизации\n",
        "      }\n",
        "\n",
        "from hyperopt import hp, fmin, tpe, STATUS_OK, Trials\n",
        "\n",
        "random_state = 42\n",
        "\n",
        "def hyperopt_lr(params, cv=5, X=X_train, y=y_train, random_state=random_state):\n",
        "    model = linear_model.LogisticRegression(**params, random_state=random_state)\n",
        "    model.fit(X, y)\n",
        "    score = cross_val_score(model, X, y, cv=cv, scoring=\"f1\", n_jobs=-1).mean()\n",
        "    return {'loss': -score, 'params': params, 'status': STATUS_OK}\n",
        "\n",
        "trials = Trials()\n",
        "\n",
        "best = fmin(hyperopt_lr,\n",
        "          space=space, # пространство гиперпараметров\n",
        "          algo=tpe.suggest, # алгоритм оптимизации, установлен по умолчанию, задавать необязательно\n",
        "          max_evals=20, # максимальное количество итераций\n",
        "          trials=trials, # логирование результатов\n",
        "          rstate=np.random.default_rng(random_state)# фиксируем для повторяемости результата\n",
        "         )\n",
        "print(\"Наилучшие значения гиперпараметров {}\".format(trials.best_trial['result']['params']))\n",
        "\n",
        "print(trials.best_trial['result']['params'])\n",
        "\n",
        "model = linear_model.LogisticRegression(\n",
        "    random_state=random_state,\n",
        "    penalty=trials.best_trial['result']['params']['penalty'],\n",
        "    solver=trials.best_trial['result']['params']['solver'],\n",
        "    C=float(trials.best_trial['result']['params']['C'])\n",
        ")\n",
        "model.fit(X_train, y_train)\n",
        "y_train_pred = model.predict(X_train)\n",
        "print('f1_score на обучающем наборе: {:.2f}'.format(metrics.f1_score(y_train, y_train_pred)))\n",
        "print(\"accuracy на тестовом наборе: {:.2f}\".format(model.score(X_test, y_test)))\n",
        "y_test_pred = model.predict(X_test)\n",
        "print('f1_score на тестовом наборе: {:.2f}'.format(metrics.f1_score(y_test, y_test_pred)))"
      ]
    },
    {
      "cell_type": "markdown",
      "id": "1cdf8204",
      "metadata": {
        "id": "1cdf8204"
      },
      "source": [
        "## <center> Optuna"
      ]
    },
    {
      "cell_type": "code",
      "execution_count": null,
      "id": "b2dfc3f6",
      "metadata": {
        "colab": {
          "base_uri": "https://localhost:8080/"
        },
        "id": "b2dfc3f6",
        "outputId": "42be94a3-fdd8-4587-fe7e-85f9a75a55a7"
      },
      "outputs": [
        {
          "name": "stdout",
          "output_type": "stream",
          "text": [
            "Requirement already satisfied: optuna in /usr/local/lib/python3.10/dist-packages (3.3.0)\n",
            "Requirement already satisfied: alembic>=1.5.0 in /usr/local/lib/python3.10/dist-packages (from optuna) (1.11.3)\n",
            "Requirement already satisfied: cmaes>=0.10.0 in /usr/local/lib/python3.10/dist-packages (from optuna) (0.10.0)\n",
            "Requirement already satisfied: colorlog in /usr/local/lib/python3.10/dist-packages (from optuna) (6.7.0)\n",
            "Requirement already satisfied: numpy in /usr/local/lib/python3.10/dist-packages (from optuna) (1.23.5)\n",
            "Requirement already satisfied: packaging>=20.0 in /usr/local/lib/python3.10/dist-packages (from optuna) (23.1)\n",
            "Requirement already satisfied: sqlalchemy>=1.3.0 in /usr/local/lib/python3.10/dist-packages (from optuna) (2.0.20)\n",
            "Requirement already satisfied: tqdm in /usr/local/lib/python3.10/dist-packages (from optuna) (4.66.1)\n",
            "Requirement already satisfied: PyYAML in /usr/local/lib/python3.10/dist-packages (from optuna) (6.0.1)\n",
            "Requirement already satisfied: Mako in /usr/local/lib/python3.10/dist-packages (from alembic>=1.5.0->optuna) (1.2.4)\n",
            "Requirement already satisfied: typing-extensions>=4 in /usr/local/lib/python3.10/dist-packages (from alembic>=1.5.0->optuna) (4.7.1)\n",
            "Requirement already satisfied: greenlet!=0.4.17 in /usr/local/lib/python3.10/dist-packages (from sqlalchemy>=1.3.0->optuna) (2.0.2)\n",
            "Requirement already satisfied: MarkupSafe>=0.9.2 in /usr/local/lib/python3.10/dist-packages (from Mako->alembic>=1.5.0->optuna) (2.1.3)\n"
          ]
        }
      ],
      "source": [
        "# Устанавливаем библиотеку\n",
        "!pip install optuna\n",
        "# или\n",
        "#!conda install -c conda-forge optuna"
      ]
    },
    {
      "cell_type": "code",
      "execution_count": null,
      "id": "a6daa34c",
      "metadata": {
        "colab": {
          "base_uri": "https://localhost:8080/"
        },
        "id": "a6daa34c",
        "outputId": "c2d43ffa-d0a6-4039-d8ce-7e5ef0a65d12"
      },
      "outputs": [
        {
          "name": "stdout",
          "output_type": "stream",
          "text": [
            "Версия Optuna: 3.3.0\n"
          ]
        }
      ],
      "source": [
        "import optuna\n",
        "\n",
        "print(\"Версия Optuna: {}\".format(optuna.__version__))"
      ]
    },
    {
      "cell_type": "markdown",
      "id": "fd32bd36",
      "metadata": {
        "id": "fd32bd36"
      },
      "source": [
        "Настроим оптимизацию гиперпараметров для алгоритма линейной регрессии."
      ]
    },
    {
      "cell_type": "code",
      "execution_count": null,
      "id": "gIoQA9HScOEf",
      "metadata": {
        "colab": {
          "base_uri": "https://localhost:8080/"
        },
        "id": "gIoQA9HScOEf",
        "outputId": "4c4ad851-0d5a-4fe2-cfc5-7ad88f619158"
      },
      "outputs": [
        {
          "name": "stderr",
          "output_type": "stream",
          "text": [
            "[I 2023-08-28 13:56:20,500] A new study created in memory with name: LogisticRegression\n",
            "/usr/local/lib/python3.10/dist-packages/optuna/distributions.py:685: UserWarning: The distribution is specified by [0.01, 1] and step=5, but the range is not divisible by `step`. It will be replaced by [0.01, 0.01].\n",
            "  warnings.warn(\n",
            "/usr/local/lib/python3.10/dist-packages/sklearn/linear_model/_logistic.py:1173: FutureWarning: `penalty='none'`has been deprecated in 1.2 and will be removed in 1.4. To keep the past behaviour, set `penalty=None`.\n",
            "  warnings.warn(\n",
            "/usr/local/lib/python3.10/dist-packages/sklearn/linear_model/_logistic.py:1181: UserWarning: Setting penalty=None will ignore the C and l1_ratio parameters\n",
            "  warnings.warn(\n",
            "/usr/local/lib/python3.10/dist-packages/sklearn/linear_model/_sag.py:350: ConvergenceWarning: The max_iter was reached which means the coef_ did not converge\n",
            "  warnings.warn(\n",
            "[I 2023-08-28 13:56:39,746] Trial 0 finished with value: 0.8856269113149847 and parameters: {'penalty': 'none', 'solver': 'sag', 'C': 0.01}. Best is trial 0 with value: 0.8856269113149847.\n",
            "/usr/local/lib/python3.10/dist-packages/optuna/distributions.py:685: UserWarning: The distribution is specified by [0.01, 1] and step=5, but the range is not divisible by `step`. It will be replaced by [0.01, 0.01].\n",
            "  warnings.warn(\n",
            "/usr/local/lib/python3.10/dist-packages/sklearn/linear_model/_logistic.py:1173: FutureWarning: `penalty='none'`has been deprecated in 1.2 and will be removed in 1.4. To keep the past behaviour, set `penalty=None`.\n",
            "  warnings.warn(\n",
            "/usr/local/lib/python3.10/dist-packages/sklearn/linear_model/_logistic.py:1181: UserWarning: Setting penalty=None will ignore the C and l1_ratio parameters\n",
            "  warnings.warn(\n",
            "/usr/local/lib/python3.10/dist-packages/sklearn/linear_model/_logistic.py:458: ConvergenceWarning: lbfgs failed to converge (status=1):\n",
            "STOP: TOTAL NO. of ITERATIONS REACHED LIMIT.\n",
            "\n",
            "Increase the number of iterations (max_iter) or scale the data as shown in:\n",
            "    https://scikit-learn.org/stable/modules/preprocessing.html\n",
            "Please also refer to the documentation for alternative solver options:\n",
            "    https://scikit-learn.org/stable/modules/linear_model.html#logistic-regression\n",
            "  n_iter_i = _check_optimize_result(\n",
            "[I 2023-08-28 13:56:41,005] Trial 1 finished with value: 0.9102053325160895 and parameters: {'penalty': 'none', 'solver': 'lbfgs', 'C': 0.01}. Best is trial 1 with value: 0.9102053325160895.\n",
            "/usr/local/lib/python3.10/dist-packages/optuna/distributions.py:685: UserWarning: The distribution is specified by [0.01, 1] and step=5, but the range is not divisible by `step`. It will be replaced by [0.01, 0.01].\n",
            "  warnings.warn(\n",
            "/usr/local/lib/python3.10/dist-packages/sklearn/linear_model/_logistic.py:1173: FutureWarning: `penalty='none'`has been deprecated in 1.2 and will be removed in 1.4. To keep the past behaviour, set `penalty=None`.\n",
            "  warnings.warn(\n",
            "/usr/local/lib/python3.10/dist-packages/sklearn/linear_model/_logistic.py:1181: UserWarning: Setting penalty=None will ignore the C and l1_ratio parameters\n",
            "  warnings.warn(\n",
            "/usr/local/lib/python3.10/dist-packages/sklearn/linear_model/_logistic.py:458: ConvergenceWarning: lbfgs failed to converge (status=1):\n",
            "STOP: TOTAL NO. of ITERATIONS REACHED LIMIT.\n",
            "\n",
            "Increase the number of iterations (max_iter) or scale the data as shown in:\n",
            "    https://scikit-learn.org/stable/modules/preprocessing.html\n",
            "Please also refer to the documentation for alternative solver options:\n",
            "    https://scikit-learn.org/stable/modules/linear_model.html#logistic-regression\n",
            "  n_iter_i = _check_optimize_result(\n",
            "[I 2023-08-28 13:56:41,991] Trial 2 finished with value: 0.9102053325160895 and parameters: {'penalty': 'none', 'solver': 'lbfgs', 'C': 0.01}. Best is trial 1 with value: 0.9102053325160895.\n",
            "/usr/local/lib/python3.10/dist-packages/optuna/distributions.py:685: UserWarning: The distribution is specified by [0.01, 1] and step=5, but the range is not divisible by `step`. It will be replaced by [0.01, 0.01].\n",
            "  warnings.warn(\n",
            "[I 2023-08-28 13:56:42,739] Trial 3 finished with value: 0.8167067307692307 and parameters: {'penalty': 'l2', 'solver': 'lbfgs', 'C': 0.01}. Best is trial 1 with value: 0.9102053325160895.\n",
            "/usr/local/lib/python3.10/dist-packages/optuna/distributions.py:685: UserWarning: The distribution is specified by [0.01, 1] and step=5, but the range is not divisible by `step`. It will be replaced by [0.01, 0.01].\n",
            "  warnings.warn(\n",
            "[I 2023-08-28 13:56:49,133] Trial 4 finished with value: 0.8170621808350855 and parameters: {'penalty': 'l2', 'solver': 'sag', 'C': 0.01}. Best is trial 1 with value: 0.9102053325160895.\n",
            "/usr/local/lib/python3.10/dist-packages/optuna/distributions.py:685: UserWarning: The distribution is specified by [0.01, 1] and step=5, but the range is not divisible by `step`. It will be replaced by [0.01, 0.01].\n",
            "  warnings.warn(\n",
            "/usr/local/lib/python3.10/dist-packages/sklearn/linear_model/_logistic.py:1173: FutureWarning: `penalty='none'`has been deprecated in 1.2 and will be removed in 1.4. To keep the past behaviour, set `penalty=None`.\n",
            "  warnings.warn(\n",
            "/usr/local/lib/python3.10/dist-packages/sklearn/linear_model/_logistic.py:1181: UserWarning: Setting penalty=None will ignore the C and l1_ratio parameters\n",
            "  warnings.warn(\n",
            "/usr/local/lib/python3.10/dist-packages/sklearn/linear_model/_sag.py:350: ConvergenceWarning: The max_iter was reached which means the coef_ did not converge\n",
            "  warnings.warn(\n",
            "[I 2023-08-28 13:56:58,282] Trial 5 finished with value: 0.8856269113149847 and parameters: {'penalty': 'none', 'solver': 'sag', 'C': 0.01}. Best is trial 1 with value: 0.9102053325160895.\n",
            "/usr/local/lib/python3.10/dist-packages/optuna/distributions.py:685: UserWarning: The distribution is specified by [0.01, 1] and step=5, but the range is not divisible by `step`. It will be replaced by [0.01, 0.01].\n",
            "  warnings.warn(\n",
            "/usr/local/lib/python3.10/dist-packages/sklearn/linear_model/_logistic.py:1173: FutureWarning: `penalty='none'`has been deprecated in 1.2 and will be removed in 1.4. To keep the past behaviour, set `penalty=None`.\n",
            "  warnings.warn(\n",
            "/usr/local/lib/python3.10/dist-packages/sklearn/linear_model/_logistic.py:1181: UserWarning: Setting penalty=None will ignore the C and l1_ratio parameters\n",
            "  warnings.warn(\n",
            "/usr/local/lib/python3.10/dist-packages/sklearn/linear_model/_sag.py:350: ConvergenceWarning: The max_iter was reached which means the coef_ did not converge\n",
            "  warnings.warn(\n",
            "[I 2023-08-28 13:57:05,401] Trial 6 finished with value: 0.8856269113149847 and parameters: {'penalty': 'none', 'solver': 'sag', 'C': 0.01}. Best is trial 1 with value: 0.9102053325160895.\n",
            "/usr/local/lib/python3.10/dist-packages/optuna/distributions.py:685: UserWarning: The distribution is specified by [0.01, 1] and step=5, but the range is not divisible by `step`. It will be replaced by [0.01, 0.01].\n",
            "  warnings.warn(\n",
            "/usr/local/lib/python3.10/dist-packages/sklearn/linear_model/_logistic.py:1173: FutureWarning: `penalty='none'`has been deprecated in 1.2 and will be removed in 1.4. To keep the past behaviour, set `penalty=None`.\n",
            "  warnings.warn(\n",
            "/usr/local/lib/python3.10/dist-packages/sklearn/linear_model/_logistic.py:1181: UserWarning: Setting penalty=None will ignore the C and l1_ratio parameters\n",
            "  warnings.warn(\n",
            "/usr/local/lib/python3.10/dist-packages/sklearn/linear_model/_sag.py:350: ConvergenceWarning: The max_iter was reached which means the coef_ did not converge\n",
            "  warnings.warn(\n",
            "[I 2023-08-28 13:57:14,377] Trial 7 finished with value: 0.8856269113149847 and parameters: {'penalty': 'none', 'solver': 'sag', 'C': 0.01}. Best is trial 1 with value: 0.9102053325160895.\n",
            "/usr/local/lib/python3.10/dist-packages/optuna/distributions.py:685: UserWarning: The distribution is specified by [0.01, 1] and step=5, but the range is not divisible by `step`. It will be replaced by [0.01, 0.01].\n",
            "  warnings.warn(\n",
            "[I 2023-08-28 13:57:15,099] Trial 8 finished with value: 0.8167067307692307 and parameters: {'penalty': 'l2', 'solver': 'lbfgs', 'C': 0.01}. Best is trial 1 with value: 0.9102053325160895.\n",
            "/usr/local/lib/python3.10/dist-packages/optuna/distributions.py:685: UserWarning: The distribution is specified by [0.01, 1] and step=5, but the range is not divisible by `step`. It will be replaced by [0.01, 0.01].\n",
            "  warnings.warn(\n",
            "/usr/local/lib/python3.10/dist-packages/sklearn/linear_model/_logistic.py:1173: FutureWarning: `penalty='none'`has been deprecated in 1.2 and will be removed in 1.4. To keep the past behaviour, set `penalty=None`.\n",
            "  warnings.warn(\n",
            "/usr/local/lib/python3.10/dist-packages/sklearn/linear_model/_logistic.py:1181: UserWarning: Setting penalty=None will ignore the C and l1_ratio parameters\n",
            "  warnings.warn(\n",
            "/usr/local/lib/python3.10/dist-packages/sklearn/linear_model/_sag.py:350: ConvergenceWarning: The max_iter was reached which means the coef_ did not converge\n",
            "  warnings.warn(\n",
            "[I 2023-08-28 13:57:25,721] Trial 9 finished with value: 0.8856269113149847 and parameters: {'penalty': 'none', 'solver': 'sag', 'C': 0.01}. Best is trial 1 with value: 0.9102053325160895.\n",
            "/usr/local/lib/python3.10/dist-packages/optuna/distributions.py:685: UserWarning: The distribution is specified by [0.01, 1] and step=5, but the range is not divisible by `step`. It will be replaced by [0.01, 0.01].\n",
            "  warnings.warn(\n",
            "[I 2023-08-28 13:57:26,802] Trial 10 finished with value: 0.8167067307692307 and parameters: {'penalty': 'l2', 'solver': 'lbfgs', 'C': 0.01}. Best is trial 1 with value: 0.9102053325160895.\n",
            "/usr/local/lib/python3.10/dist-packages/optuna/distributions.py:685: UserWarning: The distribution is specified by [0.01, 1] and step=5, but the range is not divisible by `step`. It will be replaced by [0.01, 0.01].\n",
            "  warnings.warn(\n",
            "/usr/local/lib/python3.10/dist-packages/sklearn/linear_model/_logistic.py:1173: FutureWarning: `penalty='none'`has been deprecated in 1.2 and will be removed in 1.4. To keep the past behaviour, set `penalty=None`.\n",
            "  warnings.warn(\n",
            "/usr/local/lib/python3.10/dist-packages/sklearn/linear_model/_logistic.py:1181: UserWarning: Setting penalty=None will ignore the C and l1_ratio parameters\n",
            "  warnings.warn(\n",
            "/usr/local/lib/python3.10/dist-packages/sklearn/linear_model/_logistic.py:458: ConvergenceWarning: lbfgs failed to converge (status=1):\n",
            "STOP: TOTAL NO. of ITERATIONS REACHED LIMIT.\n",
            "\n",
            "Increase the number of iterations (max_iter) or scale the data as shown in:\n",
            "    https://scikit-learn.org/stable/modules/preprocessing.html\n",
            "Please also refer to the documentation for alternative solver options:\n",
            "    https://scikit-learn.org/stable/modules/linear_model.html#logistic-regression\n",
            "  n_iter_i = _check_optimize_result(\n",
            "[I 2023-08-28 13:57:27,784] Trial 11 finished with value: 0.9102053325160895 and parameters: {'penalty': 'none', 'solver': 'lbfgs', 'C': 0.01}. Best is trial 1 with value: 0.9102053325160895.\n",
            "/usr/local/lib/python3.10/dist-packages/optuna/distributions.py:685: UserWarning: The distribution is specified by [0.01, 1] and step=5, but the range is not divisible by `step`. It will be replaced by [0.01, 0.01].\n",
            "  warnings.warn(\n",
            "/usr/local/lib/python3.10/dist-packages/sklearn/linear_model/_logistic.py:1173: FutureWarning: `penalty='none'`has been deprecated in 1.2 and will be removed in 1.4. To keep the past behaviour, set `penalty=None`.\n",
            "  warnings.warn(\n",
            "/usr/local/lib/python3.10/dist-packages/sklearn/linear_model/_logistic.py:1181: UserWarning: Setting penalty=None will ignore the C and l1_ratio parameters\n",
            "  warnings.warn(\n",
            "/usr/local/lib/python3.10/dist-packages/sklearn/linear_model/_logistic.py:458: ConvergenceWarning: lbfgs failed to converge (status=1):\n",
            "STOP: TOTAL NO. of ITERATIONS REACHED LIMIT.\n",
            "\n",
            "Increase the number of iterations (max_iter) or scale the data as shown in:\n",
            "    https://scikit-learn.org/stable/modules/preprocessing.html\n",
            "Please also refer to the documentation for alternative solver options:\n",
            "    https://scikit-learn.org/stable/modules/linear_model.html#logistic-regression\n",
            "  n_iter_i = _check_optimize_result(\n",
            "[I 2023-08-28 13:57:28,761] Trial 12 finished with value: 0.9102053325160895 and parameters: {'penalty': 'none', 'solver': 'lbfgs', 'C': 0.01}. Best is trial 1 with value: 0.9102053325160895.\n",
            "/usr/local/lib/python3.10/dist-packages/optuna/distributions.py:685: UserWarning: The distribution is specified by [0.01, 1] and step=5, but the range is not divisible by `step`. It will be replaced by [0.01, 0.01].\n",
            "  warnings.warn(\n",
            "/usr/local/lib/python3.10/dist-packages/sklearn/linear_model/_logistic.py:1173: FutureWarning: `penalty='none'`has been deprecated in 1.2 and will be removed in 1.4. To keep the past behaviour, set `penalty=None`.\n",
            "  warnings.warn(\n",
            "/usr/local/lib/python3.10/dist-packages/sklearn/linear_model/_logistic.py:1181: UserWarning: Setting penalty=None will ignore the C and l1_ratio parameters\n",
            "  warnings.warn(\n",
            "/usr/local/lib/python3.10/dist-packages/sklearn/linear_model/_logistic.py:458: ConvergenceWarning: lbfgs failed to converge (status=1):\n",
            "STOP: TOTAL NO. of ITERATIONS REACHED LIMIT.\n",
            "\n",
            "Increase the number of iterations (max_iter) or scale the data as shown in:\n",
            "    https://scikit-learn.org/stable/modules/preprocessing.html\n",
            "Please also refer to the documentation for alternative solver options:\n",
            "    https://scikit-learn.org/stable/modules/linear_model.html#logistic-regression\n",
            "  n_iter_i = _check_optimize_result(\n",
            "[I 2023-08-28 13:57:29,760] Trial 13 finished with value: 0.9102053325160895 and parameters: {'penalty': 'none', 'solver': 'lbfgs', 'C': 0.01}. Best is trial 1 with value: 0.9102053325160895.\n",
            "/usr/local/lib/python3.10/dist-packages/optuna/distributions.py:685: UserWarning: The distribution is specified by [0.01, 1] and step=5, but the range is not divisible by `step`. It will be replaced by [0.01, 0.01].\n",
            "  warnings.warn(\n",
            "/usr/local/lib/python3.10/dist-packages/sklearn/linear_model/_logistic.py:1173: FutureWarning: `penalty='none'`has been deprecated in 1.2 and will be removed in 1.4. To keep the past behaviour, set `penalty=None`.\n",
            "  warnings.warn(\n",
            "/usr/local/lib/python3.10/dist-packages/sklearn/linear_model/_logistic.py:1181: UserWarning: Setting penalty=None will ignore the C and l1_ratio parameters\n",
            "  warnings.warn(\n",
            "/usr/local/lib/python3.10/dist-packages/sklearn/linear_model/_logistic.py:458: ConvergenceWarning: lbfgs failed to converge (status=1):\n",
            "STOP: TOTAL NO. of ITERATIONS REACHED LIMIT.\n",
            "\n",
            "Increase the number of iterations (max_iter) or scale the data as shown in:\n",
            "    https://scikit-learn.org/stable/modules/preprocessing.html\n",
            "Please also refer to the documentation for alternative solver options:\n",
            "    https://scikit-learn.org/stable/modules/linear_model.html#logistic-regression\n",
            "  n_iter_i = _check_optimize_result(\n",
            "[I 2023-08-28 13:57:30,791] Trial 14 finished with value: 0.9102053325160895 and parameters: {'penalty': 'none', 'solver': 'lbfgs', 'C': 0.01}. Best is trial 1 with value: 0.9102053325160895.\n",
            "/usr/local/lib/python3.10/dist-packages/optuna/distributions.py:685: UserWarning: The distribution is specified by [0.01, 1] and step=5, but the range is not divisible by `step`. It will be replaced by [0.01, 0.01].\n",
            "  warnings.warn(\n",
            "/usr/local/lib/python3.10/dist-packages/sklearn/linear_model/_logistic.py:1173: FutureWarning: `penalty='none'`has been deprecated in 1.2 and will be removed in 1.4. To keep the past behaviour, set `penalty=None`.\n",
            "  warnings.warn(\n",
            "/usr/local/lib/python3.10/dist-packages/sklearn/linear_model/_logistic.py:1181: UserWarning: Setting penalty=None will ignore the C and l1_ratio parameters\n",
            "  warnings.warn(\n",
            "/usr/local/lib/python3.10/dist-packages/sklearn/linear_model/_logistic.py:458: ConvergenceWarning: lbfgs failed to converge (status=1):\n",
            "STOP: TOTAL NO. of ITERATIONS REACHED LIMIT.\n",
            "\n",
            "Increase the number of iterations (max_iter) or scale the data as shown in:\n",
            "    https://scikit-learn.org/stable/modules/preprocessing.html\n",
            "Please also refer to the documentation for alternative solver options:\n",
            "    https://scikit-learn.org/stable/modules/linear_model.html#logistic-regression\n",
            "  n_iter_i = _check_optimize_result(\n",
            "[I 2023-08-28 13:57:31,800] Trial 15 finished with value: 0.9102053325160895 and parameters: {'penalty': 'none', 'solver': 'lbfgs', 'C': 0.01}. Best is trial 1 with value: 0.9102053325160895.\n",
            "/usr/local/lib/python3.10/dist-packages/optuna/distributions.py:685: UserWarning: The distribution is specified by [0.01, 1] and step=5, but the range is not divisible by `step`. It will be replaced by [0.01, 0.01].\n",
            "  warnings.warn(\n",
            "/usr/local/lib/python3.10/dist-packages/sklearn/linear_model/_logistic.py:1173: FutureWarning: `penalty='none'`has been deprecated in 1.2 and will be removed in 1.4. To keep the past behaviour, set `penalty=None`.\n",
            "  warnings.warn(\n",
            "/usr/local/lib/python3.10/dist-packages/sklearn/linear_model/_logistic.py:1181: UserWarning: Setting penalty=None will ignore the C and l1_ratio parameters\n",
            "  warnings.warn(\n",
            "/usr/local/lib/python3.10/dist-packages/sklearn/linear_model/_logistic.py:458: ConvergenceWarning: lbfgs failed to converge (status=1):\n",
            "STOP: TOTAL NO. of ITERATIONS REACHED LIMIT.\n",
            "\n",
            "Increase the number of iterations (max_iter) or scale the data as shown in:\n",
            "    https://scikit-learn.org/stable/modules/preprocessing.html\n",
            "Please also refer to the documentation for alternative solver options:\n",
            "    https://scikit-learn.org/stable/modules/linear_model.html#logistic-regression\n",
            "  n_iter_i = _check_optimize_result(\n",
            "[I 2023-08-28 13:57:32,837] Trial 16 finished with value: 0.9102053325160895 and parameters: {'penalty': 'none', 'solver': 'lbfgs', 'C': 0.01}. Best is trial 1 with value: 0.9102053325160895.\n",
            "/usr/local/lib/python3.10/dist-packages/optuna/distributions.py:685: UserWarning: The distribution is specified by [0.01, 1] and step=5, but the range is not divisible by `step`. It will be replaced by [0.01, 0.01].\n",
            "  warnings.warn(\n",
            "/usr/local/lib/python3.10/dist-packages/sklearn/linear_model/_logistic.py:1173: FutureWarning: `penalty='none'`has been deprecated in 1.2 and will be removed in 1.4. To keep the past behaviour, set `penalty=None`.\n",
            "  warnings.warn(\n",
            "/usr/local/lib/python3.10/dist-packages/sklearn/linear_model/_logistic.py:1181: UserWarning: Setting penalty=None will ignore the C and l1_ratio parameters\n",
            "  warnings.warn(\n",
            "/usr/local/lib/python3.10/dist-packages/sklearn/linear_model/_logistic.py:458: ConvergenceWarning: lbfgs failed to converge (status=1):\n",
            "STOP: TOTAL NO. of ITERATIONS REACHED LIMIT.\n",
            "\n",
            "Increase the number of iterations (max_iter) or scale the data as shown in:\n",
            "    https://scikit-learn.org/stable/modules/preprocessing.html\n",
            "Please also refer to the documentation for alternative solver options:\n",
            "    https://scikit-learn.org/stable/modules/linear_model.html#logistic-regression\n",
            "  n_iter_i = _check_optimize_result(\n",
            "[I 2023-08-28 13:57:33,835] Trial 17 finished with value: 0.9102053325160895 and parameters: {'penalty': 'none', 'solver': 'lbfgs', 'C': 0.01}. Best is trial 1 with value: 0.9102053325160895.\n",
            "/usr/local/lib/python3.10/dist-packages/optuna/distributions.py:685: UserWarning: The distribution is specified by [0.01, 1] and step=5, but the range is not divisible by `step`. It will be replaced by [0.01, 0.01].\n",
            "  warnings.warn(\n",
            "[I 2023-08-28 13:57:34,555] Trial 18 finished with value: 0.8167067307692307 and parameters: {'penalty': 'l2', 'solver': 'lbfgs', 'C': 0.01}. Best is trial 1 with value: 0.9102053325160895.\n",
            "/usr/local/lib/python3.10/dist-packages/optuna/distributions.py:685: UserWarning: The distribution is specified by [0.01, 1] and step=5, but the range is not divisible by `step`. It will be replaced by [0.01, 0.01].\n",
            "  warnings.warn(\n",
            "/usr/local/lib/python3.10/dist-packages/sklearn/linear_model/_logistic.py:1173: FutureWarning: `penalty='none'`has been deprecated in 1.2 and will be removed in 1.4. To keep the past behaviour, set `penalty=None`.\n",
            "  warnings.warn(\n",
            "/usr/local/lib/python3.10/dist-packages/sklearn/linear_model/_logistic.py:1181: UserWarning: Setting penalty=None will ignore the C and l1_ratio parameters\n",
            "  warnings.warn(\n",
            "/usr/local/lib/python3.10/dist-packages/sklearn/linear_model/_logistic.py:458: ConvergenceWarning: lbfgs failed to converge (status=1):\n",
            "STOP: TOTAL NO. of ITERATIONS REACHED LIMIT.\n",
            "\n",
            "Increase the number of iterations (max_iter) or scale the data as shown in:\n",
            "    https://scikit-learn.org/stable/modules/preprocessing.html\n",
            "Please also refer to the documentation for alternative solver options:\n",
            "    https://scikit-learn.org/stable/modules/linear_model.html#logistic-regression\n",
            "  n_iter_i = _check_optimize_result(\n",
            "[I 2023-08-28 13:57:35,569] Trial 19 finished with value: 0.9102053325160895 and parameters: {'penalty': 'none', 'solver': 'lbfgs', 'C': 0.01}. Best is trial 1 with value: 0.9102053325160895.\n"
          ]
        }
      ],
      "source": [
        "def optuna_lr(trial):\n",
        "  # задаем пространства поиска гиперпараметров\n",
        "  penalty = trial.suggest_categorical('penalty', ['l2', 'none'])\n",
        "  solver = trial.suggest_categorical('solver', ['lbfgs', 'sag'])\n",
        "  C = trial.suggest_float('C', 0.01, 1, step=5)\n",
        "\n",
        "\n",
        "  # создаем модель\n",
        "  model = linear_model.LogisticRegression(penalty=penalty,\n",
        "                                          solver=solver,\n",
        "                                          C=C,\n",
        "                                          random_state=random_state)\n",
        "  # обучаем модель\n",
        "  model.fit(X_train, y_train)\n",
        "  score = metrics.f1_score(y_train, model.predict(X_train))\n",
        "\n",
        "  return score\n",
        "\n",
        "  %%time\n",
        "# cоздаем объект исследования\n",
        "# можем напрямую указать, что нам необходимо максимизировать метрику direction=\"maximize\"\n",
        "study = optuna.create_study(study_name=\"LogisticRegression\", direction=\"maximize\")\n",
        "# ищем лучшую комбинацию гиперпараметров n_trials раз\n",
        "study.optimize(optuna_lr, n_trials=20)"
      ]
    },
    {
      "cell_type": "code",
      "execution_count": null,
      "id": "caf83249",
      "metadata": {
        "colab": {
          "base_uri": "https://localhost:8080/"
        },
        "id": "caf83249",
        "outputId": "edafd24b-1b99-4776-9078-dbb15e93007d"
      },
      "outputs": [
        {
          "name": "stdout",
          "output_type": "stream",
          "text": [
            "Наилучшие значения гиперпараметров {'penalty': 'none', 'solver': 'lbfgs', 'C': 0.01}\n",
            "f1_score на обучающем наборе: 0.91\n"
          ]
        }
      ],
      "source": [
        "# выводим результаты на обучающей выборке\n",
        "print(\"Наилучшие значения гиперпараметров {}\".format(study.best_params))\n",
        "print(\"f1_score на обучающем наборе: {:.2f}\".format(study.best_value))"
      ]
    },
    {
      "cell_type": "code",
      "execution_count": null,
      "id": "cc74d15a",
      "metadata": {
        "colab": {
          "base_uri": "https://localhost:8080/"
        },
        "id": "cc74d15a",
        "outputId": "0dbdfae8-bb5a-40fb-c08c-71e9e4942dbe"
      },
      "outputs": [
        {
          "name": "stderr",
          "output_type": "stream",
          "text": [
            "/usr/local/lib/python3.10/dist-packages/sklearn/linear_model/_logistic.py:1173: FutureWarning: `penalty='none'`has been deprecated in 1.2 and will be removed in 1.4. To keep the past behaviour, set `penalty=None`.\n",
            "  warnings.warn(\n",
            "/usr/local/lib/python3.10/dist-packages/sklearn/linear_model/_logistic.py:1181: UserWarning: Setting penalty=None will ignore the C and l1_ratio parameters\n",
            "  warnings.warn(\n"
          ]
        },
        {
          "name": "stdout",
          "output_type": "stream",
          "text": [
            "accuracy на тестовом наборе: 0.73\n",
            "f1_score на тестовом наборе: 0.75\n"
          ]
        },
        {
          "name": "stderr",
          "output_type": "stream",
          "text": [
            "/usr/local/lib/python3.10/dist-packages/sklearn/linear_model/_logistic.py:458: ConvergenceWarning: lbfgs failed to converge (status=1):\n",
            "STOP: TOTAL NO. of ITERATIONS REACHED LIMIT.\n",
            "\n",
            "Increase the number of iterations (max_iter) or scale the data as shown in:\n",
            "    https://scikit-learn.org/stable/modules/preprocessing.html\n",
            "Please also refer to the documentation for alternative solver options:\n",
            "    https://scikit-learn.org/stable/modules/linear_model.html#logistic-regression\n",
            "  n_iter_i = _check_optimize_result(\n"
          ]
        }
      ],
      "source": [
        "# рассчитаем точность для тестовой выборки\n",
        "model = linear_model.LogisticRegression(**study.best_params,random_state=random_state, )\n",
        "model.fit(X_train, y_train)\n",
        "y_train_pred = model.predict(X_train)\n",
        "print(\"accuracy на тестовом наборе: {:.2f}\".format(model.score(X_test, y_test)))\n",
        "y_test_pred = model.predict(X_test)\n",
        "print('f1_score на тестовом наборе: {:.2f}'.format(metrics.f1_score(y_test, y_test_pred)))"
      ]
    },
    {
      "cell_type": "markdown",
      "id": "jBSbPYAYaAQ9",
      "metadata": {
        "id": "jBSbPYAYaAQ9",
        "tags": []
      },
      "source": [
        "#### **Случайный лес**"
      ]
    },
    {
      "cell_type": "markdown",
      "id": "-4-TPHjgTBOs",
      "metadata": {
        "id": "-4-TPHjgTBOs"
      },
      "source": [
        "Проделаем аналогичное для RandomForestClassifier().\n",
        "Сначала посчитаем модель с параметрами по умолчанию и оценим метрику:"
      ]
    },
    {
      "cell_type": "code",
      "execution_count": null,
      "id": "XUYSiTfraARA",
      "metadata": {
        "colab": {
          "base_uri": "https://localhost:8080/"
        },
        "id": "XUYSiTfraARA",
        "outputId": "88239dea-7de1-4528-cd61-35093ee98448"
      },
      "outputs": [
        {
          "name": "stdout",
          "output_type": "stream",
          "text": [
            "Train: 1.00\n",
            "Test: 0.81\n"
          ]
        }
      ],
      "source": [
        "#Создаем объект класса случайный лес\n",
        "rf = ensemble.RandomForestClassifier(random_state=42)\n",
        "\n",
        "#Обучаем модель\n",
        "rf.fit(X_train, y_train)\n",
        "#Выводим значения метрики\n",
        "y_train_pred = rf.predict(X_train)\n",
        "print('Train: {:.2f}'.format(metrics.f1_score(y_train, y_train_pred)))\n",
        "y_test_pred = rf.predict(X_test)\n",
        "print('Test: {:.2f}'.format(metrics.f1_score(y_test, y_test_pred)))"
      ]
    },
    {
      "cell_type": "markdown",
      "id": "mFu0_kEXVp1q",
      "metadata": {
        "id": "mFu0_kEXVp1q"
      },
      "source": [
        "Теперь зададим сетку гиперпараметров:\n",
        "\n",
        "*   'n_estimators' - количество деревьев в лесу, по умолчанию =100\n",
        "\n",
        "*  'min_samples_leaf' - минимальное количество объектов в листе;\n",
        "*  'max_depth': максимальная глубина дерева, не должна быть слишком большой, иначе будет переобучение;\n",
        "\n",
        "\n",
        "\n",
        "\n",
        "И посчитаем RandomizedSearchCV() и затем GridSearchCV()\n",
        "\n",
        "\n",
        "\n"
      ]
    },
    {
      "cell_type": "code",
      "execution_count": null,
      "id": "TBSxQJ6JzS1f",
      "metadata": {
        "colab": {
          "base_uri": "https://localhost:8080/"
        },
        "id": "TBSxQJ6JzS1f",
        "outputId": "27054764-b9d6-48dd-f178-c401d66a18d8"
      },
      "outputs": [
        {
          "name": "stdout",
          "output_type": "stream",
          "text": [
            "CPU times: user 3.37 s, sys: 240 ms, total: 3.61 s\n",
            "Wall time: 1min 14s\n",
            "f1_score на обучающем наборе: 0.95\n",
            "accuracy на тестовом наборе: 0.81\n",
            "f1_score на тестовом наборе: 0.83\n",
            "Наилучшие значения гиперпараметров: {'n_estimators': 170, 'min_samples_leaf': 5, 'max_depth': 26}\n"
          ]
        }
      ],
      "source": [
        "param_distributions = {'n_estimators': list(range(80, 200, 30)),\n",
        "              'min_samples_leaf': [5],\n",
        "              'max_depth': list(np.linspace(20, 40, 10, dtype=int))\n",
        "              }\n",
        "\n",
        "random_search_forest = RandomizedSearchCV(\n",
        "    estimator=ensemble.RandomForestClassifier(random_state=42),\n",
        "    param_distributions=param_distributions,\n",
        "    cv=5,\n",
        "    n_iter = 10,\n",
        "    n_jobs = -1\n",
        ")\n",
        "%time random_search_forest.fit(X_train, y_train)\n",
        "y_train_pred = random_search_forest.predict(X_train)\n",
        "print('f1_score на обучающем наборе: {:.2f}'.format(metrics.f1_score(y_train, y_train_pred)))\n",
        "print(\"accuracy на тестовом наборе: {:.2f}\".format(random_search_forest.score(X_test, y_test)))\n",
        "y_test_pred = random_search_forest.predict(X_test)\n",
        "print('f1_score на тестовом наборе: {:.2f}'.format(metrics.f1_score(y_test, y_test_pred)))\n",
        "print(\"Наилучшие значения гиперпараметров: {}\".format(random_search_forest.best_params_))"
      ]
    },
    {
      "cell_type": "code",
      "execution_count": null,
      "id": "FMojHKnN06ke",
      "metadata": {
        "colab": {
          "base_uri": "https://localhost:8080/"
        },
        "id": "FMojHKnN06ke",
        "outputId": "13086273-a822-4b8f-96d9-93fb42948bf9"
      },
      "outputs": [
        {
          "name": "stdout",
          "output_type": "stream",
          "text": [
            "CPU times: user 3.65 s, sys: 311 ms, total: 3.96 s\n",
            "Wall time: 2min 20s\n",
            "f1_score на обучающем наборе: 0.94\n",
            "accuracy на тестовом наборе: 0.80\n",
            "f1_score на тестовом наборе: 0.82\n",
            "Наилучшие значения гиперпараметров: {'max_depth': 20, 'min_samples_leaf': 5, 'n_estimators': 140}\n"
          ]
        }
      ],
      "source": [
        "param_grid = {'n_estimators': list(range(80, 200, 30)),\n",
        "              'min_samples_leaf': [5],\n",
        "              'max_depth': list(np.linspace(20, 40, 5, dtype=int))\n",
        "              }\n",
        "\n",
        "grid_search_forest = GridSearchCV(\n",
        "    estimator=ensemble.RandomForestClassifier(random_state=42),\n",
        "    param_grid=param_grid,\n",
        "    cv=5,\n",
        "    n_jobs = -1\n",
        ")\n",
        "%time grid_search_forest.fit(X_train, y_train)\n",
        "y_train_pred = grid_search_forest.predict(X_train)\n",
        "print('f1_score на обучающем наборе: {:.2f}'.format(metrics.f1_score(y_train, y_train_pred)))\n",
        "print(\"accuracy на тестовом наборе: {:.2f}\".format(grid_search_forest.score(X_test, y_test)))\n",
        "y_test_pred = grid_search_forest.predict(X_test)\n",
        "print('f1_score на тестовом наборе: {:.2f}'.format(metrics.f1_score(y_test, y_test_pred)))\n",
        "print(\"Наилучшие значения гиперпараметров: {}\".format(grid_search_forest.best_params_))"
      ]
    },
    {
      "cell_type": "markdown",
      "id": "9c224fa3-0468-4aa0-9877-057a98a92010",
      "metadata": {
        "id": "9c224fa3-0468-4aa0-9877-057a98a92010"
      },
      "source": [
        "## 3. Продвинутая оптимизация."
      ]
    },
    {
      "cell_type": "markdown",
      "id": "Kmo2b6kPChhN",
      "metadata": {
        "id": "Kmo2b6kPChhN"
      },
      "source": [
        "### <center> Hyperopt"
      ]
    },
    {
      "cell_type": "code",
      "execution_count": null,
      "id": "aSpCOHIW7i_u",
      "metadata": {
        "id": "aSpCOHIW7i_u"
      },
      "outputs": [],
      "source": [
        "# Устанавливаем библиотеку\n",
        "# !pip install hyperopt\n",
        "# или\n",
        "#!conda install -c conda-forge hyperopt"
      ]
    },
    {
      "cell_type": "code",
      "execution_count": null,
      "id": "Ae44foDuCzke",
      "metadata": {
        "colab": {
          "base_uri": "https://localhost:8080/"
        },
        "id": "Ae44foDuCzke",
        "outputId": "5183b612-6201-408d-9bb1-26fa8b1970cc"
      },
      "outputs": [
        {
          "name": "stdout",
          "output_type": "stream",
          "text": [
            "Версия Hyperopt : 0.2.7\n"
          ]
        }
      ],
      "source": [
        "#делаем импорт и выведем версию библиотеки\n",
        "from sklearn.model_selection import cross_val_score\n",
        "import hyperopt\n",
        "from hyperopt import hp, fmin, tpe, Trials\n",
        "# fmin - основная функция, она будет минимизировать наш функционал\n",
        "# tpe - алгоритм оптимизации\n",
        "# hp - включает набор методов для объявления пространства поиска гиперпараметров\n",
        "# trails - используется для логирования результатов\n",
        "\n",
        "print(\"Версия Hyperopt : {}\".format(hyperopt.__version__))"
      ]
    },
    {
      "cell_type": "markdown",
      "id": "z9K7uLdZ69xr",
      "metadata": {
        "id": "z9K7uLdZ69xr"
      },
      "source": [
        "Настроим оптимизацию гиперпараметров для алгоритма случайного леса."
      ]
    },
    {
      "cell_type": "code",
      "execution_count": null,
      "id": "8dWxW_9K_qJp",
      "metadata": {
        "id": "8dWxW_9K_qJp"
      },
      "outputs": [],
      "source": [
        "# зададим пространство поиска гиперпараметров\n",
        "space={'n_estimators': hp.quniform('n_estimators', 100, 200, 1),\n",
        "       'max_depth' : hp.quniform('max_depth', 15, 26, 1),\n",
        "       'min_samples_leaf': hp.quniform('min_samples_leaf', 2, 10, 1)\n",
        "      }"
      ]
    },
    {
      "cell_type": "markdown",
      "id": "pci4SxXM_Cb4",
      "metadata": {
        "id": "pci4SxXM_Cb4"
      },
      "source": [
        "Интерфейс hyperopt отличается от Grid или RandomizedSearch, поэтому нам нужно создать функцию для минимизации, она должна принимать словарь значений гиперпараметров и возвращать значение целевой функции."
      ]
    },
    {
      "cell_type": "code",
      "execution_count": null,
      "id": "t3JS7HXU8pd2",
      "metadata": {
        "id": "t3JS7HXU8pd2"
      },
      "outputs": [],
      "source": [
        "# зафксируем random_state\n",
        "random_state = 42\n",
        "def hyperopt_rf(params, cv=5, X=X_train, y=y_train, random_state=random_state):\n",
        "    # функция получает комбинацию гиперпараметров в \"params\"\n",
        "    params = {'n_estimators': int(params['n_estimators']),\n",
        "              'max_depth': int(params['max_depth']),\n",
        "             'min_samples_leaf': int(params['min_samples_leaf'])\n",
        "              }\n",
        "\n",
        "    # используем эту комбинацию для построения модели\n",
        "    model = ensemble.RandomForestClassifier(**params, random_state=random_state)\n",
        "\n",
        "    # обучаем модель\n",
        "    model.fit(X, y)\n",
        "    score = metrics.f1_score(y, model.predict(X))\n",
        "\n",
        "    # обучать модель можно также с помощью кросс-валидации\n",
        "    # применим  cross validation с тем же количеством фолдов\n",
        "    # score = cross_val_score(model, X, y, cv=cv, scoring=\"f1\", n_jobs=-1).mean()\n",
        "\n",
        "    # метрику необходимо минимизировать, поэтому ставим знак минус\n",
        "    return -score"
      ]
    },
    {
      "cell_type": "code",
      "execution_count": null,
      "id": "qxKIThc002O1",
      "metadata": {
        "colab": {
          "base_uri": "https://localhost:8080/"
        },
        "id": "qxKIThc002O1",
        "outputId": "e8c6db93-4414-4a22-8f31-79ab6ceac1d9"
      },
      "outputs": [
        {
          "name": "stdout",
          "output_type": "stream",
          "text": [
            "100%|██████████| 20/20 [00:50<00:00,  2.50s/trial, best loss: -0.988653787181846]\n",
            "Наилучшие значения гиперпараметров {'max_depth': 18.0, 'min_samples_leaf': 2.0, 'n_estimators': 103.0}\n",
            "CPU times: user 49.5 s, sys: 289 ms, total: 49.7 s\n",
            "Wall time: 50.1 s\n"
          ]
        }
      ],
      "source": [
        "%%time\n",
        "# начинаем подбор гиперпараметров\n",
        "\n",
        "trials = Trials() # используется для логирования результатов\n",
        "\n",
        "best=fmin(hyperopt_rf, # наша функция\n",
        "          space=space, # пространство гиперпараметров\n",
        "          algo=tpe.suggest, # алгоритм оптимизации, установлен по умолчанию, задавать необязательно\n",
        "          max_evals=20, # максимальное количество итераций\n",
        "          trials=trials, # логирование результатов\n",
        "          rstate=np.random.default_rng(random_state) # фиксируем для повторяемости результата\n",
        "         )\n",
        "print(\"Наилучшие значения гиперпараметров {}\".format(best))"
      ]
    },
    {
      "cell_type": "code",
      "execution_count": null,
      "id": "GjN-n5J601hy",
      "metadata": {
        "colab": {
          "base_uri": "https://localhost:8080/"
        },
        "id": "GjN-n5J601hy",
        "outputId": "e9026bb4-251b-44a0-b51a-5d51b72c5bb4"
      },
      "outputs": [
        {
          "name": "stdout",
          "output_type": "stream",
          "text": [
            "f1_score на обучающем наборе: 0.99\n",
            "accuracy на тестовом наборе: 0.80\n",
            "f1_score на тестовом наборе: 0.82\n"
          ]
        }
      ],
      "source": [
        "# рассчитаем точность для тестовой выборки\n",
        "model = ensemble.RandomForestClassifier(\n",
        "    random_state=random_state,\n",
        "    n_estimators=int(best['n_estimators']),\n",
        "    max_depth=int(best['max_depth']),\n",
        "    min_samples_leaf=int(best['min_samples_leaf'])\n",
        ")\n",
        "model.fit(X_train, y_train)\n",
        "y_train_pred = model.predict(X_train)\n",
        "print('f1_score на обучающем наборе: {:.2f}'.format(metrics.f1_score(y_train, y_train_pred)))\n",
        "print(\"accuracy на тестовом наборе: {:.2f}\".format(model.score(X_test, y_test)))\n",
        "y_test_pred = model.predict(X_test)\n",
        "print('f1_score на тестовом наборе: {:.2f}'.format(metrics.f1_score(y_test, y_test_pred)))"
      ]
    },
    {
      "cell_type": "code",
      "execution_count": null,
      "id": "m2DYa5gQ9Ffu",
      "metadata": {
        "colab": {
          "base_uri": "https://localhost:8080/",
          "height": 840
        },
        "id": "m2DYa5gQ9Ffu",
        "outputId": "8acd32b4-dc8a-434d-99ce-fd7252ef808e"
      },
      "outputs": [
        {
          "data": {
            "image/png": "[encoded data removed]",
            "text/plain": [
              "<Figure size 1000x1000 with 3 Axes>"
            ]
          },
          "metadata": {},
          "output_type": "display_data"
        }
      ],
      "source": [
        "# отрисуем, как менялась точность при различных гиперпараметрах\n",
        "tpe_results=np.array([[x['result']['loss'],\n",
        "                      x['misc']['vals']['max_depth'][0],\n",
        "                      x['misc']['vals']['n_estimators'][0]] for x in trials.trials])\n",
        "\n",
        "tpe_results_df=pd.DataFrame(tpe_results,\n",
        "                           columns=['score', 'max_depth', 'n_estimators'])\n",
        "# тепловая карта в данном случае не очень наглядна, возьмем линейный график\n",
        "tpe_results_df.plot(subplots=True,figsize=(10, 10));"
      ]
    },
    {
      "cell_type": "markdown",
      "id": "gawHqGmsHf4G",
      "metadata": {
        "id": "gawHqGmsHf4G"
      },
      "source": [
        "По графикам видно, что лучшая точность достигается именно в best_params. Но заметьте, что метрика отрицательная, так как нам необходимо максимизировать нашу метрику, в то время как,  hyperopt может только минимизировать."
      ]
    },
    {
      "cell_type": "markdown",
      "id": "b8734d51-d5d5-4424-b8a3-b341dde985b5",
      "metadata": {
        "id": "b8734d51-d5d5-4424-b8a3-b341dde985b5"
      },
      "source": [
        "## <center> Optuna"
      ]
    },
    {
      "cell_type": "code",
      "execution_count": null,
      "id": "cNySTr2GqwbF",
      "metadata": {
        "colab": {
          "base_uri": "https://localhost:8080/"
        },
        "id": "cNySTr2GqwbF",
        "outputId": "4a7694c0-cd3a-4f34-c384-35592ecd6e22"
      },
      "outputs": [
        {
          "name": "stdout",
          "output_type": "stream",
          "text": [
            "Collecting optuna\n",
            "  Downloading optuna-3.3.0-py3-none-any.whl (404 kB)\n",
            "\u001b[2K     \u001b[90m━━━━━━━━━━━━━━━━━━━━━━━━━━━━━━━━━━━━━━━\u001b[0m \u001b[32m404.2/404.2 kB\u001b[0m \u001b[31m4.5 MB/s\u001b[0m eta \u001b[36m0:00:00\u001b[0m\n",
            "\u001b[?25hCollecting alembic>=1.5.0 (from optuna)\n",
            "  Downloading alembic-1.11.3-py3-none-any.whl (225 kB)\n",
            "\u001b[2K     \u001b[90m━━━━━━━━━━━━━━━━━━━━━━━━━━━━━━━━━━━━━━━\u001b[0m \u001b[32m225.4/225.4 kB\u001b[0m \u001b[31m6.0 MB/s\u001b[0m eta \u001b[36m0:00:00\u001b[0m\n",
            "\u001b[?25hCollecting cmaes>=0.10.0 (from optuna)\n",
            "  Downloading cmaes-0.10.0-py3-none-any.whl (29 kB)\n",
            "Collecting colorlog (from optuna)\n",
            "  Downloading colorlog-6.7.0-py2.py3-none-any.whl (11 kB)\n",
            "Requirement already satisfied: numpy in /usr/local/lib/python3.10/dist-packages (from optuna) (1.23.5)\n",
            "Requirement already satisfied: packaging>=20.0 in /usr/local/lib/python3.10/dist-packages (from optuna) (23.1)\n",
            "Requirement already satisfied: sqlalchemy>=1.3.0 in /usr/local/lib/python3.10/dist-packages (from optuna) (2.0.20)\n",
            "Requirement already satisfied: tqdm in /usr/local/lib/python3.10/dist-packages (from optuna) (4.66.1)\n",
            "Requirement already satisfied: PyYAML in /usr/local/lib/python3.10/dist-packages (from optuna) (6.0.1)\n",
            "Collecting Mako (from alembic>=1.5.0->optuna)\n",
            "  Downloading Mako-1.2.4-py3-none-any.whl (78 kB)\n",
            "\u001b[2K     \u001b[90m━━━━━━━━━━━━━━━━━━━━━━━━━━━━━━━━━━━━━━━━\u001b[0m \u001b[32m78.7/78.7 kB\u001b[0m \u001b[31m7.1 MB/s\u001b[0m eta \u001b[36m0:00:00\u001b[0m\n",
            "\u001b[?25hRequirement already satisfied: typing-extensions>=4 in /usr/local/lib/python3.10/dist-packages (from alembic>=1.5.0->optuna) (4.7.1)\n",
            "Requirement already satisfied: greenlet!=0.4.17 in /usr/local/lib/python3.10/dist-packages (from sqlalchemy>=1.3.0->optuna) (2.0.2)\n",
            "Requirement already satisfied: MarkupSafe>=0.9.2 in /usr/local/lib/python3.10/dist-packages (from Mako->alembic>=1.5.0->optuna) (2.1.3)\n",
            "Installing collected packages: Mako, colorlog, cmaes, alembic, optuna\n",
            "Successfully installed Mako-1.2.4 alembic-1.11.3 cmaes-0.10.0 colorlog-6.7.0 optuna-3.3.0\n"
          ]
        }
      ],
      "source": [
        "# Устанавливаем библиотеку\n",
        "!pip install optuna\n",
        "# или\n",
        "#!conda install -c conda-forge optuna"
      ]
    },
    {
      "cell_type": "code",
      "execution_count": null,
      "id": "CQL0pyNGqQgR",
      "metadata": {
        "colab": {
          "base_uri": "https://localhost:8080/"
        },
        "id": "CQL0pyNGqQgR",
        "outputId": "8758dca9-0d31-4f2a-81b7-9c0d9ba405cf"
      },
      "outputs": [
        {
          "name": "stdout",
          "output_type": "stream",
          "text": [
            "Версия Optuna: 3.3.0\n"
          ]
        }
      ],
      "source": [
        "import optuna\n",
        "\n",
        "print(\"Версия Optuna: {}\".format(optuna.__version__))"
      ]
    },
    {
      "cell_type": "markdown",
      "id": "PPR54ca3DbDi",
      "metadata": {
        "id": "PPR54ca3DbDi"
      },
      "source": [
        "Настроим оптимизацию гиперпараметров для алгоритма случайного леса."
      ]
    },
    {
      "cell_type": "code",
      "execution_count": null,
      "id": "aSF_70FWu3T6",
      "metadata": {
        "id": "aSF_70FWu3T6"
      },
      "outputs": [],
      "source": [
        "def optuna_rf(trial):\n",
        "  # задаем пространства поиска гиперпараметров\n",
        "  n_estimators = trial.suggest_int('n_estimators', 100, 200, 1)\n",
        "  max_depth = trial.suggest_int('max_depth', 10, 30, 1)\n",
        "  min_samples_leaf = trial.suggest_int('min_samples_leaf', 2, 10, 1)\n",
        "\n",
        "  # создаем модель\n",
        "  model = ensemble.RandomForestClassifier(n_estimators=n_estimators,\n",
        "                                          max_depth=max_depth,\n",
        "                                          min_samples_leaf=min_samples_leaf,\n",
        "                                          random_state=random_state)\n",
        "  # обучаем модель\n",
        "  model.fit(X_train, y_train)\n",
        "  score = metrics.f1_score(y_train, model.predict(X_train))\n",
        "\n",
        "  return score\n",
        "\n"
      ]
    },
    {
      "cell_type": "code",
      "execution_count": null,
      "id": "ubC21yLQpYyF",
      "metadata": {
        "colab": {
          "base_uri": "https://localhost:8080/"
        },
        "id": "ubC21yLQpYyF",
        "outputId": "6b423cc9-4a01-4d94-86ff-8fc3b0c34f96"
      },
      "outputs": [
        {
          "name": "stderr",
          "output_type": "stream",
          "text": [
            "[I 2023-08-28 14:12:11,391] A new study created in memory with name: RandomForestClassifier\n",
            "[I 2023-08-28 14:12:13,579] Trial 0 finished with value: 0.9603658536585366 and parameters: {'n_estimators': 131, 'max_depth': 12, 'min_samples_leaf': 2}. Best is trial 0 with value: 0.9603658536585366.\n",
            "[I 2023-08-28 14:12:15,749] Trial 1 finished with value: 0.9911124731841863 and parameters: {'n_estimators': 115, 'max_depth': 28, 'min_samples_leaf': 2}. Best is trial 1 with value: 0.9911124731841863.\n",
            "[I 2023-08-28 14:12:17,522] Trial 2 finished with value: 0.9587786259541984 and parameters: {'n_estimators': 103, 'max_depth': 23, 'min_samples_leaf': 4}. Best is trial 1 with value: 0.9911124731841863.\n",
            "[I 2023-08-28 14:12:19,362] Trial 3 finished with value: 0.943476932477849 and parameters: {'n_estimators': 112, 'max_depth': 24, 'min_samples_leaf': 5}. Best is trial 1 with value: 0.9911124731841863.\n",
            "[I 2023-08-28 14:12:21,941] Trial 4 finished with value: 0.9364691508857667 and parameters: {'n_estimators': 139, 'max_depth': 18, 'min_samples_leaf': 6}. Best is trial 1 with value: 0.9911124731841863.\n",
            "[I 2023-08-28 14:12:25,363] Trial 5 finished with value: 0.9351285189718482 and parameters: {'n_estimators': 150, 'max_depth': 21, 'min_samples_leaf': 6}. Best is trial 1 with value: 0.9911124731841863.\n",
            "[I 2023-08-28 14:12:27,096] Trial 6 finished with value: 0.9071537290715374 and parameters: {'n_estimators': 119, 'max_depth': 30, 'min_samples_leaf': 9}. Best is trial 1 with value: 0.9911124731841863.\n",
            "[I 2023-08-28 14:12:29,823] Trial 7 finished with value: 0.9159278508101498 and parameters: {'n_estimators': 185, 'max_depth': 21, 'min_samples_leaf': 8}. Best is trial 1 with value: 0.9911124731841863.\n",
            "[I 2023-08-28 14:12:32,070] Trial 8 finished with value: 0.8885477433220754 and parameters: {'n_estimators': 166, 'max_depth': 13, 'min_samples_leaf': 10}. Best is trial 1 with value: 0.9911124731841863.\n",
            "[I 2023-08-28 14:12:33,528] Trial 9 finished with value: 0.912817375344142 and parameters: {'n_estimators': 101, 'max_depth': 12, 'min_samples_leaf': 7}. Best is trial 1 with value: 0.9911124731841863.\n",
            "[I 2023-08-28 14:12:38,064] Trial 10 finished with value: 0.9926470588235294 and parameters: {'n_estimators': 197, 'max_depth': 30, 'min_samples_leaf': 2}. Best is trial 10 with value: 0.9926470588235294.\n",
            "[I 2023-08-28 14:12:42,402] Trial 11 finished with value: 0.9926470588235294 and parameters: {'n_estimators': 199, 'max_depth': 30, 'min_samples_leaf': 2}. Best is trial 10 with value: 0.9926470588235294.\n",
            "[I 2023-08-28 14:12:45,887] Trial 12 finished with value: 0.9779816513761468 and parameters: {'n_estimators': 199, 'max_depth': 27, 'min_samples_leaf': 3}. Best is trial 10 with value: 0.9926470588235294.\n",
            "[I 2023-08-28 14:12:48,817] Trial 13 finished with value: 0.9580655035200489 and parameters: {'n_estimators': 176, 'max_depth': 30, 'min_samples_leaf': 4}. Best is trial 10 with value: 0.9926470588235294.\n",
            "[I 2023-08-28 14:12:53,506] Trial 14 finished with value: 0.992951271835734 and parameters: {'n_estimators': 198, 'max_depth': 26, 'min_samples_leaf': 2}. Best is trial 14 with value: 0.992951271835734.\n",
            "[I 2023-08-28 14:12:56,994] Trial 15 finished with value: 0.9575053500458575 and parameters: {'n_estimators': 182, 'max_depth': 26, 'min_samples_leaf': 4}. Best is trial 14 with value: 0.992951271835734.\n",
            "[I 2023-08-28 14:12:59,919] Trial 16 finished with value: 0.9734188817598532 and parameters: {'n_estimators': 165, 'max_depth': 18, 'min_samples_leaf': 3}. Best is trial 14 with value: 0.992951271835734.\n",
            "[I 2023-08-28 14:13:03,297] Trial 17 finished with value: 0.97796817625459 and parameters: {'n_estimators': 192, 'max_depth': 25, 'min_samples_leaf': 3}. Best is trial 14 with value: 0.992951271835734.\n",
            "[I 2023-08-28 14:13:06,585] Trial 18 finished with value: 0.9466300701433363 and parameters: {'n_estimators': 167, 'max_depth': 28, 'min_samples_leaf': 5}. Best is trial 14 with value: 0.992951271835734.\n",
            "[I 2023-08-28 14:13:10,336] Trial 19 finished with value: 0.9852851011649295 and parameters: {'n_estimators': 154, 'max_depth': 16, 'min_samples_leaf': 2}. Best is trial 14 with value: 0.992951271835734.\n"
          ]
        },
        {
          "name": "stdout",
          "output_type": "stream",
          "text": [
            "CPU times: user 58.3 s, sys: 325 ms, total: 58.7 s\n",
            "Wall time: 58.9 s\n"
          ]
        }
      ],
      "source": [
        "%%time\n",
        "# cоздаем объект исследования\n",
        "# можем напрямую указать, что нам необходимо максимизировать метрику direction=\"maximize\"\n",
        "study = optuna.create_study(study_name=\"RandomForestClassifier\", direction=\"maximize\")\n",
        "# ищем лучшую комбинацию гиперпараметров n_trials раз\n",
        "study.optimize(optuna_rf, n_trials=20)"
      ]
    },
    {
      "cell_type": "code",
      "execution_count": null,
      "id": "6cNF33I2pYaq",
      "metadata": {
        "colab": {
          "base_uri": "https://localhost:8080/"
        },
        "id": "6cNF33I2pYaq",
        "outputId": "5337ba27-602e-4883-bbcd-5b3dcec59323"
      },
      "outputs": [
        {
          "name": "stdout",
          "output_type": "stream",
          "text": [
            "Наилучшие значения гиперпараметров {'n_estimators': 198, 'max_depth': 26, 'min_samples_leaf': 2}\n",
            "f1_score на обучающем наборе: 0.99\n"
          ]
        }
      ],
      "source": [
        "# выводим результаты на обучающей выборке\n",
        "print(\"Наилучшие значения гиперпараметров {}\".format(study.best_params))\n",
        "print(\"f1_score на обучающем наборе: {:.2f}\".format(study.best_value))"
      ]
    },
    {
      "cell_type": "code",
      "execution_count": null,
      "id": "JlFIQ0p1pYAJ",
      "metadata": {
        "colab": {
          "base_uri": "https://localhost:8080/"
        },
        "id": "JlFIQ0p1pYAJ",
        "outputId": "c25b6712-0547-487b-d336-813f93d7fbf0"
      },
      "outputs": [
        {
          "name": "stdout",
          "output_type": "stream",
          "text": [
            "accuracy на тестовом наборе: 0.80\n",
            "f1_score на тестовом наборе: 0.82\n"
          ]
        }
      ],
      "source": [
        "# рассчитаем точность для тестовой выборки\n",
        "model = ensemble.RandomForestClassifier(**study.best_params,random_state=random_state, )\n",
        "model.fit(X_train, y_train)\n",
        "y_train_pred = model.predict(X_train)\n",
        "print(\"accuracy на тестовом наборе: {:.2f}\".format(model.score(X_test, y_test)))\n",
        "y_test_pred = model.predict(X_test)\n",
        "print('f1_score на тестовом наборе: {:.2f}'.format(metrics.f1_score(y_test, y_test_pred)))"
      ]
    }
  ],
  "metadata": {
    "colab": {
      "collapsed_sections": [
        "ezanmTbEaAOe"
      ],
      "provenance": [],
      "include_colab_link": true
    },
    "kernelspec": {
      "display_name": "Python 3 (ipykernel)",
      "language": "python",
      "name": "python3"
    },
    "language_info": {
      "codemirror_mode": {
        "name": "ipython",
        "version": 3
      },
      "file_extension": ".py",
      "mimetype": "text/x-python",
      "name": "python",
      "nbconvert_exporter": "python",
      "pygments_lexer": "ipython3",
      "version": "3.9.10"
    }
  },
  "nbformat": 4,
  "nbformat_minor": 5
}