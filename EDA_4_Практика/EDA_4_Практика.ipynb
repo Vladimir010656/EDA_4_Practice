{
  "cells": [
    {
      "cell_type": "markdown",
      "metadata": {
        "id": "yMG_XPwziMUN"
      },
      "source": [
        "# <center> Практика. Статистические тесты в контексте EDA"
      ]
    },
    {
      "attachments": {},
      "cell_type": "markdown",
      "metadata": {
        "id": "EMd2vwh8ihnl"
      },
      "source": [
        "## Постановка задачи\n",
        "\n",
        "К вам как опытному дата-сайентисту обратилось HR- агентство. Ему необходимо исследовать влияние различных факторов, влияющих на оплату труда специалистов Data Science  в различных компаниях, оценить динамику ее изменения, а также отследить иные взаимосвязи в данных.\n",
        "\n",
        "HR-агентство хочет ответить на следующие вопросы, касающиеся оплаты труда специалистов Data Science:\n",
        "\n",
        "- Наблюдается ли ежегодный рост зарплат у специалистов Data Scientist?\n",
        "- Какие факторы влияют на зарплату у специалистов Data Scientist?\n",
        "- Как соотносятся зарплаты Data Scientist и Data Engineer в различных компаниях?\n",
        "- Есть ли связь между наличием должностей Data Scientist и Data Engineer и размером компании?\n",
        "\n",
        "На каждый вопрос необходимо ответить с уровнем значимости $\\alpha=0.05$."
      ]
    },
    {
      "attachments": {},
      "cell_type": "markdown",
      "metadata": {
        "id": "xqjB2nBnNNkc"
      },
      "source": [
        "Ответить на эти вопросы нам помогут данные о годовых страховых выплатах с указанием характеристик клиентов.\n",
        "\n",
        "Данные содержат следующие столбцы:\n",
        "*   *work_year* — год, в котором была выплачена зарплата;\n",
        "*   *experience_level* — опыт работы на этой должности в течение года со следующими возможными значениями:( EN — Entry-level/Junior,MI — Mid-level/Intermediate, SE — Senior-level/Expert, EX — Executive-level/Director);\n",
        "*   *employment_type* — тип трудоустройства для этой роли:(PT — неполный рабочий день, FT — полный рабочий день, CT — контракт, FL — фриланс);\n",
        "*   *job_title* — роль, в которой соискатель работал в течение года;\n",
        "*   *salary* — общая выплаченная валовая сумма заработной платы;\n",
        "*   *salary_currency* — валюта выплачиваемой заработной платы в виде кода валюты ISO 4217;\n",
        "*   *salary_in_usd* — зарплата в долларах США (валютный курс, делённый на среднее значение курса доллара США за соответствующий год через fxdata.foorilla.com);\n",
        "*   *employee_residence* — Основная страна проживания сотрудника в течение рабочего года в виде кода страны ISO 3166;\n",
        "*   *remote_ratio* — общий объём работы, выполняемой удалённо:(0 — удалённой работы нет (менее 20 %), 50 — частично удалённая работа, 100 — полностью удалённая работа (более 80 %));\n",
        "*   *company_location* — страна главного офиса работодателя или филиала по контракту в виде кода страны ISO 3166;\n",
        "*   *company_size* — среднее количество людей, работавших в компании в течение года:(S — менее 50 сотрудников (небольшая компания), M — от 50 до 250 сотрудников (средняя компания), L — более 250 сотрудников (крупная компания));\n",
        "\n",
        "Источник датасета: “Data Science Job Salaries” (kaggle.com)"
      ]
    },
    {
      "cell_type": "markdown",
      "metadata": {
        "id": "_XMyOg3cgcN1"
      },
      "source": [
        "## Загрузка данных"
      ]
    },
    {
      "cell_type": "code",
      "execution_count": 1,
      "metadata": {
        "id": "2JjaPf35gyCK"
      },
      "outputs": [],
      "source": [
        "# загружаем необходимые библиотеки\n",
        "import pandas as pd\n",
        "import numpy as np\n",
        "\n",
        "from scipy import stats\n",
        "import statsmodels.api as sm\n",
        "from statsmodels import stats as sms\n",
        "\n",
        "import matplotlib.pyplot as plt\n",
        "import seaborn as sns\n",
        "\n",
        "# делаем визуальную настройку графиков\n",
        "sns.set_theme(\"notebook\") \n",
        "sns.set_palette(\"Set2\") "
      ]
    },
    {
      "cell_type": "code",
      "execution_count": 2,
      "metadata": {
        "colab": {
          "base_uri": "https://localhost:8080/",
          "height": 206
        },
        "id": "ZPiI902dv11F",
        "outputId": "eccef1b9-a3cc-4144-a9df-a2a020abf30c"
      },
      "outputs": [
        {
          "data": {
            "text/html": [
              "<div>\n",
              "<style scoped>\n",
              "    .dataframe tbody tr th:only-of-type {\n",
              "        vertical-align: middle;\n",
              "    }\n",
              "\n",
              "    .dataframe tbody tr th {\n",
              "        vertical-align: top;\n",
              "    }\n",
              "\n",
              "    .dataframe thead th {\n",
              "        text-align: right;\n",
              "    }\n",
              "</style>\n",
              "<table border=\"1\" class=\"dataframe\">\n",
              "  <thead>\n",
              "    <tr style=\"text-align: right;\">\n",
              "      <th></th>\n",
              "      <th>Unnamed: 0</th>\n",
              "      <th>work_year</th>\n",
              "      <th>experience_level</th>\n",
              "      <th>employment_type</th>\n",
              "      <th>job_title</th>\n",
              "      <th>salary</th>\n",
              "      <th>salary_currency</th>\n",
              "      <th>salary_in_usd</th>\n",
              "      <th>employee_residence</th>\n",
              "      <th>remote_ratio</th>\n",
              "      <th>company_location</th>\n",
              "      <th>company_size</th>\n",
              "    </tr>\n",
              "  </thead>\n",
              "  <tbody>\n",
              "    <tr>\n",
              "      <th>0</th>\n",
              "      <td>0</td>\n",
              "      <td>2020</td>\n",
              "      <td>MI</td>\n",
              "      <td>FT</td>\n",
              "      <td>Data Scientist</td>\n",
              "      <td>70000</td>\n",
              "      <td>EUR</td>\n",
              "      <td>79833</td>\n",
              "      <td>DE</td>\n",
              "      <td>0</td>\n",
              "      <td>DE</td>\n",
              "      <td>L</td>\n",
              "    </tr>\n",
              "    <tr>\n",
              "      <th>1</th>\n",
              "      <td>1</td>\n",
              "      <td>2020</td>\n",
              "      <td>SE</td>\n",
              "      <td>FT</td>\n",
              "      <td>Machine Learning Scientist</td>\n",
              "      <td>260000</td>\n",
              "      <td>USD</td>\n",
              "      <td>260000</td>\n",
              "      <td>JP</td>\n",
              "      <td>0</td>\n",
              "      <td>JP</td>\n",
              "      <td>S</td>\n",
              "    </tr>\n",
              "    <tr>\n",
              "      <th>2</th>\n",
              "      <td>2</td>\n",
              "      <td>2020</td>\n",
              "      <td>SE</td>\n",
              "      <td>FT</td>\n",
              "      <td>Big Data Engineer</td>\n",
              "      <td>85000</td>\n",
              "      <td>GBP</td>\n",
              "      <td>109024</td>\n",
              "      <td>GB</td>\n",
              "      <td>50</td>\n",
              "      <td>GB</td>\n",
              "      <td>M</td>\n",
              "    </tr>\n",
              "    <tr>\n",
              "      <th>3</th>\n",
              "      <td>3</td>\n",
              "      <td>2020</td>\n",
              "      <td>MI</td>\n",
              "      <td>FT</td>\n",
              "      <td>Product Data Analyst</td>\n",
              "      <td>20000</td>\n",
              "      <td>USD</td>\n",
              "      <td>20000</td>\n",
              "      <td>HN</td>\n",
              "      <td>0</td>\n",
              "      <td>HN</td>\n",
              "      <td>S</td>\n",
              "    </tr>\n",
              "    <tr>\n",
              "      <th>4</th>\n",
              "      <td>4</td>\n",
              "      <td>2020</td>\n",
              "      <td>SE</td>\n",
              "      <td>FT</td>\n",
              "      <td>Machine Learning Engineer</td>\n",
              "      <td>150000</td>\n",
              "      <td>USD</td>\n",
              "      <td>150000</td>\n",
              "      <td>US</td>\n",
              "      <td>50</td>\n",
              "      <td>US</td>\n",
              "      <td>L</td>\n",
              "    </tr>\n",
              "  </tbody>\n",
              "</table>\n",
              "</div>"
            ],
            "text/plain": [
              "   Unnamed: 0  work_year experience_level employment_type  \\\n",
              "0           0       2020               MI              FT   \n",
              "1           1       2020               SE              FT   \n",
              "2           2       2020               SE              FT   \n",
              "3           3       2020               MI              FT   \n",
              "4           4       2020               SE              FT   \n",
              "\n",
              "                    job_title  salary salary_currency  salary_in_usd  \\\n",
              "0              Data Scientist   70000             EUR          79833   \n",
              "1  Machine Learning Scientist  260000             USD         260000   \n",
              "2           Big Data Engineer   85000             GBP         109024   \n",
              "3        Product Data Analyst   20000             USD          20000   \n",
              "4   Machine Learning Engineer  150000             USD         150000   \n",
              "\n",
              "  employee_residence  remote_ratio company_location company_size  \n",
              "0                 DE             0               DE            L  \n",
              "1                 JP             0               JP            S  \n",
              "2                 GB            50               GB            M  \n",
              "3                 HN             0               HN            S  \n",
              "4                 US            50               US            L  "
            ]
          },
          "execution_count": 2,
          "metadata": {},
          "output_type": "execute_result"
        }
      ],
      "source": [
        "# загружаем датасет\n",
        "data = pd.read_csv('C:/Users/Vladimir/DS/Module4./ds_salaries.csv')\n",
        "data.head()"
      ]
    },
    {
      "cell_type": "code",
      "execution_count": 3,
      "metadata": {},
      "outputs": [],
      "source": [
        "data_copy = data"
      ]
    },
    {
      "cell_type": "code",
      "execution_count": 4,
      "metadata": {
        "colab": {
          "base_uri": "https://localhost:8080/"
        },
        "id": "uLEEV6aLomOU",
        "outputId": "23314b21-aa3f-4537-94cb-be776d9427ae"
      },
      "outputs": [
        {
          "name": "stdout",
          "output_type": "stream",
          "text": [
            "Уровень значимости alpha = 0.05\n"
          ]
        }
      ],
      "source": [
        "# задаём уровень значимости\n",
        "alpha = 0.05 \n",
        "print(\"Уровень значимости alpha = {:.2f}\".format(alpha))"
      ]
    },
    {
      "cell_type": "markdown",
      "metadata": {
        "id": "c9QRWWOVfV13"
      },
      "source": [
        "## Описательный анализ данных"
      ]
    },
    {
      "cell_type": "code",
      "execution_count": 5,
      "metadata": {
        "colab": {
          "base_uri": "https://localhost:8080/"
        },
        "id": "zkiOmlAy2XQU",
        "outputId": "88adbac3-0fd7-460c-a368-c40baff97200"
      },
      "outputs": [
        {
          "name": "stdout",
          "output_type": "stream",
          "text": [
            "<class 'pandas.core.frame.DataFrame'>\n",
            "RangeIndex: 607 entries, 0 to 606\n",
            "Data columns (total 12 columns):\n",
            " #   Column              Non-Null Count  Dtype \n",
            "---  ------              --------------  ----- \n",
            " 0   Unnamed: 0          607 non-null    int64 \n",
            " 1   work_year           607 non-null    int64 \n",
            " 2   experience_level    607 non-null    object\n",
            " 3   employment_type     607 non-null    object\n",
            " 4   job_title           607 non-null    object\n",
            " 5   salary              607 non-null    int64 \n",
            " 6   salary_currency     607 non-null    object\n",
            " 7   salary_in_usd       607 non-null    int64 \n",
            " 8   employee_residence  607 non-null    object\n",
            " 9   remote_ratio        607 non-null    int64 \n",
            " 10  company_location    607 non-null    object\n",
            " 11  company_size        607 non-null    object\n",
            "dtypes: int64(5), object(7)\n",
            "memory usage: 57.0+ KB\n"
          ]
        }
      ],
      "source": [
        "#Изучаем структуру данных\n",
        "data.info()"
      ]
    },
    {
      "attachments": {},
      "cell_type": "markdown",
      "metadata": {
        "id": "2DSvnZuul7Za"
      },
      "source": [
        "В датасете 607 записей (без пропущенных значений)."
      ]
    },
    {
      "cell_type": "markdown",
      "metadata": {
        "id": "Xug87trzl7Za"
      },
      "source": [
        "Проверим данные на наличие полных дубликатов:"
      ]
    },
    {
      "cell_type": "code",
      "execution_count": 6,
      "metadata": {
        "colab": {
          "base_uri": "https://localhost:8080/"
        },
        "id": "As_X7I6jl7Za",
        "outputId": "3d3795b3-ab7c-4cc6-ab3d-23a4796a7b5c"
      },
      "outputs": [
        {
          "name": "stdout",
          "output_type": "stream",
          "text": [
            "Количество дубликатов: 0\n",
            "Размер таблицы после удаления дубликатов: (607, 12)\n"
          ]
        }
      ],
      "source": [
        "print('Количество дубликатов: {}'.format(data[data.duplicated()].shape[0]))\n",
        "\n",
        "# Удаляем дубликаты:\n",
        "data = data.drop_duplicates()\n",
        "print('Размер таблицы после удаления дубликатов: {}'.format(data.shape))"
      ]
    },
    {
      "cell_type": "code",
      "execution_count": 7,
      "metadata": {},
      "outputs": [
        {
          "data": {
            "text/plain": [
              "Unnamed: 0            607\n",
              "work_year               3\n",
              "experience_level        4\n",
              "employment_type         4\n",
              "job_title              50\n",
              "salary                272\n",
              "salary_currency        17\n",
              "salary_in_usd         369\n",
              "employee_residence     57\n",
              "remote_ratio            3\n",
              "company_location       50\n",
              "company_size            3\n",
              "dtype: int64"
            ]
          },
          "execution_count": 7,
          "metadata": {},
          "output_type": "execute_result"
        }
      ],
      "source": [
        "data.nunique()"
      ]
    },
    {
      "attachments": {},
      "cell_type": "markdown",
      "metadata": {
        "id": "6uAbyderTaNx"
      },
      "source": [
        "### Анализ заработной платы у специалистов Data Science "
      ]
    },
    {
      "cell_type": "code",
      "execution_count": 8,
      "metadata": {},
      "outputs": [
        {
          "name": "stdout",
          "output_type": "stream",
          "text": [
            "<class 'pandas.core.frame.DataFrame'>\n",
            "Int64Index: 143 entries, 0 to 599\n",
            "Data columns (total 12 columns):\n",
            " #   Column              Non-Null Count  Dtype \n",
            "---  ------              --------------  ----- \n",
            " 0   Unnamed: 0          143 non-null    int64 \n",
            " 1   work_year           143 non-null    int64 \n",
            " 2   experience_level    143 non-null    object\n",
            " 3   employment_type     143 non-null    object\n",
            " 4   job_title           143 non-null    object\n",
            " 5   salary              143 non-null    int64 \n",
            " 6   salary_currency     143 non-null    object\n",
            " 7   salary_in_usd       143 non-null    int64 \n",
            " 8   employee_residence  143 non-null    object\n",
            " 9   remote_ratio        143 non-null    int64 \n",
            " 10  company_location    143 non-null    object\n",
            " 11  company_size        143 non-null    object\n",
            "dtypes: int64(5), object(7)\n",
            "memory usage: 14.5+ KB\n"
          ]
        }
      ],
      "source": [
        "#Создаем датафрейм с данными по Data Scientist\n",
        "data_ds = data.loc[data['job_title'] == 'Data Scientist']\n",
        "data_ds.info()"
      ]
    },
    {
      "cell_type": "code",
      "execution_count": 9,
      "metadata": {
        "colab": {
          "base_uri": "https://localhost:8080/",
          "height": 496
        },
        "id": "KX6k6B2NWJ8t",
        "outputId": "523d571d-679e-4926-fe74-dc130c6a1b53"
      },
      "outputs": [
        {
          "data": {
            "image/png": "[encoded data removed]",
            "text/plain": [
              "<Figure size 1500x500 with 2 Axes>"
            ]
          },
          "metadata": {},
          "output_type": "display_data"
        }
      ],
      "source": [
        "fig, axes = plt.subplots(1, 2, figsize=(15, 5))\n",
        "\n",
        "sns.histplot(data_ds['salary_in_usd'], kde=True, ax=axes[0])\n",
        "axes[0].set(xlabel='Сумма заработной платы DS', ylabel='Частота')\n",
        "axes[0].set_title('Размер заработной платы DS')\n",
        "axes[0].axvline(data_ds['salary_in_usd'].mean(), color='red', linestyle='--', linewidth=0.8)\n",
        "\n",
        "sns.boxplot(data_ds['salary_in_usd'], ax=axes[1], orient='h', medianprops={\"color\": \"red\", \"linestyle\": '--'})\n",
        "axes[1].set(ylabel='Размер заработной платы DS')\n",
        "axes[1].set_title('Распределение платы для Data Scientist')\n",
        "\n",
        "plt.show()"
      ]
    },
    {
      "attachments": {},
      "cell_type": "markdown",
      "metadata": {},
      "source": [
        "Распределение заработной платы отлично от нормального, имеются выбросы."
      ]
    },
    {
      "cell_type": "code",
      "execution_count": 10,
      "metadata": {},
      "outputs": [
        {
          "data": {
            "text/plain": [
              "Unnamed: 0            143\n",
              "work_year               3\n",
              "experience_level        3\n",
              "employment_type         3\n",
              "job_title               1\n",
              "salary                 91\n",
              "salary_currency        14\n",
              "salary_in_usd         108\n",
              "employee_residence     27\n",
              "remote_ratio            3\n",
              "company_location       24\n",
              "company_size            3\n",
              "dtype: int64"
            ]
          },
          "execution_count": 10,
          "metadata": {},
          "output_type": "execute_result"
        }
      ],
      "source": [
        "data_ds.nunique()"
      ]
    },
    {
      "cell_type": "code",
      "execution_count": 11,
      "metadata": {
        "colab": {
          "base_uri": "https://localhost:8080/",
          "height": 300
        },
        "id": "h4rqfECm4umv",
        "outputId": "3edbc181-1016-488d-ef8c-6dfc5dbbfee1"
      },
      "outputs": [
        {
          "data": {
            "text/html": [
              "<div>\n",
              "<style scoped>\n",
              "    .dataframe tbody tr th:only-of-type {\n",
              "        vertical-align: middle;\n",
              "    }\n",
              "\n",
              "    .dataframe tbody tr th {\n",
              "        vertical-align: top;\n",
              "    }\n",
              "\n",
              "    .dataframe thead th {\n",
              "        text-align: right;\n",
              "    }\n",
              "</style>\n",
              "<table border=\"1\" class=\"dataframe\">\n",
              "  <thead>\n",
              "    <tr style=\"text-align: right;\">\n",
              "      <th></th>\n",
              "      <th>Анализ заработной платы DS</th>\n",
              "    </tr>\n",
              "  </thead>\n",
              "  <tbody>\n",
              "    <tr>\n",
              "      <th>count</th>\n",
              "      <td>143.00</td>\n",
              "    </tr>\n",
              "    <tr>\n",
              "      <th>mean</th>\n",
              "      <td>108187.83</td>\n",
              "    </tr>\n",
              "    <tr>\n",
              "      <th>std</th>\n",
              "      <td>64112.84</td>\n",
              "    </tr>\n",
              "    <tr>\n",
              "      <th>min</th>\n",
              "      <td>2859.00</td>\n",
              "    </tr>\n",
              "    <tr>\n",
              "      <th>25%</th>\n",
              "      <td>54724.00</td>\n",
              "    </tr>\n",
              "    <tr>\n",
              "      <th>50%</th>\n",
              "      <td>103691.00</td>\n",
              "    </tr>\n",
              "    <tr>\n",
              "      <th>75%</th>\n",
              "      <td>140850.00</td>\n",
              "    </tr>\n",
              "    <tr>\n",
              "      <th>max</th>\n",
              "      <td>412000.00</td>\n",
              "    </tr>\n",
              "  </tbody>\n",
              "</table>\n",
              "</div>"
            ],
            "text/plain": [
              "       Анализ заработной платы DS\n",
              "count                      143.00\n",
              "mean                    108187.83\n",
              "std                      64112.84\n",
              "min                       2859.00\n",
              "25%                      54724.00\n",
              "50%                     103691.00\n",
              "75%                     140850.00\n",
              "max                     412000.00"
            ]
          },
          "execution_count": 11,
          "metadata": {},
          "output_type": "execute_result"
        }
      ],
      "source": [
        "#Анализируем заработную плату DS\n",
        "data_agg = data_ds['salary_in_usd'].describe().round(2).to_frame()\n",
        "data_agg.columns = ['Анализ заработной платы DS']\n",
        "data_agg"
      ]
    },
    {
      "cell_type": "code",
      "execution_count": 12,
      "metadata": {},
      "outputs": [
        {
          "data": {
            "text/plain": [
              "work_year\n",
              "2020     85970.523810\n",
              "2021     70671.733333\n",
              "2022    136172.090909\n",
              "Name: salary_in_usd, dtype: float64"
            ]
          },
          "metadata": {},
          "output_type": "display_data"
        },
        {
          "data": {
            "image/png": "[encoded data removed]",
            "text/plain": [
              "<Figure size 200x500 with 1 Axes>"
            ]
          },
          "metadata": {},
          "output_type": "display_data"
        }
      ],
      "source": [
        "salary_dynamics = data_ds.groupby(['work_year'])['salary_in_usd'].mean()\n",
        "display(salary_dynamics)\n",
        "salary_dynamics.plot(\n",
        "    kind='line',\n",
        "    figsize=(2, 5),\n",
        "    title='График 1 Динамика заработной платы DS по годам',\n",
        "    grid = True,\n",
        "    lw=2\n",
        ");"
      ]
    },
    {
      "attachments": {},
      "cell_type": "markdown",
      "metadata": {},
      "source": [
        "# Выводы\n",
        "Поскольку временной ряд датафрейма кортокий( состоит всего из 3 значений), выводы носят приблизительный характер. Зарплата специалистов Data Science в 2021 г. упала на 18% по сравнению с 2020 г., но в 2022 г. она выросла на 93% по сравнению с предыдущим годом и на 58% по сравнению с 2020г. Подобный рост связан, вероятно, с окончанием пандемии и динамикой индустрии в целом. При этом надо иметь в виду, что анализировалась зарплата в долларах, при этом работники расположены в 27 странах, так что рост может отчасти объясняться колебаниями курсов валют. "
      ]
    },
    {
      "attachments": {},
      "cell_type": "markdown",
      "metadata": {
        "id": "cFABAmBjTkCo"
      },
      "source": [
        "### Анализ факторов, влияющих на зарплату специалистов Data Science"
      ]
    },
    {
      "cell_type": "code",
      "execution_count": 13,
      "metadata": {
        "colab": {
          "base_uri": "https://localhost:8080/",
          "height": 480
        },
        "id": "a06HKS1bwzsS",
        "outputId": "e4aa3e1a-71d3-4df3-8857-3f9f4342fa18"
      },
      "outputs": [
        {
          "data": {
            "image/png": "[encoded data removed]",
            "text/plain": [
              "<Figure size 640x480 with 1 Axes>"
            ]
          },
          "metadata": {},
          "output_type": "display_data"
        }
      ],
      "source": [
        "#Рассматриваем влияние опыта работы на размер заработной платы \n",
        "ax = sns.boxplot(data_ds, x='salary_in_usd', y='experience_level', orient='h', medianprops={\"color\": \"red\", \"linestyle\": '--'})\n",
        "ax.set(xlabel='Заработная плата DS', ylabel='Опыт работы')\n",
        "plt.title('Зависимость заработной платы DS от опыта работы')\n",
        "plt.show()"
      ]
    },
    {
      "cell_type": "code",
      "execution_count": 14,
      "metadata": {
        "colab": {
          "base_uri": "https://localhost:8080/",
          "height": 161
        },
        "id": "yXC_rLMn_fFV",
        "outputId": "f54838b2-b0db-4562-b281-fab9ee61eb59"
      },
      "outputs": [
        {
          "name": "stdout",
          "output_type": "stream",
          "text": [
            "Заработная плата в зависимости от опыта работы\n"
          ]
        },
        {
          "data": {
            "text/html": [
              "<div>\n",
              "<style scoped>\n",
              "    .dataframe tbody tr th:only-of-type {\n",
              "        vertical-align: middle;\n",
              "    }\n",
              "\n",
              "    .dataframe tbody tr th {\n",
              "        vertical-align: top;\n",
              "    }\n",
              "\n",
              "    .dataframe thead th {\n",
              "        text-align: right;\n",
              "    }\n",
              "</style>\n",
              "<table border=\"1\" class=\"dataframe\">\n",
              "  <thead>\n",
              "    <tr style=\"text-align: right;\">\n",
              "      <th></th>\n",
              "      <th>count</th>\n",
              "      <th>mean</th>\n",
              "      <th>std</th>\n",
              "      <th>min</th>\n",
              "      <th>25%</th>\n",
              "      <th>50%</th>\n",
              "      <th>75%</th>\n",
              "      <th>max</th>\n",
              "    </tr>\n",
              "    <tr>\n",
              "      <th>experience_level</th>\n",
              "      <th></th>\n",
              "      <th></th>\n",
              "      <th></th>\n",
              "      <th></th>\n",
              "      <th></th>\n",
              "      <th></th>\n",
              "      <th></th>\n",
              "      <th></th>\n",
              "    </tr>\n",
              "  </thead>\n",
              "  <tbody>\n",
              "    <tr>\n",
              "      <th>EN</th>\n",
              "      <td>22.0</td>\n",
              "      <td>55330.91</td>\n",
              "      <td>31237.82</td>\n",
              "      <td>4000.0</td>\n",
              "      <td>31474.0</td>\n",
              "      <td>50483.5</td>\n",
              "      <td>85027.25</td>\n",
              "      <td>105000.0</td>\n",
              "    </tr>\n",
              "    <tr>\n",
              "      <th>MI</th>\n",
              "      <td>60.0</td>\n",
              "      <td>82039.13</td>\n",
              "      <td>46869.58</td>\n",
              "      <td>2859.0</td>\n",
              "      <td>41768.0</td>\n",
              "      <td>77479.0</td>\n",
              "      <td>118264.75</td>\n",
              "      <td>200000.0</td>\n",
              "    </tr>\n",
              "    <tr>\n",
              "      <th>SE</th>\n",
              "      <td>61.0</td>\n",
              "      <td>152971.02</td>\n",
              "      <td>58985.40</td>\n",
              "      <td>20171.0</td>\n",
              "      <td>120000.0</td>\n",
              "      <td>140400.0</td>\n",
              "      <td>180000.00</td>\n",
              "      <td>412000.0</td>\n",
              "    </tr>\n",
              "  </tbody>\n",
              "</table>\n",
              "</div>"
            ],
            "text/plain": [
              "                  count       mean       std      min       25%       50%  \\\n",
              "experience_level                                                            \n",
              "EN                 22.0   55330.91  31237.82   4000.0   31474.0   50483.5   \n",
              "MI                 60.0   82039.13  46869.58   2859.0   41768.0   77479.0   \n",
              "SE                 61.0  152971.02  58985.40  20171.0  120000.0  140400.0   \n",
              "\n",
              "                        75%       max  \n",
              "experience_level                       \n",
              "EN                 85027.25  105000.0  \n",
              "MI                118264.75  200000.0  \n",
              "SE                180000.00  412000.0  "
            ]
          },
          "execution_count": 14,
          "metadata": {},
          "output_type": "execute_result"
        }
      ],
      "source": [
        "data_agg = data_ds.groupby('experience_level')['salary_in_usd'].describe().round(2)\n",
        "print('Заработная плата в зависимости от опыта работы')\n",
        "data_agg"
      ]
    },
    {
      "attachments": {},
      "cell_type": "markdown",
      "metadata": {
        "id": "QnoG6XTK_fOH"
      },
      "source": [
        "На первый взгляд опыт работы существенно влияет на уровень заарплаты DS. Чтобы определить, являются ли эти различия статистически значимыми, в следующем разделе мы проведём статистическое тестирование."
      ]
    },
    {
      "attachments": {},
      "cell_type": "markdown",
      "metadata": {
        "id": "crI7PFP0TpDI"
      },
      "source": [
        "### Как соотносятся зарплаты Data Scientist и Data Engineer в различных компаниях"
      ]
    },
    {
      "cell_type": "code",
      "execution_count": 15,
      "metadata": {},
      "outputs": [],
      "source": [
        "#Выделяем данные по специальностям Data Scientist и Data Engineer\n",
        "data_experts = [ 'Data Scientist', 'Data Engineer']\n",
        "data_dsde = data_copy.loc[data['job_title'].isin(data_experts)]"
      ]
    },
    {
      "cell_type": "code",
      "execution_count": 16,
      "metadata": {},
      "outputs": [
        {
          "name": "stdout",
          "output_type": "stream",
          "text": [
            "<class 'pandas.core.frame.DataFrame'>\n",
            "Int64Index: 275 entries, 0 to 603\n",
            "Data columns (total 12 columns):\n",
            " #   Column              Non-Null Count  Dtype \n",
            "---  ------              --------------  ----- \n",
            " 0   Unnamed: 0          275 non-null    int64 \n",
            " 1   work_year           275 non-null    int64 \n",
            " 2   experience_level    275 non-null    object\n",
            " 3   employment_type     275 non-null    object\n",
            " 4   job_title           275 non-null    object\n",
            " 5   salary              275 non-null    int64 \n",
            " 6   salary_currency     275 non-null    object\n",
            " 7   salary_in_usd       275 non-null    int64 \n",
            " 8   employee_residence  275 non-null    object\n",
            " 9   remote_ratio        275 non-null    int64 \n",
            " 10  company_location    275 non-null    object\n",
            " 11  company_size        275 non-null    object\n",
            "dtypes: int64(5), object(7)\n",
            "memory usage: 27.9+ KB\n"
          ]
        }
      ],
      "source": [
        "#Создаем датафрейм с данными совместно по Data Scientist Data Engineer\n",
        "data_dsde.info()"
      ]
    },
    {
      "cell_type": "code",
      "execution_count": 17,
      "metadata": {},
      "outputs": [
        {
          "data": {
            "application/vnd.plotly.v1+json": {
              "config": {
                "plotlyServerURL": "https://plot.ly"
              },
              "data": [
                {
                  "alignmentgroup": "True",
                  "hovertemplate": "job_title=Data Engineer<br>salary_in_usd=%{x}<br>company_size=%{y}<extra></extra>",
                  "legendgroup": "Data Engineer",
                  "marker": {
                    "color": "#636efa",
                    "pattern": {
                      "shape": ""
                    }
                  },
                  "name": "Data Engineer",
                  "offsetgroup": "Data Engineer",
                  "orientation": "h",
                  "showlegend": true,
                  "textposition": "auto",
                  "type": "bar",
                  "x": [
                    104255.97297297297,
                    119372.74157303371,
                    66342.5
                  ],
                  "xaxis": "x",
                  "y": [
                    "L",
                    "M",
                    "S"
                  ],
                  "yaxis": "y"
                },
                {
                  "alignmentgroup": "True",
                  "hovertemplate": "job_title=Data Scientist<br>salary_in_usd=%{x}<br>company_size=%{y}<extra></extra>",
                  "legendgroup": "Data Scientist",
                  "marker": {
                    "color": "#EF553B",
                    "pattern": {
                      "shape": ""
                    }
                  },
                  "name": "Data Scientist",
                  "offsetgroup": "Data Scientist",
                  "orientation": "h",
                  "showlegend": true,
                  "textposition": "auto",
                  "type": "bar",
                  "x": [
                    103313.35555555555,
                    126380.75324675324,
                    51925.76190476191
                  ],
                  "xaxis": "x",
                  "y": [
                    "L",
                    "M",
                    "S"
                  ],
                  "yaxis": "y"
                }
              ],
              "layout": {
                "barmode": "group",
                "legend": {
                  "title": {
                    "text": "job_title"
                  },
                  "tracegroupgap": 0
                },
                "template": {
                  "data": {
                    "bar": [
                      {
                        "error_x": {
                          "color": "#2a3f5f"
                        },
                        "error_y": {
                          "color": "#2a3f5f"
                        },
                        "marker": {
                          "line": {
                            "color": "#E5ECF6",
                            "width": 0.5
                          },
                          "pattern": {
                            "fillmode": "overlay",
                            "size": 10,
                            "solidity": 0.2
                          }
                        },
                        "type": "bar"
                      }
                    ],
                    "barpolar": [
                      {
                        "marker": {
                          "line": {
                            "color": "#E5ECF6",
                            "width": 0.5
                          },
                          "pattern": {
                            "fillmode": "overlay",
                            "size": 10,
                            "solidity": 0.2
                          }
                        },
                        "type": "barpolar"
                      }
                    ],
                    "carpet": [
                      {
                        "aaxis": {
                          "endlinecolor": "#2a3f5f",
                          "gridcolor": "white",
                          "linecolor": "white",
                          "minorgridcolor": "white",
                          "startlinecolor": "#2a3f5f"
                        },
                        "baxis": {
                          "endlinecolor": "#2a3f5f",
                          "gridcolor": "white",
                          "linecolor": "white",
                          "minorgridcolor": "white",
                          "startlinecolor": "#2a3f5f"
                        },
                        "type": "carpet"
                      }
                    ],
                    "choropleth": [
                      {
                        "colorbar": {
                          "outlinewidth": 0,
                          "ticks": ""
                        },
                        "type": "choropleth"
                      }
                    ],
                    "contour": [
                      {
                        "colorbar": {
                          "outlinewidth": 0,
                          "ticks": ""
                        },
                        "colorscale": [
                          [
                            0,
                            "#0d0887"
                          ],
                          [
                            0.1111111111111111,
                            "#46039f"
                          ],
                          [
                            0.2222222222222222,
                            "#7201a8"
                          ],
                          [
                            0.3333333333333333,
                            "#9c179e"
                          ],
                          [
                            0.4444444444444444,
                            "#bd3786"
                          ],
                          [
                            0.5555555555555556,
                            "#d8576b"
                          ],
                          [
                            0.6666666666666666,
                            "#ed7953"
                          ],
                          [
                            0.7777777777777778,
                            "#fb9f3a"
                          ],
                          [
                            0.8888888888888888,
                            "#fdca26"
                          ],
                          [
                            1,
                            "#f0f921"
                          ]
                        ],
                        "type": "contour"
                      }
                    ],
                    "contourcarpet": [
                      {
                        "colorbar": {
                          "outlinewidth": 0,
                          "ticks": ""
                        },
                        "type": "contourcarpet"
                      }
                    ],
                    "heatmap": [
                      {
                        "colorbar": {
                          "outlinewidth": 0,
                          "ticks": ""
                        },
                        "colorscale": [
                          [
                            0,
                            "#0d0887"
                          ],
                          [
                            0.1111111111111111,
                            "#46039f"
                          ],
                          [
                            0.2222222222222222,
                            "#7201a8"
                          ],
                          [
                            0.3333333333333333,
                            "#9c179e"
                          ],
                          [
                            0.4444444444444444,
                            "#bd3786"
                          ],
                          [
                            0.5555555555555556,
                            "#d8576b"
                          ],
                          [
                            0.6666666666666666,
                            "#ed7953"
                          ],
                          [
                            0.7777777777777778,
                            "#fb9f3a"
                          ],
                          [
                            0.8888888888888888,
                            "#fdca26"
                          ],
                          [
                            1,
                            "#f0f921"
                          ]
                        ],
                        "type": "heatmap"
                      }
                    ],
                    "heatmapgl": [
                      {
                        "colorbar": {
                          "outlinewidth": 0,
                          "ticks": ""
                        },
                        "colorscale": [
                          [
                            0,
                            "#0d0887"
                          ],
                          [
                            0.1111111111111111,
                            "#46039f"
                          ],
                          [
                            0.2222222222222222,
                            "#7201a8"
                          ],
                          [
                            0.3333333333333333,
                            "#9c179e"
                          ],
                          [
                            0.4444444444444444,
                            "#bd3786"
                          ],
                          [
                            0.5555555555555556,
                            "#d8576b"
                          ],
                          [
                            0.6666666666666666,
                            "#ed7953"
                          ],
                          [
                            0.7777777777777778,
                            "#fb9f3a"
                          ],
                          [
                            0.8888888888888888,
                            "#fdca26"
                          ],
                          [
                            1,
                            "#f0f921"
                          ]
                        ],
                        "type": "heatmapgl"
                      }
                    ],
                    "histogram": [
                      {
                        "marker": {
                          "pattern": {
                            "fillmode": "overlay",
                            "size": 10,
                            "solidity": 0.2
                          }
                        },
                        "type": "histogram"
                      }
                    ],
                    "histogram2d": [
                      {
                        "colorbar": {
                          "outlinewidth": 0,
                          "ticks": ""
                        },
                        "colorscale": [
                          [
                            0,
                            "#0d0887"
                          ],
                          [
                            0.1111111111111111,
                            "#46039f"
                          ],
                          [
                            0.2222222222222222,
                            "#7201a8"
                          ],
                          [
                            0.3333333333333333,
                            "#9c179e"
                          ],
                          [
                            0.4444444444444444,
                            "#bd3786"
                          ],
                          [
                            0.5555555555555556,
                            "#d8576b"
                          ],
                          [
                            0.6666666666666666,
                            "#ed7953"
                          ],
                          [
                            0.7777777777777778,
                            "#fb9f3a"
                          ],
                          [
                            0.8888888888888888,
                            "#fdca26"
                          ],
                          [
                            1,
                            "#f0f921"
                          ]
                        ],
                        "type": "histogram2d"
                      }
                    ],
                    "histogram2dcontour": [
                      {
                        "colorbar": {
                          "outlinewidth": 0,
                          "ticks": ""
                        },
                        "colorscale": [
                          [
                            0,
                            "#0d0887"
                          ],
                          [
                            0.1111111111111111,
                            "#46039f"
                          ],
                          [
                            0.2222222222222222,
                            "#7201a8"
                          ],
                          [
                            0.3333333333333333,
                            "#9c179e"
                          ],
                          [
                            0.4444444444444444,
                            "#bd3786"
                          ],
                          [
                            0.5555555555555556,
                            "#d8576b"
                          ],
                          [
                            0.6666666666666666,
                            "#ed7953"
                          ],
                          [
                            0.7777777777777778,
                            "#fb9f3a"
                          ],
                          [
                            0.8888888888888888,
                            "#fdca26"
                          ],
                          [
                            1,
                            "#f0f921"
                          ]
                        ],
                        "type": "histogram2dcontour"
                      }
                    ],
                    "mesh3d": [
                      {
                        "colorbar": {
                          "outlinewidth": 0,
                          "ticks": ""
                        },
                        "type": "mesh3d"
                      }
                    ],
                    "parcoords": [
                      {
                        "line": {
                          "colorbar": {
                            "outlinewidth": 0,
                            "ticks": ""
                          }
                        },
                        "type": "parcoords"
                      }
                    ],
                    "pie": [
                      {
                        "automargin": true,
                        "type": "pie"
                      }
                    ],
                    "scatter": [
                      {
                        "fillpattern": {
                          "fillmode": "overlay",
                          "size": 10,
                          "solidity": 0.2
                        },
                        "type": "scatter"
                      }
                    ],
                    "scatter3d": [
                      {
                        "line": {
                          "colorbar": {
                            "outlinewidth": 0,
                            "ticks": ""
                          }
                        },
                        "marker": {
                          "colorbar": {
                            "outlinewidth": 0,
                            "ticks": ""
                          }
                        },
                        "type": "scatter3d"
                      }
                    ],
                    "scattercarpet": [
                      {
                        "marker": {
                          "colorbar": {
                            "outlinewidth": 0,
                            "ticks": ""
                          }
                        },
                        "type": "scattercarpet"
                      }
                    ],
                    "scattergeo": [
                      {
                        "marker": {
                          "colorbar": {
                            "outlinewidth": 0,
                            "ticks": ""
                          }
                        },
                        "type": "scattergeo"
                      }
                    ],
                    "scattergl": [
                      {
                        "marker": {
                          "colorbar": {
                            "outlinewidth": 0,
                            "ticks": ""
                          }
                        },
                        "type": "scattergl"
                      }
                    ],
                    "scattermapbox": [
                      {
                        "marker": {
                          "colorbar": {
                            "outlinewidth": 0,
                            "ticks": ""
                          }
                        },
                        "type": "scattermapbox"
                      }
                    ],
                    "scatterpolar": [
                      {
                        "marker": {
                          "colorbar": {
                            "outlinewidth": 0,
                            "ticks": ""
                          }
                        },
                        "type": "scatterpolar"
                      }
                    ],
                    "scatterpolargl": [
                      {
                        "marker": {
                          "colorbar": {
                            "outlinewidth": 0,
                            "ticks": ""
                          }
                        },
                        "type": "scatterpolargl"
                      }
                    ],
                    "scatterternary": [
                      {
                        "marker": {
                          "colorbar": {
                            "outlinewidth": 0,
                            "ticks": ""
                          }
                        },
                        "type": "scatterternary"
                      }
                    ],
                    "surface": [
                      {
                        "colorbar": {
                          "outlinewidth": 0,
                          "ticks": ""
                        },
                        "colorscale": [
                          [
                            0,
                            "#0d0887"
                          ],
                          [
                            0.1111111111111111,
                            "#46039f"
                          ],
                          [
                            0.2222222222222222,
                            "#7201a8"
                          ],
                          [
                            0.3333333333333333,
                            "#9c179e"
                          ],
                          [
                            0.4444444444444444,
                            "#bd3786"
                          ],
                          [
                            0.5555555555555556,
                            "#d8576b"
                          ],
                          [
                            0.6666666666666666,
                            "#ed7953"
                          ],
                          [
                            0.7777777777777778,
                            "#fb9f3a"
                          ],
                          [
                            0.8888888888888888,
                            "#fdca26"
                          ],
                          [
                            1,
                            "#f0f921"
                          ]
                        ],
                        "type": "surface"
                      }
                    ],
                    "table": [
                      {
                        "cells": {
                          "fill": {
                            "color": "#EBF0F8"
                          },
                          "line": {
                            "color": "white"
                          }
                        },
                        "header": {
                          "fill": {
                            "color": "#C8D4E3"
                          },
                          "line": {
                            "color": "white"
                          }
                        },
                        "type": "table"
                      }
                    ]
                  },
                  "layout": {
                    "annotationdefaults": {
                      "arrowcolor": "#2a3f5f",
                      "arrowhead": 0,
                      "arrowwidth": 1
                    },
                    "autotypenumbers": "strict",
                    "coloraxis": {
                      "colorbar": {
                        "outlinewidth": 0,
                        "ticks": ""
                      }
                    },
                    "colorscale": {
                      "diverging": [
                        [
                          0,
                          "#8e0152"
                        ],
                        [
                          0.1,
                          "#c51b7d"
                        ],
                        [
                          0.2,
                          "#de77ae"
                        ],
                        [
                          0.3,
                          "#f1b6da"
                        ],
                        [
                          0.4,
                          "#fde0ef"
                        ],
                        [
                          0.5,
                          "#f7f7f7"
                        ],
                        [
                          0.6,
                          "#e6f5d0"
                        ],
                        [
                          0.7,
                          "#b8e186"
                        ],
                        [
                          0.8,
                          "#7fbc41"
                        ],
                        [
                          0.9,
                          "#4d9221"
                        ],
                        [
                          1,
                          "#276419"
                        ]
                      ],
                      "sequential": [
                        [
                          0,
                          "#0d0887"
                        ],
                        [
                          0.1111111111111111,
                          "#46039f"
                        ],
                        [
                          0.2222222222222222,
                          "#7201a8"
                        ],
                        [
                          0.3333333333333333,
                          "#9c179e"
                        ],
                        [
                          0.4444444444444444,
                          "#bd3786"
                        ],
                        [
                          0.5555555555555556,
                          "#d8576b"
                        ],
                        [
                          0.6666666666666666,
                          "#ed7953"
                        ],
                        [
                          0.7777777777777778,
                          "#fb9f3a"
                        ],
                        [
                          0.8888888888888888,
                          "#fdca26"
                        ],
                        [
                          1,
                          "#f0f921"
                        ]
                      ],
                      "sequentialminus": [
                        [
                          0,
                          "#0d0887"
                        ],
                        [
                          0.1111111111111111,
                          "#46039f"
                        ],
                        [
                          0.2222222222222222,
                          "#7201a8"
                        ],
                        [
                          0.3333333333333333,
                          "#9c179e"
                        ],
                        [
                          0.4444444444444444,
                          "#bd3786"
                        ],
                        [
                          0.5555555555555556,
                          "#d8576b"
                        ],
                        [
                          0.6666666666666666,
                          "#ed7953"
                        ],
                        [
                          0.7777777777777778,
                          "#fb9f3a"
                        ],
                        [
                          0.8888888888888888,
                          "#fdca26"
                        ],
                        [
                          1,
                          "#f0f921"
                        ]
                      ]
                    },
                    "colorway": [
                      "#636efa",
                      "#EF553B",
                      "#00cc96",
                      "#ab63fa",
                      "#FFA15A",
                      "#19d3f3",
                      "#FF6692",
                      "#B6E880",
                      "#FF97FF",
                      "#FECB52"
                    ],
                    "font": {
                      "color": "#2a3f5f"
                    },
                    "geo": {
                      "bgcolor": "white",
                      "lakecolor": "white",
                      "landcolor": "#E5ECF6",
                      "showlakes": true,
                      "showland": true,
                      "subunitcolor": "white"
                    },
                    "hoverlabel": {
                      "align": "left"
                    },
                    "hovermode": "closest",
                    "mapbox": {
                      "style": "light"
                    },
                    "paper_bgcolor": "white",
                    "plot_bgcolor": "#E5ECF6",
                    "polar": {
                      "angularaxis": {
                        "gridcolor": "white",
                        "linecolor": "white",
                        "ticks": ""
                      },
                      "bgcolor": "#E5ECF6",
                      "radialaxis": {
                        "gridcolor": "white",
                        "linecolor": "white",
                        "ticks": ""
                      }
                    },
                    "scene": {
                      "xaxis": {
                        "backgroundcolor": "#E5ECF6",
                        "gridcolor": "white",
                        "gridwidth": 2,
                        "linecolor": "white",
                        "showbackground": true,
                        "ticks": "",
                        "zerolinecolor": "white"
                      },
                      "yaxis": {
                        "backgroundcolor": "#E5ECF6",
                        "gridcolor": "white",
                        "gridwidth": 2,
                        "linecolor": "white",
                        "showbackground": true,
                        "ticks": "",
                        "zerolinecolor": "white"
                      },
                      "zaxis": {
                        "backgroundcolor": "#E5ECF6",
                        "gridcolor": "white",
                        "gridwidth": 2,
                        "linecolor": "white",
                        "showbackground": true,
                        "ticks": "",
                        "zerolinecolor": "white"
                      }
                    },
                    "shapedefaults": {
                      "line": {
                        "color": "#2a3f5f"
                      }
                    },
                    "ternary": {
                      "aaxis": {
                        "gridcolor": "white",
                        "linecolor": "white",
                        "ticks": ""
                      },
                      "baxis": {
                        "gridcolor": "white",
                        "linecolor": "white",
                        "ticks": ""
                      },
                      "bgcolor": "#E5ECF6",
                      "caxis": {
                        "gridcolor": "white",
                        "linecolor": "white",
                        "ticks": ""
                      }
                    },
                    "title": {
                      "x": 0.05
                    },
                    "xaxis": {
                      "automargin": true,
                      "gridcolor": "white",
                      "linecolor": "white",
                      "ticks": "",
                      "title": {
                        "standoff": 15
                      },
                      "zerolinecolor": "white",
                      "zerolinewidth": 2
                    },
                    "yaxis": {
                      "automargin": true,
                      "gridcolor": "white",
                      "linecolor": "white",
                      "ticks": "",
                      "title": {
                        "standoff": 15
                      },
                      "zerolinecolor": "white",
                      "zerolinewidth": 2
                    }
                  }
                },
                "title": {
                  "text": "Зарплата в зависимости от размера компании"
                },
                "xaxis": {
                  "anchor": "y",
                  "domain": [
                    0,
                    1
                  ],
                  "title": {
                    "text": "salary_in_usd"
                  }
                },
                "yaxis": {
                  "anchor": "x",
                  "domain": [
                    0,
                    1
                  ],
                  "title": {
                    "text": "company_size"
                  }
                }
              }
            }
          },
          "metadata": {},
          "output_type": "display_data"
        }
      ],
      "source": [
        "import plotly.express as px\n",
        "# Построение диаграммы соотношения зарплат Data Scientist и Data Engineer в различных компаниях\n",
        "bar_data = data_dsde.groupby(['company_size', 'job_title'],\n",
        "                           as_index=False)['salary_in_usd'].mean()\n",
        "fig = px.bar(\n",
        "    data_frame=bar_data,\n",
        "    y='company_size',\n",
        "    x='salary_in_usd',\n",
        "    barmode='group',\n",
        "    color='job_title',\n",
        "    title='Зарплата в зависимости от размера компании' ,\n",
        "    orientation='h'\n",
        ")\n",
        "fig.show()"
      ]
    },
    {
      "attachments": {},
      "cell_type": "markdown",
      "metadata": {},
      "source": [
        "# Выводы\n",
        "Заработные платы Data Scientist и Data Engineer меняются в зависимости от размера компании. Наиболее высокие зарплаты у данных специалистов обнаружены в компаниях среднего размера, они практически вдвое превосходят зарплаты таких специалистов в малых компаниях. Зарплаты специалистов в крупных компаниях примерно на 20% ниже, чем в средних, что, возможно, может объясняться тем, что крупные компании имеют более широкую специализацию и придерживаются более сдержанной политики оплаты труда. Любопытно отметить, что в малых компаниях зарплата Data Engineer на 28% выше чем зарплата Data Scientist, а в средних компаниях - наоборот, зарплата Data Scientist на 6% выше чем зарплата Data Engineer. В свою очередь, зарплаты этих специалистов в больших компаниях практически равны. Скорее всего, размер компании так или иначе связан с ее специализацией, то есть она нанимает и выше оплачивает тех, кто приносит ей бОльший доход."
      ]
    },
    {
      "attachments": {},
      "cell_type": "markdown",
      "metadata": {},
      "source": [
        "### Связь между наличием должностей Data Scientist и Data Engineer и размером компании"
      ]
    },
    {
      "cell_type": "code",
      "execution_count": 18,
      "metadata": {
        "colab": {
          "base_uri": "https://localhost:8080/",
          "height": 480
        },
        "id": "81kAFODPl7Zd",
        "outputId": "3a36537f-39d6-4e12-a1c6-ec986ebdd15f"
      },
      "outputs": [
        {
          "data": {
            "image/png": "[encoded data removed]",
            "text/plain": [
              "<Figure size 640x480 with 2 Axes>"
            ]
          },
          "metadata": {},
          "output_type": "display_data"
        }
      ],
      "source": [
        "cross_tab = pd.crosstab(index=data_dsde['company_size'], columns=data['job_title'])\n",
        "ax = sns.heatmap(cross_tab, annot=True, linewidth=.5, fmt='.0f', cmap=\"coolwarm\")\n",
        "ax.set(xlabel='Специальность', ylabel='Тип компании')\n",
        "plt.title('Таблица сопряженности')\n",
        "plt.show()"
      ]
    },
    {
      "attachments": {},
      "cell_type": "markdown",
      "metadata": {
        "id": "Z0rsfkQql7Ze"
      },
      "source": [
        "Анализ показывает, что бОльшая часть специалистов работает в компаниях среднего размера(  54% всех Data Scientist и 67% всех Data Engineer). При этом в малых компаниях специалистов Data Scientistв 3.5 раза больше, чем Data Engineer."
      ]
    },
    {
      "cell_type": "markdown",
      "metadata": {
        "id": "-UcttLBPfd8-"
      },
      "source": [
        "## Статистический анализ данных\n",
        "\n"
      ]
    },
    {
      "cell_type": "code",
      "execution_count": 19,
      "metadata": {
        "id": "sn3PGE23l7Ze"
      },
      "outputs": [],
      "source": [
        "# функция для принятия решения о нормальности\n",
        "def decision_normality(p):\n",
        "    print('p-value = {:.3f}'.format(p))\n",
        "    if p <= alpha:\n",
        "        print('p-значение меньше, чем заданный уровень значимости {:.2f}. Распределение отлично от нормального'.format(alpha))\n",
        "    else:\n",
        "        print('p-значение больше, чем заданный уровень значимости {:.2f}. Распределение является нормальным'.format(alpha))\n",
        "\n",
        "\n",
        "# функция для принятия решения об отклонении нулевой гипотезы\n",
        "def decision_hypothesis(p):\n",
        "    print('p-value = {:.3f}'.format(p))\n",
        "    if p <= alpha:\n",
        "        print('p-значение меньше, чем заданный уровень значимости {:.2f}. Отвергаем нулевую гипотезу в пользу альтернативной.'.format(alpha))\n",
        "    else:\n",
        "        print('p-значение больше, чем заданный уровень значимости {:.2f}. У нас нет оснований отвергнуть нулевую гипотезу.'.format(alpha))\n",
        "      "
      ]
    },
    {
      "attachments": {},
      "cell_type": "markdown",
      "metadata": {
        "id": "Yi8l7ZWSl7Ze"
      },
      "source": [
        "### Размер заработной платы специалиста Data Scientist в последущий год выше, чем заработная плата специалиста Data Scientist в предыдущий год?\n",
        "\n",
        "**Проверка на нормальность**\n",
        "\n",
        "Построенная выше гистограмма показывает, что распределение отличается от нормального, проверка на нормальность не требуется\n",
        "\n"
      ]
    },
    {
      "attachments": {},
      "cell_type": "markdown",
      "metadata": {
        "id": "IBOYMwmfTHRu"
      },
      "source": [
        "**Выберем подходящий статистический тест**\n",
        "\n",
        "Для выбора нужного теста воспользуемся алгоритмом выбора теста. Для этого ответим на следующие вопросы:\n",
        "* Какой тип у признака «Размер заработной платы»? — Количественный.\n",
        "* Сколько сравниваемых групп? — Три.\n",
        "* Группы зависимы? — Нет.\n",
        "* Признак распределён по нормальному закону? — Нет.\n",
        "\n",
        "Чтобы проверить нашу гипотезу, можно использовать критерий Краскела - Уоллеса для сравнения распределений на основе рангов.\n",
        "\n",
        "**Проведём тест**"
      ]
    },
    {
      "cell_type": "code",
      "execution_count": 20,
      "metadata": {
        "colab": {
          "base_uri": "https://localhost:8080/"
        },
        "id": "xaQuaMV8THRu",
        "outputId": "0e37fc3b-bd2e-4166-8d52-f373fd82c672"
      },
      "outputs": [
        {
          "name": "stdout",
          "output_type": "stream",
          "text": [
            "p-value = nan\n",
            "p-значение больше, чем заданный уровень значимости 0.05. У нас нет оснований отвергнуть нулевую гипотезу.\n"
          ]
        }
      ],
      "source": [
        "salary_2020 = data_ds.loc[data_ds['work_year']=='2020', 'salary_in_usd']\n",
        "salary_2021 = data_ds.loc[data_ds['work_year']=='2021', 'salary_in_usd']\n",
        "salary_2022 = data_ds.loc[data_ds['work_year']=='2022', 'salary_in_usd']\n",
        "\n",
        "# проводим тест\n",
        "_, p = stats.kruskal(salary_2020, salary_2021, salary_2022)\n",
        "decision_hypothesis(p)"
      ]
    },
    {
      "attachments": {},
      "cell_type": "markdown",
      "metadata": {
        "id": "aZEt9hu-Q995"
      },
      "source": [
        "**Вывод**\n",
        "\n",
        "Нет оснований утверждать, что размер заработной платы Data Scientist в последующем году выше чем в предыдущем. Как мы видели на вышеприведенном графике, зарабоная плата сначала снижается, а потом идет вверх."
      ]
    },
    {
      "attachments": {},
      "cell_type": "markdown",
      "metadata": {
        "id": "JW47VJo3Q99s"
      },
      "source": [
        "### Влияет ли опыт работы на размер заработной платы специалистов Data Scientist?\n",
        "\n",
        "\n",
        "**Сформулируем нулевую и альтернативные гипотезы**\n",
        "\n",
        "*Нулевая гипотеза* ($H_0$): Уровни заработной платы у начинающих работников (EN) ($μ_1$), работников среднего уровня ()($μ_2$) и экспертов () ($μ_3$) одинаковы.\n",
        "\n",
        "$$ H_0 : μ_1 = μ_2 = μ_3$$\n",
        "\n",
        "*Альтернативная гипотеза* ($H_1$): Уровни заработной платы у начинающих работников (EN) ($μ_1$), работников среднего уровня ()($μ_2$) и экспертов () ($μ_3$) неодинаковы.\n",
        "\n",
        "$$ H_1 : μ_1 \\neq μ_2 \\neq μ_3$$\n",
        "\n",
        "\n",
        "\n"
      ]
    },
    {
      "cell_type": "markdown",
      "metadata": {
        "id": "kMk6Q5sRl7Zf"
      },
      "source": [
        "**Проверка на нормальность**\n",
        "\n",
        "С помощью теста Шапиро-Уилка проверим, распределён ли признак нормально."
      ]
    },
    {
      "cell_type": "code",
      "execution_count": 21,
      "metadata": {
        "colab": {
          "base_uri": "https://localhost:8080/"
        },
        "id": "JxXzC7-_RNDj",
        "outputId": "6e4c2c71-7d7d-4510-883c-8a52b5f64149"
      },
      "outputs": [
        {
          "name": "stdout",
          "output_type": "stream",
          "text": [
            "Для EN:\n",
            "p-value = 0.174\n",
            "p-значение больше, чем заданный уровень значимости 0.05. Распределение является нормальным\n",
            "Для MI:\n",
            "p-value = 0.178\n",
            "p-значение больше, чем заданный уровень значимости 0.05. Распределение является нормальным\n",
            "Для SE:\n",
            "p-value = 0.000\n",
            "p-значение меньше, чем заданный уровень значимости 0.05. Распределение отлично от нормального\n"
          ]
        }
      ],
      "source": [
        "# значения заработной платы DS\n",
        "salary_EN = data_ds.loc[data_ds['experience_level']=='EN', 'salary_in_usd']\n",
        "salary_MI = data_ds.loc[data_ds['experience_level']=='MI', 'salary_in_usd']\n",
        "salary_SE = data_ds.loc[data_ds['experience_level']=='SE', 'salary_in_usd']\n",
        "\n",
        "# проводим тест Шапиро-Уилка\n",
        "print('Для EN:')\n",
        "result = stats.shapiro(salary_EN)\n",
        "decision_normality(result[1])\n",
        "\n",
        "print('Для MI:')\n",
        "result = stats.shapiro(salary_MI)\n",
        "decision_normality(result[1])\n",
        "\n",
        "print('Для SE:')\n",
        "result = stats.shapiro(salary_SE)\n",
        "decision_normality(result[1])"
      ]
    },
    {
      "attachments": {},
      "cell_type": "markdown",
      "metadata": {
        "id": "gKIiBvTMRNDk"
      },
      "source": [
        "**Выберем подходящий статистический тест**\n",
        "\n",
        "Для выбора нужного теста воспользуемся алгоритмом выбора теста. Для этого ответим на следующие вопросы:\n",
        "* Какой тип у признака «Размер заработной платы»? — Количественный.\n",
        "* Сколько сравниваемых групп? — Три.\n",
        "* Группы зависимы? — Нет.\n",
        "* Признак распределён по нормальному закону? — Нет.\n",
        "\n",
        "Для проверки нашей гипотезы можно использовать Краскела — Уоллеса.\n",
        "\n",
        "**Проведём тест**\n"
      ]
    },
    {
      "cell_type": "code",
      "execution_count": 22,
      "metadata": {},
      "outputs": [
        {
          "name": "stdout",
          "output_type": "stream",
          "text": [
            "p-value = 0.000\n",
            "p-значение меньше, чем заданный уровень значимости 0.05. Отвергаем нулевую гипотезу в пользу альтернативной.\n"
          ]
        }
      ],
      "source": [
        "# проводим тест\n",
        "_, p = stats.kruskal(salary_EN, salary_MI, salary_SE)\n",
        "decision_hypothesis(p)"
      ]
    },
    {
      "attachments": {},
      "cell_type": "markdown",
      "metadata": {
        "id": "yZogeviaRNDk"
      },
      "source": [
        "**Вывод**\n",
        "\n",
        "Уровень заработной платы зависит от опыта работы специалистов."
      ]
    },
    {
      "attachments": {},
      "cell_type": "markdown",
      "metadata": {
        "id": "ByITCYyXGKb4"
      },
      "source": [
        "### Как соотносятся зарплаты Data Scientist  и Data Engineer в различных компаниях?\n",
        "\n",
        "**Сформулируем нулевую и альтернативные гипотезы**\n",
        "\n",
        "*Нулевая гипотеза*: размер заработной платы не отличается в разных компаниях: малых(S) ($μ_1$), средних(M) ($μ_2$), крупных(L) ($μ_3$).\n",
        "\n",
        "$$ H_0 : μ_1 = μ_2 = μ_3 $$\n",
        "\n",
        "*Альтернативная гипотеза*: размер заработной платы отличается в разных компаниях: малых(S) ($μ_1$), средних(M) ($μ_2$), крупных(L) ($μ_3$).\n",
        "\n",
        "\n",
        "$$ H_1 : μ_1 \\neq μ_2 \\neq μ_3 $$\n",
        "\n"
      ]
    },
    {
      "cell_type": "markdown",
      "metadata": {
        "id": "dPXLUo31l7Zg"
      },
      "source": [
        "**Проверка на нормальность**\n",
        "\n",
        "С помощью теста Шапиро-Уилка проверим, распределён ли признак нормально."
      ]
    },
    {
      "cell_type": "code",
      "execution_count": 30,
      "metadata": {
        "colab": {
          "base_uri": "https://localhost:8080/"
        },
        "id": "0g8PmvdlGKmP",
        "outputId": "48892466-4da7-4a58-c414-d3af794b053d"
      },
      "outputs": [
        {
          "name": "stdout",
          "output_type": "stream",
          "text": [
            "Для малых компаний:\n",
            "p-value = 0.517\n",
            "p-значение больше, чем заданный уровень значимости 0.05. Распределение является нормальным\n",
            "Для средних компаний:\n",
            "p-value = 0.178\n",
            "p-значение больше, чем заданный уровень значимости 0.05. Распределение является нормальным\n",
            "Для крупных компаний:\n",
            "p-value = 0.000\n",
            "p-значение меньше, чем заданный уровень значимости 0.05. Распределение отлично от нормального\n"
          ]
        }
      ],
      "source": [
        "# значения заработной платы\n",
        "salary_S = data_dsde.loc[data_dsde['company_size']=='S', 'salary_in_usd']\n",
        "#display(salary_S)\n",
        "salary_M = data_dsde.loc[data_dsde['company_size']=='M', 'salary_in_usd']\n",
        "#display(salary_M)\n",
        "salary_L = data_dsde.loc[data_dsde['company_size']=='L', 'salary_in_usd']\n",
        "#display(salary_L)\n",
        "\n",
        "\n",
        "# проводим тест Шапиро-Уилка\n",
        "print('Для малых компаний:')\n",
        "result = stats.shapiro(salary_S)\n",
        "decision_normality(result[1])\n",
        "\n",
        "print('Для средних компаний:')\n",
        "result = stats.shapiro(salary_M)\n",
        "decision_normality(result[1])\n",
        "\n",
        "print('Для крупных компаний:')\n",
        "result = stats.shapiro(salary_L)\n",
        "decision_normality(result[1])\n",
        "\n",
        "\n"
      ]
    },
    {
      "attachments": {},
      "cell_type": "markdown",
      "metadata": {
        "id": "FPq2KNq4dbWj"
      },
      "source": [
        "**Выберем подходящий статистический тест**\n",
        "\n",
        "Для выбора нужного теста воспользуемся алгоритмом выбора теста. Для этого ответим на следующие вопросы:\n",
        "* Какой тип у признака «Размер компании»? — Количественный.\n",
        "* Сколько сравниваемых групп? — Три.\n",
        "* Группы зависимы? — Нет.\n",
        "* Признак распределён по нормальному закону? — Нет. \n",
        "\n",
        "Для проверки нашей гипотезы можно использовать критерий Краскела — Уоллиса.\n",
        "\n",
        "**Проведём тест**"
      ]
    },
    {
      "cell_type": "code",
      "execution_count": 31,
      "metadata": {
        "colab": {
          "base_uri": "https://localhost:8080/"
        },
        "id": "ZIJjzAQxfnsp",
        "outputId": "11a9cf62-98d8-4de3-9cec-1c040577ac51"
      },
      "outputs": [
        {
          "name": "stdout",
          "output_type": "stream",
          "text": [
            "p-value = 0.000\n",
            "p-значение меньше, чем заданный уровень значимости 0.05. Отвергаем нулевую гипотезу в пользу альтернативной.\n"
          ]
        }
      ],
      "source": [
        "# проводим тест\n",
        "_, p = stats.kruskal(salary_S, salary_M, salary_L)\n",
        "decision_hypothesis(p)"
      ]
    },
    {
      "attachments": {},
      "cell_type": "markdown",
      "metadata": {
        "id": "TESdSdapPblj"
      },
      "source": [
        "**Вывод**\n",
        "\n",
        "Уровень заработной платы зависит от размера компании."
      ]
    },
    {
      "attachments": {},
      "cell_type": "markdown",
      "metadata": {
        "id": "C_BzXnR7l7Zh"
      },
      "source": [
        "### Есть ли взаимосвязь между наличием должностей Data Scientist и Data Engineer и  размером компании?"
      ]
    },
    {
      "attachments": {},
      "cell_type": "markdown",
      "metadata": {
        "id": "nTL6_EGyl7Zh"
      },
      "source": [
        "**Сформулируем нулевую и альтернативные гипотезы**\n",
        "\n",
        "*Нулевая гипотеза*: между размером компании, и наличием должностей Data Scientist и Data Engineer нет взаимосвязи (признаки независимы).\n",
        "\n",
        "*Альтернативная гипотеза*: между размером компании, и наличием должностей Data Scientist и Data Engineer есть взаимосвязь (признаки зависимы).\n"
      ]
    },
    {
      "attachments": {},
      "cell_type": "markdown",
      "metadata": {
        "id": "JBDWUoufl7Zh"
      },
      "source": [
        "**Выберем подходящий статистический тест**\n",
        "\n",
        "Для выбора нужного теста воспользуемся алгоритмом выбора теста. Для этого ответим на следующие вопросы:\n",
        "* Какой тип у признака \"Специальность»? — Категориальный.\n",
        "* Сколько сравниваемых групп? — Две.\n",
        "* Проверяется независимость групп? — Да.\n",
        "\n",
        "Для проверки нашей гипотезы можно использовать критерий ${\\chi}^2$ (хи-квадрат).\n",
        "\n",
        "**Проведём тест**"
      ]
    },
    {
      "cell_type": "code",
      "execution_count": 32,
      "metadata": {
        "colab": {
          "base_uri": "https://localhost:8080/",
          "height": 143
        },
        "id": "Hs4I-87_l7Zh",
        "outputId": "3c863879-9c55-497e-de9e-16dff9c07675"
      },
      "outputs": [
        {
          "data": {
            "text/html": [
              "<div>\n",
              "<style scoped>\n",
              "    .dataframe tbody tr th:only-of-type {\n",
              "        vertical-align: middle;\n",
              "    }\n",
              "\n",
              "    .dataframe tbody tr th {\n",
              "        vertical-align: top;\n",
              "    }\n",
              "\n",
              "    .dataframe thead th {\n",
              "        text-align: right;\n",
              "    }\n",
              "</style>\n",
              "<table border=\"1\" class=\"dataframe\">\n",
              "  <thead>\n",
              "    <tr style=\"text-align: right;\">\n",
              "      <th>job_title</th>\n",
              "      <th>Data Engineer</th>\n",
              "      <th>Data Scientist</th>\n",
              "    </tr>\n",
              "    <tr>\n",
              "      <th>company_size</th>\n",
              "      <th></th>\n",
              "      <th></th>\n",
              "    </tr>\n",
              "  </thead>\n",
              "  <tbody>\n",
              "    <tr>\n",
              "      <th>L</th>\n",
              "      <td>37</td>\n",
              "      <td>45</td>\n",
              "    </tr>\n",
              "    <tr>\n",
              "      <th>M</th>\n",
              "      <td>89</td>\n",
              "      <td>77</td>\n",
              "    </tr>\n",
              "    <tr>\n",
              "      <th>S</th>\n",
              "      <td>6</td>\n",
              "      <td>21</td>\n",
              "    </tr>\n",
              "  </tbody>\n",
              "</table>\n",
              "</div>"
            ],
            "text/plain": [
              "job_title     Data Engineer  Data Scientist\n",
              "company_size                               \n",
              "L                        37              45\n",
              "M                        89              77\n",
              "S                         6              21"
            ]
          },
          "execution_count": 32,
          "metadata": {},
          "output_type": "execute_result"
        }
      ],
      "source": [
        "# составляем таблицу сопряжённости\n",
        "cross_table = pd.crosstab(data_dsde['company_size'], data_dsde['job_title'])\n",
        "\n",
        "cross_table"
      ]
    },
    {
      "cell_type": "code",
      "execution_count": 33,
      "metadata": {
        "colab": {
          "base_uri": "https://localhost:8080/"
        },
        "id": "QluLlU6Kl7Zh",
        "outputId": "93379b4f-594d-45a6-8283-733c181331fd"
      },
      "outputs": [
        {
          "name": "stdout",
          "output_type": "stream",
          "text": [
            "p-value = 0.008\n",
            "p-значение меньше, чем заданный уровень значимости 0.05. Отвергаем нулевую гипотезу в пользу альтернативной.\n"
          ]
        }
      ],
      "source": [
        "# проводим тест\n",
        "_, p, _, _ = stats.chi2_contingency(cross_table)\n",
        "decision_hypothesis(p)"
      ]
    },
    {
      "attachments": {},
      "cell_type": "markdown",
      "metadata": {
        "id": "iX8a9h8Dl7Zh"
      },
      "source": [
        "**Вывод**\n",
        "\n",
        "Существует статистически значимая взаимосвязь между размером компании и наличием в ней должностей Data Scientist и  Data Engineer."
      ]
    },
    {
      "attachments": {},
      "cell_type": "markdown",
      "metadata": {
        "id": "weubXekLfsQX"
      },
      "source": [
        "## Итоговые результаты исследования\n",
        "\n",
        "*   Нет оснований утверждать, что размер заработной платы Data Scientist растет.\n",
        "*   Уровень заработной платы зависит от опыта работы специалистов.\n",
        "*   Уровень заработной платы зависит от размера компании.\n",
        "*   Существует взаимосвязь между размером компании и наличием в ней должностей Data Scientist и  Data Engineer"
      ]
    },
    {
      "attachments": {},
      "cell_type": "markdown",
      "metadata": {},
      "source": [
        "### Дополнительное исследование\n",
        "\n",
        "Работаем с копией исходного датасета data_copy"
      ]
    },
    {
      "cell_type": "code",
      "execution_count": 34,
      "metadata": {},
      "outputs": [
        {
          "data": {
            "image/png": "[encoded data removed]",
            "text/plain": [
              "<Figure size 1500x500 with 2 Axes>"
            ]
          },
          "metadata": {},
          "output_type": "display_data"
        }
      ],
      "source": [
        "fig, axes = plt.subplots(1, 2, figsize=(15, 5))\n",
        "\n",
        "sns.histplot(data_copy['salary_in_usd'], kde=True, ax=axes[0])\n",
        "axes[0].set(xlabel='Сумма заработной платы ', ylabel='Частота')\n",
        "axes[0].set_title('Размер заработной платы ')\n",
        "axes[0].axvline(data_ds['salary_in_usd'].mean(), color='red', linestyle='--', linewidth=0.8)\n",
        "\n",
        "sns.boxplot(data_ds['salary_in_usd'], ax=axes[1], orient='h', medianprops={\"color\": \"red\", \"linestyle\": '--'})\n",
        "axes[1].set(ylabel='Размер заработной платы ')\n",
        "axes[1].set_title('Распределение платы для всех специалистов')\n",
        "\n",
        "plt.show()"
      ]
    },
    {
      "attachments": {},
      "cell_type": "markdown",
      "metadata": {},
      "source": [
        "Распределение заработной платы отлично от нормального, имеются выбросы."
      ]
    },
    {
      "cell_type": "code",
      "execution_count": 35,
      "metadata": {},
      "outputs": [
        {
          "name": "stdout",
          "output_type": "stream",
          "text": [
            "<class 'pandas.core.frame.DataFrame'>\n",
            "RangeIndex: 607 entries, 0 to 606\n",
            "Data columns (total 12 columns):\n",
            " #   Column              Non-Null Count  Dtype \n",
            "---  ------              --------------  ----- \n",
            " 0   Unnamed: 0          607 non-null    int64 \n",
            " 1   work_year           607 non-null    int64 \n",
            " 2   experience_level    607 non-null    object\n",
            " 3   employment_type     607 non-null    object\n",
            " 4   job_title           607 non-null    object\n",
            " 5   salary              607 non-null    int64 \n",
            " 6   salary_currency     607 non-null    object\n",
            " 7   salary_in_usd       607 non-null    int64 \n",
            " 8   employee_residence  607 non-null    object\n",
            " 9   remote_ratio        607 non-null    int64 \n",
            " 10  company_location    607 non-null    object\n",
            " 11  company_size        607 non-null    object\n",
            "dtypes: int64(5), object(7)\n",
            "memory usage: 57.0+ KB\n"
          ]
        }
      ],
      "source": [
        "data_copy.info()"
      ]
    },
    {
      "attachments": {},
      "cell_type": "markdown",
      "metadata": {},
      "source": [
        "## Анализ влияния типа занятости на зарплату специалистов"
      ]
    },
    {
      "cell_type": "code",
      "execution_count": 37,
      "metadata": {},
      "outputs": [
        {
          "data": {
            "image/png": "[encoded data removed]",
            "text/plain": [
              "<Figure size 640x480 with 1 Axes>"
            ]
          },
          "metadata": {},
          "output_type": "display_data"
        }
      ],
      "source": [
        "#Рассматриваем влияние типа занятости на размер заработной платы \n",
        "ax = sns.boxplot(data_copy, x='salary_in_usd', y='employment_type', orient='h', medianprops={\"color\": \"red\", \"linestyle\": '--'})\n",
        "ax.set(xlabel='Заработная плата ', ylabel='Тип занятости')\n",
        "plt.title('Зависимость заработной платы типа занятости')\n",
        "plt.show()"
      ]
    },
    {
      "cell_type": "code",
      "execution_count": 38,
      "metadata": {},
      "outputs": [
        {
          "name": "stdout",
          "output_type": "stream",
          "text": [
            "Заработная плата в зависимости от типа занятости\n"
          ]
        },
        {
          "data": {
            "text/html": [
              "<div>\n",
              "<style scoped>\n",
              "    .dataframe tbody tr th:only-of-type {\n",
              "        vertical-align: middle;\n",
              "    }\n",
              "\n",
              "    .dataframe tbody tr th {\n",
              "        vertical-align: top;\n",
              "    }\n",
              "\n",
              "    .dataframe thead th {\n",
              "        text-align: right;\n",
              "    }\n",
              "</style>\n",
              "<table border=\"1\" class=\"dataframe\">\n",
              "  <thead>\n",
              "    <tr style=\"text-align: right;\">\n",
              "      <th></th>\n",
              "      <th>count</th>\n",
              "      <th>mean</th>\n",
              "      <th>std</th>\n",
              "      <th>min</th>\n",
              "      <th>25%</th>\n",
              "      <th>50%</th>\n",
              "      <th>75%</th>\n",
              "      <th>max</th>\n",
              "    </tr>\n",
              "    <tr>\n",
              "      <th>employment_type</th>\n",
              "      <th></th>\n",
              "      <th></th>\n",
              "      <th></th>\n",
              "      <th></th>\n",
              "      <th></th>\n",
              "      <th></th>\n",
              "      <th></th>\n",
              "      <th></th>\n",
              "    </tr>\n",
              "  </thead>\n",
              "  <tbody>\n",
              "    <tr>\n",
              "      <th>CT</th>\n",
              "      <td>5.0</td>\n",
              "      <td>184575.00</td>\n",
              "      <td>156250.89</td>\n",
              "      <td>31875.0</td>\n",
              "      <td>100000.00</td>\n",
              "      <td>105000.0</td>\n",
              "      <td>270000.0</td>\n",
              "      <td>416000.0</td>\n",
              "    </tr>\n",
              "    <tr>\n",
              "      <th>FL</th>\n",
              "      <td>4.0</td>\n",
              "      <td>48000.00</td>\n",
              "      <td>40529.82</td>\n",
              "      <td>12000.0</td>\n",
              "      <td>18000.00</td>\n",
              "      <td>40000.0</td>\n",
              "      <td>70000.0</td>\n",
              "      <td>100000.0</td>\n",
              "    </tr>\n",
              "    <tr>\n",
              "      <th>FT</th>\n",
              "      <td>588.0</td>\n",
              "      <td>113468.07</td>\n",
              "      <td>69476.47</td>\n",
              "      <td>2859.0</td>\n",
              "      <td>64962.25</td>\n",
              "      <td>104196.5</td>\n",
              "      <td>150000.0</td>\n",
              "      <td>600000.0</td>\n",
              "    </tr>\n",
              "    <tr>\n",
              "      <th>PT</th>\n",
              "      <td>10.0</td>\n",
              "      <td>33070.50</td>\n",
              "      <td>31472.91</td>\n",
              "      <td>5409.0</td>\n",
              "      <td>12000.00</td>\n",
              "      <td>18817.5</td>\n",
              "      <td>48370.0</td>\n",
              "      <td>100000.0</td>\n",
              "    </tr>\n",
              "  </tbody>\n",
              "</table>\n",
              "</div>"
            ],
            "text/plain": [
              "                 count       mean        std      min        25%       50%  \\\n",
              "employment_type                                                              \n",
              "CT                 5.0  184575.00  156250.89  31875.0  100000.00  105000.0   \n",
              "FL                 4.0   48000.00   40529.82  12000.0   18000.00   40000.0   \n",
              "FT               588.0  113468.07   69476.47   2859.0   64962.25  104196.5   \n",
              "PT                10.0   33070.50   31472.91   5409.0   12000.00   18817.5   \n",
              "\n",
              "                      75%       max  \n",
              "employment_type                      \n",
              "CT               270000.0  416000.0  \n",
              "FL                70000.0  100000.0  \n",
              "FT               150000.0  600000.0  \n",
              "PT                48370.0  100000.0  "
            ]
          },
          "execution_count": 38,
          "metadata": {},
          "output_type": "execute_result"
        }
      ],
      "source": [
        "data_agg = data_copy.groupby('employment_type')['salary_in_usd'].describe().round(2)\n",
        "print('Заработная плата в зависимости от типа занятости')\n",
        "data_agg"
      ]
    },
    {
      "attachments": {},
      "cell_type": "markdown",
      "metadata": {},
      "source": [
        "# Выводы\n",
        "Тип занятости существенно влияет на уровень зарплаты специалистов. Чтобы определить, являются ли эти различия статистически значимыми, проведём статистическое тестирование."
      ]
    },
    {
      "attachments": {},
      "cell_type": "markdown",
      "metadata": {},
      "source": [
        "### Влияет ли тип занятости на размер заработной платы специалистов ?\n",
        "\n",
        "\n",
        "**Сформулируем нулевую и альтернативные гипотезы**\n",
        "\n",
        "*Нулевая гипотеза* ($H_0$): Уровни заработной платы у полностьью занятых (FT) ($μ_1$), работающих неполный день (PT)($μ_2$), контрактников (CT)($μ_3$) и фрилансеров (FL) ($μ_4$) одинаковы.\n",
        "\n",
        "$$ H_0 : μ_1 = μ_2 = μ_3= μ_4$$\n",
        "\n",
        "*Альтернативная гипотеза* ($H_1$):Уровни заработной платы у полностьью занятых (FT) ($μ_1$), работающих неполный день (PT)($μ_2$), контрактников (CT)($μ_3$) и фрилансеров (FL) ($μ_4$) неодинаковы .\n",
        "\n",
        "$$ H_1 : μ_1 \\neq μ_2 \\neq μ_3\\neq μ_4$$\n"
      ]
    },
    {
      "attachments": {},
      "cell_type": "markdown",
      "metadata": {},
      "source": [
        "**Проверка на нормальность**\n",
        "\n",
        "С помощью теста Шапиро-Уилка проверим, распределён ли признак нормально."
      ]
    },
    {
      "cell_type": "code",
      "execution_count": 39,
      "metadata": {},
      "outputs": [
        {
          "name": "stdout",
          "output_type": "stream",
          "text": [
            "Для FT:\n",
            "p-value = 0.000\n",
            "p-значение меньше, чем заданный уровень значимости 0.05. Распределение отлично от нормального\n",
            "Для PT:\n",
            "p-value = 0.023\n",
            "p-значение меньше, чем заданный уровень значимости 0.05. Распределение отлично от нормального\n",
            "Для CT:\n",
            "p-value = 0.406\n",
            "p-значение больше, чем заданный уровень значимости 0.05. Распределение является нормальным\n",
            "Для FL:\n",
            "p-value = 0.507\n",
            "p-значение больше, чем заданный уровень значимости 0.05. Распределение является нормальным\n"
          ]
        }
      ],
      "source": [
        "# значения заработной платы \n",
        "salary_FT = data_copy.loc[data_copy['employment_type']=='FT', 'salary_in_usd']\n",
        "salary_PT = data_copy.loc[data_copy['employment_type']=='PT', 'salary_in_usd']\n",
        "salary_CT = data_copy.loc[data_copy['employment_type']=='CT', 'salary_in_usd']\n",
        "salary_FL = data_copy.loc[data_copy['employment_type']=='FL', 'salary_in_usd']\n",
        "\n",
        "# проводим тест Шапиро-Уилка\n",
        "print('Для FT:')\n",
        "result = stats.shapiro(salary_FT)\n",
        "decision_normality(result[1])\n",
        "\n",
        "print('Для PT:')\n",
        "result = stats.shapiro(salary_PT)\n",
        "decision_normality(result[1])\n",
        "\n",
        "print('Для CT:')\n",
        "result = stats.shapiro(salary_CT)\n",
        "decision_normality(result[1])\n",
        "\n",
        "print('Для FL:')\n",
        "result = stats.shapiro(salary_FL)\n",
        "decision_normality(result[1])"
      ]
    },
    {
      "attachments": {},
      "cell_type": "markdown",
      "metadata": {},
      "source": [
        "**Выберем подходящий статистический тест**\n",
        "\n",
        "Для выбора нужного теста воспользуемся алгоритмом выбора теста. Для этого ответим на следующие вопросы:\n",
        "* Какой тип у признака «Размер заработной платы»? — Количественный.\n",
        "* Сколько сравниваемых групп? — Четыре.\n",
        "* Группы зависимы? — Нет.\n",
        "* Признак распределён по нормальному закону? — Нет.\n",
        "\n",
        "Для проверки нашей гипотезы можно использовать Краскела — Уоллеса.\n",
        "\n",
        "**Проведём тест**"
      ]
    },
    {
      "cell_type": "code",
      "execution_count": 40,
      "metadata": {},
      "outputs": [
        {
          "name": "stdout",
          "output_type": "stream",
          "text": [
            "p-value = 0.000\n",
            "p-значение меньше, чем заданный уровень значимости 0.05. Отвергаем нулевую гипотезу в пользу альтернативной.\n"
          ]
        }
      ],
      "source": [
        "# проводим тест\n",
        "_, p = stats.kruskal(salary_FT, salary_PT, salary_CT, salary_FL)\n",
        "decision_hypothesis(p)"
      ]
    },
    {
      "attachments": {},
      "cell_type": "markdown",
      "metadata": {},
      "source": [
        "**Вывод**\n",
        "\n",
        "Уровень заработной платы зависит от типа занятости специалистов."
      ]
    },
    {
      "cell_type": "code",
      "execution_count": 41,
      "metadata": {},
      "outputs": [
        {
          "data": {
            "text/html": [
              "<div>\n",
              "<style scoped>\n",
              "    .dataframe tbody tr th:only-of-type {\n",
              "        vertical-align: middle;\n",
              "    }\n",
              "\n",
              "    .dataframe tbody tr th {\n",
              "        vertical-align: top;\n",
              "    }\n",
              "\n",
              "    .dataframe thead th {\n",
              "        text-align: right;\n",
              "    }\n",
              "</style>\n",
              "<table border=\"1\" class=\"dataframe\">\n",
              "  <thead>\n",
              "    <tr style=\"text-align: right;\">\n",
              "      <th></th>\n",
              "      <th>Unnamed: 0</th>\n",
              "      <th>work_year</th>\n",
              "      <th>experience_level</th>\n",
              "      <th>employment_type</th>\n",
              "      <th>job_title</th>\n",
              "      <th>salary</th>\n",
              "      <th>salary_currency</th>\n",
              "      <th>salary_in_usd</th>\n",
              "      <th>employee_residence</th>\n",
              "      <th>remote_ratio</th>\n",
              "      <th>company_location</th>\n",
              "      <th>company_size</th>\n",
              "    </tr>\n",
              "  </thead>\n",
              "  <tbody>\n",
              "    <tr>\n",
              "      <th>0</th>\n",
              "      <td>0</td>\n",
              "      <td>2020</td>\n",
              "      <td>MI</td>\n",
              "      <td>FT</td>\n",
              "      <td>Data Scientist</td>\n",
              "      <td>70000</td>\n",
              "      <td>EUR</td>\n",
              "      <td>79833</td>\n",
              "      <td>DE</td>\n",
              "      <td>0</td>\n",
              "      <td>DE</td>\n",
              "      <td>L</td>\n",
              "    </tr>\n",
              "    <tr>\n",
              "      <th>1</th>\n",
              "      <td>1</td>\n",
              "      <td>2020</td>\n",
              "      <td>SE</td>\n",
              "      <td>FT</td>\n",
              "      <td>Machine Learning Scientist</td>\n",
              "      <td>260000</td>\n",
              "      <td>USD</td>\n",
              "      <td>260000</td>\n",
              "      <td>JP</td>\n",
              "      <td>0</td>\n",
              "      <td>JP</td>\n",
              "      <td>S</td>\n",
              "    </tr>\n",
              "    <tr>\n",
              "      <th>2</th>\n",
              "      <td>2</td>\n",
              "      <td>2020</td>\n",
              "      <td>SE</td>\n",
              "      <td>FT</td>\n",
              "      <td>Big Data Engineer</td>\n",
              "      <td>85000</td>\n",
              "      <td>GBP</td>\n",
              "      <td>109024</td>\n",
              "      <td>GB</td>\n",
              "      <td>50</td>\n",
              "      <td>GB</td>\n",
              "      <td>M</td>\n",
              "    </tr>\n",
              "    <tr>\n",
              "      <th>3</th>\n",
              "      <td>3</td>\n",
              "      <td>2020</td>\n",
              "      <td>MI</td>\n",
              "      <td>FT</td>\n",
              "      <td>Product Data Analyst</td>\n",
              "      <td>20000</td>\n",
              "      <td>USD</td>\n",
              "      <td>20000</td>\n",
              "      <td>HN</td>\n",
              "      <td>0</td>\n",
              "      <td>HN</td>\n",
              "      <td>S</td>\n",
              "    </tr>\n",
              "    <tr>\n",
              "      <th>4</th>\n",
              "      <td>4</td>\n",
              "      <td>2020</td>\n",
              "      <td>SE</td>\n",
              "      <td>FT</td>\n",
              "      <td>Machine Learning Engineer</td>\n",
              "      <td>150000</td>\n",
              "      <td>USD</td>\n",
              "      <td>150000</td>\n",
              "      <td>US</td>\n",
              "      <td>50</td>\n",
              "      <td>US</td>\n",
              "      <td>L</td>\n",
              "    </tr>\n",
              "  </tbody>\n",
              "</table>\n",
              "</div>"
            ],
            "text/plain": [
              "   Unnamed: 0  work_year experience_level employment_type  \\\n",
              "0           0       2020               MI              FT   \n",
              "1           1       2020               SE              FT   \n",
              "2           2       2020               SE              FT   \n",
              "3           3       2020               MI              FT   \n",
              "4           4       2020               SE              FT   \n",
              "\n",
              "                    job_title  salary salary_currency  salary_in_usd  \\\n",
              "0              Data Scientist   70000             EUR          79833   \n",
              "1  Machine Learning Scientist  260000             USD         260000   \n",
              "2           Big Data Engineer   85000             GBP         109024   \n",
              "3        Product Data Analyst   20000             USD          20000   \n",
              "4   Machine Learning Engineer  150000             USD         150000   \n",
              "\n",
              "  employee_residence  remote_ratio company_location company_size  \n",
              "0                 DE             0               DE            L  \n",
              "1                 JP             0               JP            S  \n",
              "2                 GB            50               GB            M  \n",
              "3                 HN             0               HN            S  \n",
              "4                 US            50               US            L  "
            ]
          },
          "execution_count": 41,
          "metadata": {},
          "output_type": "execute_result"
        }
      ],
      "source": [
        "#Подготовка данных для анализа зависимости зарплаты и объема удаленной работы\n",
        "data_copy.head()"
      ]
    },
    {
      "cell_type": "code",
      "execution_count": 44,
      "metadata": {},
      "outputs": [
        {
          "data": {
            "text/html": [
              "<div>\n",
              "<style scoped>\n",
              "    .dataframe tbody tr th:only-of-type {\n",
              "        vertical-align: middle;\n",
              "    }\n",
              "\n",
              "    .dataframe tbody tr th {\n",
              "        vertical-align: top;\n",
              "    }\n",
              "\n",
              "    .dataframe thead th {\n",
              "        text-align: right;\n",
              "    }\n",
              "</style>\n",
              "<table border=\"1\" class=\"dataframe\">\n",
              "  <thead>\n",
              "    <tr style=\"text-align: right;\">\n",
              "      <th></th>\n",
              "      <th>Unnamed: 0</th>\n",
              "      <th>work_year</th>\n",
              "      <th>experience_level</th>\n",
              "      <th>employment_type</th>\n",
              "      <th>job_title</th>\n",
              "      <th>salary</th>\n",
              "      <th>salary_currency</th>\n",
              "      <th>salary_in_usd</th>\n",
              "      <th>employee_residence</th>\n",
              "      <th>remote_ratio</th>\n",
              "      <th>company_location</th>\n",
              "      <th>company_size</th>\n",
              "    </tr>\n",
              "  </thead>\n",
              "  <tbody>\n",
              "    <tr>\n",
              "      <th>0</th>\n",
              "      <td>0</td>\n",
              "      <td>2020</td>\n",
              "      <td>MI</td>\n",
              "      <td>FT</td>\n",
              "      <td>Data Scientist</td>\n",
              "      <td>70000</td>\n",
              "      <td>EUR</td>\n",
              "      <td>79833</td>\n",
              "      <td>DE</td>\n",
              "      <td>ZR</td>\n",
              "      <td>DE</td>\n",
              "      <td>L</td>\n",
              "    </tr>\n",
              "    <tr>\n",
              "      <th>1</th>\n",
              "      <td>1</td>\n",
              "      <td>2020</td>\n",
              "      <td>SE</td>\n",
              "      <td>FT</td>\n",
              "      <td>Machine Learning Scientist</td>\n",
              "      <td>260000</td>\n",
              "      <td>USD</td>\n",
              "      <td>260000</td>\n",
              "      <td>JP</td>\n",
              "      <td>ZR</td>\n",
              "      <td>JP</td>\n",
              "      <td>S</td>\n",
              "    </tr>\n",
              "    <tr>\n",
              "      <th>2</th>\n",
              "      <td>2</td>\n",
              "      <td>2020</td>\n",
              "      <td>SE</td>\n",
              "      <td>FT</td>\n",
              "      <td>Big Data Engineer</td>\n",
              "      <td>85000</td>\n",
              "      <td>GBP</td>\n",
              "      <td>109024</td>\n",
              "      <td>GB</td>\n",
              "      <td>HF</td>\n",
              "      <td>GB</td>\n",
              "      <td>M</td>\n",
              "    </tr>\n",
              "    <tr>\n",
              "      <th>3</th>\n",
              "      <td>3</td>\n",
              "      <td>2020</td>\n",
              "      <td>MI</td>\n",
              "      <td>FT</td>\n",
              "      <td>Product Data Analyst</td>\n",
              "      <td>20000</td>\n",
              "      <td>USD</td>\n",
              "      <td>20000</td>\n",
              "      <td>HN</td>\n",
              "      <td>ZR</td>\n",
              "      <td>HN</td>\n",
              "      <td>S</td>\n",
              "    </tr>\n",
              "    <tr>\n",
              "      <th>4</th>\n",
              "      <td>4</td>\n",
              "      <td>2020</td>\n",
              "      <td>SE</td>\n",
              "      <td>FT</td>\n",
              "      <td>Machine Learning Engineer</td>\n",
              "      <td>150000</td>\n",
              "      <td>USD</td>\n",
              "      <td>150000</td>\n",
              "      <td>US</td>\n",
              "      <td>HF</td>\n",
              "      <td>US</td>\n",
              "      <td>L</td>\n",
              "    </tr>\n",
              "  </tbody>\n",
              "</table>\n",
              "</div>"
            ],
            "text/plain": [
              "   Unnamed: 0  work_year experience_level employment_type  \\\n",
              "0           0       2020               MI              FT   \n",
              "1           1       2020               SE              FT   \n",
              "2           2       2020               SE              FT   \n",
              "3           3       2020               MI              FT   \n",
              "4           4       2020               SE              FT   \n",
              "\n",
              "                    job_title  salary salary_currency  salary_in_usd  \\\n",
              "0              Data Scientist   70000             EUR          79833   \n",
              "1  Machine Learning Scientist  260000             USD         260000   \n",
              "2           Big Data Engineer   85000             GBP         109024   \n",
              "3        Product Data Analyst   20000             USD          20000   \n",
              "4   Machine Learning Engineer  150000             USD         150000   \n",
              "\n",
              "  employee_residence remote_ratio company_location company_size  \n",
              "0                 DE           ZR               DE            L  \n",
              "1                 JP           ZR               JP            S  \n",
              "2                 GB           HF               GB            M  \n",
              "3                 HN           ZR               HN            S  \n",
              "4                 US           HF               US            L  "
            ]
          },
          "execution_count": 44,
          "metadata": {},
          "output_type": "execute_result"
        }
      ],
      "source": [
        "#Заменяем численные значения в столбце, описывающем объем работы, выполненной удаленно\n",
        "data_copy['remote_ratio'] = data_copy['remote_ratio'].replace([0,50,100], ['ZR', 'HF','FL'])\n",
        "data_copy.head()"
      ]
    },
    {
      "attachments": {},
      "cell_type": "markdown",
      "metadata": {},
      "source": [
        "## Анализ влияния объема удаленной работы на зарплату специалистов"
      ]
    },
    {
      "cell_type": "code",
      "execution_count": 45,
      "metadata": {},
      "outputs": [
        {
          "data": {
            "image/png": "[encoded data removed]",
            "text/plain": [
              "<Figure size 640x480 with 1 Axes>"
            ]
          },
          "metadata": {},
          "output_type": "display_data"
        }
      ],
      "source": [
        "#Рассматриваем влияние объема удаленной работы на размер заработной платы \n",
        "ax = sns.boxplot(data_copy, x='salary_in_usd', y='remote_ratio', orient='h', medianprops={\"color\": \"red\", \"linestyle\": '--'})\n",
        "ax.set(xlabel='Заработная плата ', ylabel='Тип занятости')\n",
        "plt.title('Зависимость заработной платы от объема удаленной работы')\n",
        "plt.show()"
      ]
    },
    {
      "attachments": {},
      "cell_type": "markdown",
      "metadata": {},
      "source": [
        "# Выводы\n",
        "Объем удаленной работы влияет на уровень зарплаты специалистов. Чтобы определить, являются ли эти различия статистически значимыми, проведём статистическое тестирование."
      ]
    },
    {
      "attachments": {},
      "cell_type": "markdown",
      "metadata": {},
      "source": [
        "### Влияет ли объем удаленной работы на размер заработной платы специалистов ?\n",
        "\n",
        "\n",
        "**Сформулируем нулевую и альтернативные гипотезы**\n",
        "\n",
        "*Нулевая гипотеза* ($H_0$): Уровни заработной платы у специалистов, у которых удалённой работы нет (менее 20 %)(ZR)($μ_1$), у специалистов, работающих частично удалённо(HF)($μ_2$), у специалистов, полностью работающих удалённо (более 80 %)(FL)($μ_3$) одинаковы.\n",
        "\n",
        "$$ H_0 : μ_1 = μ_2 = μ_3$$\n",
        "\n",
        "*Альтернативная гипотеза* ($H_1$):Уровни заработной платы у специалистов, у которых удалённой работы нет (менее 20 %)(ZR)($μ_1$), у специалистов, работающих частично удалённо(HF)($μ_2$), у специалистов, полностью работающих удалённо (более 80 %)(FL)($μ_3$) неодинаковы.\n",
        "\n",
        "$$ H_1 : μ_1 \\neq μ_2 \\neq μ_3$$\n"
      ]
    },
    {
      "attachments": {},
      "cell_type": "markdown",
      "metadata": {},
      "source": [
        "**Проверка на нормальность**\n",
        "\n",
        "С помощью теста Шапиро-Уилка проверим, распределён ли признак нормально."
      ]
    },
    {
      "cell_type": "code",
      "execution_count": 46,
      "metadata": {},
      "outputs": [
        {
          "name": "stdout",
          "output_type": "stream",
          "text": [
            "Для ZR:\n",
            "p-value = 0.000\n",
            "p-значение меньше, чем заданный уровень значимости 0.05. Распределение отлично от нормального\n",
            "Для HF:\n",
            "p-value = 0.000\n",
            "p-значение меньше, чем заданный уровень значимости 0.05. Распределение отлично от нормального\n",
            "Для FL:\n",
            "p-value = 0.000\n",
            "p-значение меньше, чем заданный уровень значимости 0.05. Распределение отлично от нормального\n"
          ]
        }
      ],
      "source": [
        "# значения заработной платы \n",
        "salary_ZR = data_copy.loc[data_copy['remote_ratio']=='ZR', 'salary_in_usd']\n",
        "salary_HF = data_copy.loc[data_copy['remote_ratio']=='HF', 'salary_in_usd']\n",
        "salary_FL = data_copy.loc[data_copy['remote_ratio']=='FL', 'salary_in_usd']\n",
        "\n",
        "\n",
        "# проводим тест Шапиро-Уилка\n",
        "print('Для ZR:')\n",
        "result = stats.shapiro(salary_ZR)\n",
        "decision_normality(result[1])\n",
        "\n",
        "print('Для HF:')\n",
        "result = stats.shapiro(salary_HF)\n",
        "decision_normality(result[1])\n",
        "\n",
        "print('Для FL:')\n",
        "result = stats.shapiro(salary_FL)\n",
        "decision_normality(result[1])\n"
      ]
    },
    {
      "attachments": {},
      "cell_type": "markdown",
      "metadata": {},
      "source": [
        "**Выберем подходящий статистический тест**\n",
        "\n",
        "Для выбора нужного теста воспользуемся алгоритмом выбора теста. Для этого ответим на следующие вопросы:\n",
        "* Какой тип у признака «Размер заработной платы»? — Количественный.\n",
        "* Сколько сравниваемых групп? — Три.\n",
        "* Группы зависимы? — Нет.\n",
        "* Признак распределён по нормальному закону? — Нет.\n",
        "\n",
        "Для проверки нашей гипотезы можно использовать Краскела — Уоллеса.\n",
        "\n",
        "**Проведём тест**"
      ]
    },
    {
      "cell_type": "code",
      "execution_count": 47,
      "metadata": {},
      "outputs": [
        {
          "name": "stdout",
          "output_type": "stream",
          "text": [
            "p-value = 0.000\n",
            "p-значение меньше, чем заданный уровень значимости 0.05. Отвергаем нулевую гипотезу в пользу альтернативной.\n"
          ]
        }
      ],
      "source": [
        "# проводим тест\n",
        "_, p = stats.kruskal(salary_ZR, salary_HF, salary_FL)\n",
        "decision_hypothesis(p)"
      ]
    },
    {
      "attachments": {},
      "cell_type": "markdown",
      "metadata": {},
      "source": [
        "**Вывод**\n",
        "\n",
        "Уровень заработной платы зависит от объема удаленной работы."
      ]
    },
    {
      "attachments": {},
      "cell_type": "markdown",
      "metadata": {},
      "source": [
        "# Итоговые результаты дополнительных исследований\n",
        "\n",
        "*   Уровень заработной платы зависит от типа занятости специалистов.\n",
        "*   Уровень заработной платы зависит от объема удаленной работы.\n"
      ]
    }
  ],
  "metadata": {
    "colab": {
      "provenance": []
    },
    "kernelspec": {
      "display_name": "Python 3.10.8 ('base')",
      "language": "python",
      "name": "python3"
    },
    "language_info": {
      "codemirror_mode": {
        "name": "ipython",
        "version": 3
      },
      "file_extension": ".py",
      "mimetype": "text/x-python",
      "name": "python",
      "nbconvert_exporter": "python",
      "pygments_lexer": "ipython3",
      "version": "3.9.10"
    },
    "vscode": {
      "interpreter": {
        "hash": "86c56a74836ad344b00594bf6f38fa6a676a207ceefe20d101fbc465800ccb8d"
      }
    }
  },
  "nbformat": 4,
  "nbformat_minor": 0
}
